{
 "cells": [
  {
   "cell_type": "markdown",
   "metadata": {},
   "source": [
    "# Defining, Training, and Testing Models - Clustering"
   ]
  },
  {
   "cell_type": "markdown",
   "metadata": {},
   "source": [
    "![ml workflow](https://docs.google.com/drawings/d/e/2PACX-1vQ1XLwesZbm_TuDBPFRvbHa4XcjucvtExy3LXE05WnaAw-s6BDVQnnd4lAEUW1Qy6bs6FythuJdFVqP/pub?w=1165&h=662)\n",
    "\n",
    "Let's try out some **Clustering**. A cluster or group is a collection of \"similar\" data points, and a clustering algorithm takes our raw data and outputs these groups. In our example, we will be trying to cluster transportation fleet information from a `fleet_data.csv` CSV. The data represents fleet drivers (via a Driver ID) and the mean distance driven per driver. The data also includes a \"speeding feature,\" which is a percentage of time during which the driver is driving 5+ miles per hour faster than the speed limit. "
   ]
  },
  {
   "cell_type": "markdown",
   "metadata": {},
   "source": [
    "## Imports"
   ]
  },
  {
   "cell_type": "code",
   "execution_count": null,
   "metadata": {},
   "outputs": [],
   "source": [
    "import (\n",
    "    \"fmt\"\n",
    "    \"os\"\n",
    "    \"strings\"\n",
    "    \"encoding/csv\"\n",
    "    \"image/color\"\n",
    "    \"image\"\n",
    "    \"image/png\"\n",
    "    \"io/ioutil\"\n",
    "    \"strconv\"\n",
    "    \n",
    "    \"gonum.org/v1/gonum/floats\"\n",
    "    \"gonum.org/v1/plot\"\n",
    "    \"gonum.org/v1/plot/plotter\"\n",
    "    \"gonum.org/v1/plot/plotutil\"\n",
    "    \"gonum.org/v1/plot/vg\"\n",
    "    \"gonum.org/v1/plot/vg/draw\"\n",
    "    \"github.com/kniren/gota/dataframe\"\n",
    "    \"github.com/mash/gokmeans\"\n",
    ")"
   ]
  },
  {
   "cell_type": "markdown",
   "metadata": {},
   "source": [
    "## Convenience Functions"
   ]
  },
  {
   "cell_type": "code",
   "execution_count": null,
   "metadata": {},
   "outputs": [],
   "source": [
    "// GetGraph returns the bytes corresponding to a\n",
    "// saved plot.\n",
    "func GetGraph(graphName string) ([]byte, error) {\n",
    "    \n",
    "    // Open the file.\n",
    "    infile, err := os.Open(graphName)\n",
    "    if err != nil {\n",
    "        return nil, err\n",
    "    }\n",
    "    \n",
    "    // Read in the contents of the file.\n",
    "    bytes, err := ioutil.ReadAll(infile)\n",
    "    if err != nil {\n",
    "        return nil, err\n",
    "    }\n",
    "    \n",
    "    // Close the file.\n",
    "    infile.Close()\n",
    "    \n",
    "    return bytes, err\n",
    "}"
   ]
  },
  {
   "cell_type": "code",
   "execution_count": null,
   "metadata": {},
   "outputs": [],
   "source": [
    "// graphScatterFromColumns creates a scatter plot from 2 columns,\n",
    "// where the first column will be represented on the y axis.\n",
    "func graphScatterFromColumns(columnA, columnB string, dataset dataframe.DataFrame){\n",
    "    \n",
    "    // Extract the y values. \n",
    "    yVals := dataset.Col(columnA).Float()\n",
    "    \n",
    "    // pts will hold the values for plotting.\n",
    "    pts := make(plotter.XYs, dataset.Nrow())\n",
    "    \n",
    "    // Fill pts with data.\n",
    "    for i, floatVal := range dataset.Col(columnB).Float() {\n",
    "        pts[i].X = floatVal\n",
    "        pts[i].Y = yVals[i]\n",
    "    }\n",
    "   \n",
    "    // Create the plot.\n",
    "    p, err := plot.New()\n",
    "    if err != nil {\n",
    "        fmt.Println(err)\n",
    "    }\n",
    "    p.X.Label.Text = columnB\n",
    "    p.Y.Label.Text = columnA\n",
    "    p.Add(plotter.NewGrid())\n",
    "    s, err := plotter.NewScatter(pts)\n",
    "    if err != nil {\n",
    "        fmt.Println(err)\n",
    "    }\n",
    "    s.GlyphStyle.Color = color.RGBA{R: 255, B: 128, A: 255}\n",
    "    s.GlyphStyle.Radius = vg.Points(3)\n",
    "    \n",
    "    // Save the plot to a PNG file.\n",
    "    p.Add(s)\n",
    "    if err := p.Save(4*vg.Inch, 4*vg.Inch, \"scatter_\"+columnA+\"_vs_\"+columnB+\".png\"); err !=\n",
    "    nil {\n",
    "        fmt.Println(err)\n",
    "    }\n",
    "}"
   ]
  },
  {
   "cell_type": "markdown",
   "metadata": {},
   "source": [
    "## Import the Data"
   ]
  },
  {
   "cell_type": "code",
   "execution_count": null,
   "metadata": {},
   "outputs": [],
   "source": [
    "// Open the file.\n",
    "file, err := os.Open(\"../data/fleet_data.csv\")\n",
    "if err != nil {\n",
    "    fmt.Println(err)\n",
    "}\n",
    "\n",
    "// Read the CSV data into a dataframe.\n",
    "dataset := dataframe.ReadCSV(file)\n",
    "\n",
    "// Close the file.\n",
    "file.Close()\n",
    "\n",
    "// Examine the parsed data.\n",
    "fmt.Println(dataset)"
   ]
  },
  {
   "cell_type": "markdown",
   "metadata": {},
   "source": [
    "## Profile the Data"
   ]
  },
  {
   "cell_type": "code",
   "execution_count": null,
   "metadata": {},
   "outputs": [],
   "source": [
    "// Output the summary statistics for this data set.\n",
    "fmt.Println(dataset.Describe())"
   ]
  },
  {
   "cell_type": "code",
   "execution_count": null,
   "metadata": {},
   "outputs": [],
   "source": [
    "// Create a histogram for each of the features in the dataset.\n",
    "for _, colName := range dataset.Names() {\n",
    "    \n",
    "    // Don't bother with the driver ID.\n",
    "    if colName != \"Driver_ID\" {\n",
    "        \n",
    "        // Create a plotter.Values value and fill it with the\n",
    "        // values from the respective column of the dataframe.\n",
    "        plotVals := make(plotter.Values, dataset.Nrow())\n",
    "        for i, floatVal := range dataset.Col(colName).Float() {\n",
    "            plotVals[i] = floatVal\n",
    "        }\n",
    "\n",
    "        // Make a plot and set its title.\n",
    "        p, err := plot.New()\n",
    "        if err != nil {\n",
    "            fmt.Println(\"error creating plot\",err)\n",
    "        }\n",
    "        p.Title.Text = fmt.Sprintf(\"Histogram of %s\", colName)\n",
    "\n",
    "        // Create a histogram of our values.\n",
    "        h, err := plotter.NewHist(plotVals, 16)\n",
    "        if err != nil {\n",
    "            fmt.Println(\"error creating histogram\",err)\n",
    "        }\n",
    "\n",
    "        // Normalize the histogram.\n",
    "        h.Normalize(1)\n",
    "\n",
    "        // Add the histogram to the plot.\n",
    "        p.Add(h)\n",
    "\n",
    "        // Save the plot to a PNG file.\n",
    "        if err := p.Save(4*vg.Inch, 4*vg.Inch, colName+\"_hist.png\"); err != nil {\n",
    "            fmt.Println(\"error saving\",err)\n",
    "        }\n",
    "    }\n",
    "}"
   ]
  },
  {
   "cell_type": "code",
   "execution_count": null,
   "metadata": {},
   "outputs": [],
   "source": [
    "graphCal, err :=GetGraph(\"Distance_Feature_hist.png\")\n",
    "if err != nil {\n",
    "    fmt.Println(err)\n",
    "}\n",
    "display.PNG(graphCal)"
   ]
  },
  {
   "cell_type": "code",
   "execution_count": null,
   "metadata": {},
   "outputs": [],
   "source": [
    "graphCar, err :=GetGraph(\"Speeding_Feature_hist.png\")\n",
    "if err != nil {\n",
    "    fmt.Println(err)\n",
    "}\n",
    "display.PNG(graphCar)"
   ]
  },
  {
   "cell_type": "code",
   "execution_count": null,
   "metadata": {},
   "outputs": [],
   "source": [
    "// Loop over the dataset creating scatter plots.\n",
    "for _, colNameA := range dataset.Names() {\n",
    "    for _, colNameB := range dataset.Names() {\n",
    "        if colNameA != \"Driver_ID\" && colNameB != \"Driver_ID\" && colNameA != colNameB  {\n",
    "            graphScatterFromColumns(colNameA, colNameB, dataset)\n",
    "        }\n",
    "    }\n",
    "}"
   ]
  },
  {
   "cell_type": "code",
   "execution_count": null,
   "metadata": {},
   "outputs": [],
   "source": [
    "// Display one of the scatter plots.\n",
    "graphCalVCar, err :=GetGraph(\"scatter_Distance_Feature_vs_Speeding_Feature.png\")\n",
    "if err != nil {\n",
    "    fmt.Println(err)\n",
    "}\n",
    "display.PNG(graphCalVCar)"
   ]
  },
  {
   "cell_type": "markdown",
   "metadata": {},
   "source": [
    "## Cluster the data with k-means"
   ]
  },
  {
   "cell_type": "code",
   "execution_count": null,
   "metadata": {},
   "outputs": [],
   "source": [
    "// Initialize a slice of gokmeans.Node's to\n",
    "// hold our input data.\n",
    "var data []gokmeans.Node\n",
    "\n",
    "// Loop over the records creating our slice of\n",
    "// gokmeans.Node's.\n",
    "for _,record := range dataset.Select([]int{1,2}).Records(){\n",
    "    \n",
    "    // Read in our record and check for errors.\n",
    "    if record[0] != \"Distance_Feature\"{\n",
    "        \n",
    "        // Initialize a point.\n",
    "        var point []float64\n",
    "        \n",
    "        // Fill in our point.\n",
    "        for i := 0; i < 2; i++ {\n",
    "            \n",
    "            // Parse the float value.\n",
    "            val, err := strconv.ParseFloat(record[i], 64)\n",
    "            if err != nil {\n",
    "                fmt.Println(err)\n",
    "            }\n",
    "            \n",
    "            // Append this value to our point.\n",
    "            point = append(point, val)\n",
    "        }\n",
    "        \n",
    "        // Append our point to the data.\n",
    "        data = append(data, gokmeans.Node{point[0], point[1]})\n",
    "    }\n",
    "}\n",
    "\n",
    "// Generate our clusters with k-means.\n",
    "success, centroids := gokmeans.Train(data, 2, 50)\n",
    "if !success {\n",
    "   fmt.Println(\"Could not generate clusters\")\n",
    "}\n",
    "\n",
    "// Output the centroids to stdout.\n",
    "fmt.Println(\"The centroids for our clusters are:\")\n",
    "for _, centroid := range centroids {\n",
    "    fmt.Println(centroid)\n",
    "}"
   ]
  },
  {
   "cell_type": "markdown",
   "metadata": {},
   "source": [
    "## Evaluating the generated clusters"
   ]
  },
  {
   "cell_type": "markdown",
   "metadata": {},
   "source": [
    "### Evaluating the clusters visually"
   ]
  },
  {
   "cell_type": "code",
   "execution_count": null,
   "metadata": {},
   "outputs": [],
   "source": [
    "// Extract the distance column.\n",
    "yVals := dataset.Col(\"Distance_Feature\").Float()\n",
    "\n",
    "// clusterOne and clusterTwo will hold the values for plotting.\n",
    "var clusterOne [][]float64\n",
    "var clusterTwo [][]float64\n",
    "\n",
    "// Fill the clusters with data.\n",
    "for i, xVal := range dataset.Col(\"Speeding_Feature\").Float() {\n",
    "    distanceOne := floats.Distance([]float64{yVals[i], xVal}, centroids[0], 2)\n",
    "    distanceTwo := floats.Distance([]float64{yVals[i], xVal}, centroids[1], 2)\n",
    "    if distanceOne < distanceTwo {\n",
    "        clusterOne = append(clusterOne, []float64{yVals[i], xVal})\n",
    "    }else{\n",
    "        clusterTwo = append(clusterTwo, []float64{yVals[i], xVal})\n",
    "    }\n",
    "}\n",
    "\n",
    "// pts* will hold the values for plotting\n",
    "ptsOne := make(plotter.XYs, len(clusterOne))\n",
    "ptsTwo := make(plotter.XYs, len(clusterTwo))\n",
    "\n",
    "// Fill pts with data.\n",
    "for i, point := range clusterOne {\n",
    "    ptsOne[i].X = point[1]\n",
    "    ptsOne[i].Y = point[0]\n",
    "}\n",
    "for i, point := range clusterTwo {\n",
    "    ptsTwo[i].X = point[1]\n",
    "    ptsTwo[i].Y = point[0]\n",
    "}\n",
    "\n",
    "// Create the plot.\n",
    "p, err := plot.New()\n",
    "if err != nil {\n",
    "    fmt.Println(err)\n",
    "}\n",
    "p.X.Label.Text = \"Speeding\"\n",
    "p.Y.Label.Text = \"Distance\"\n",
    "p.Add(plotter.NewGrid())\n",
    "\n",
    "sOne, err := plotter.NewScatter(ptsOne)\n",
    "if err != nil {\n",
    "    fmt.Println(err)\n",
    "}\n",
    "sOne.GlyphStyle.Radius = vg.Points(3)\n",
    "sOne.Color = color.RGBA{255, 0, 0, 255}\n",
    "\n",
    "sTwo, err := plotter.NewScatter(ptsTwo)\n",
    "if err != nil {\n",
    "    fmt.Println(err)\n",
    "}\n",
    "sTwo.GlyphStyle.Radius = vg.Points(3)\n",
    "\n",
    "// Save the plot to a PNG file.\n",
    "p.Add(sOne, sTwo)\n",
    "if err := p.Save(4*vg.Inch, 4*vg.Inch, \"fleet_data_clusters.png\"); err !=nil {\n",
    "    fmt.Println(err)\n",
    "}"
   ]
  },
  {
   "cell_type": "code",
   "execution_count": null,
   "metadata": {},
   "outputs": [],
   "source": [
    "// Display the visual representation of the clusters.\n",
    "graphCalVCar, err :=GetGraph(\"fleet_data_clusters.png\")\n",
    "if err != nil {\n",
    "    fmt.Println(err)\n",
    "}\n",
    "display.PNG(graphCalVCar)"
   ]
  },
  {
   "cell_type": "markdown",
   "metadata": {},
   "source": [
    "### Evaluating the clusters quantitatively "
   ]
  },
  {
   "cell_type": "code",
   "execution_count": null,
   "metadata": {},
   "outputs": [],
   "source": [
    "// withinClusterMean calculates the mean distance between\n",
    "// points in a cluster and the centroid of the cluster.\n",
    "func withinClusterMean(cluster [][]float64, centroid []float64) float64 {\n",
    "\n",
    "    // meanDistance will hold our result.\n",
    "    var meanDistance float64\n",
    "    \n",
    "    // Loop over the points in the cluster.\n",
    "    for _, point := range cluster {\n",
    "        meanDistance += floats.Distance(point, centroid, 2) / float64(len(cluster))\n",
    "    }\n",
    "\n",
    "    return meanDistance\n",
    "}"
   ]
  },
  {
   "cell_type": "code",
   "execution_count": null,
   "metadata": {},
   "outputs": [],
   "source": [
    "// Output our within cluster metrics.\n",
    "fmt.Printf(\"\\nCluster 1 Metric: %0.2f\\n\", withinClusterMean(clusterOne, centroids[0]))\n",
    "fmt.Printf(\"\\nCluster 2 Metric: %0.2f\\n\", withinClusterMean(clusterTwo, centroids[1]))"
   ]
  },
  {
   "cell_type": "markdown",
   "metadata": {},
   "source": [
    "# Exercise: k-means on digits"
   ]
  },
  {
   "cell_type": "markdown",
   "metadata": {},
   "source": [
    "Try the k-means algorithm on some [simple digits data](http://archive.ics.uci.edu/ml/datasets/Pen-Based+Recognition+of+Handwritten+Digits). The digits data consist of 1,797 samples (PNG images of digits) with 64 features, where each of the 64 features is the brightness of one pixel in an 8×8 image. \n",
    "\n",
    "- Load and parse the data (this is done for you already),\n",
    "- then Find k-means clusters (hint - there should be 10, one for each digit in the dataset),\n",
    "- then evaluate the clusters visually and/or quantitatively"
   ]
  },
  {
   "cell_type": "markdown",
   "metadata": {},
   "source": [
    "## Data import and parsing"
   ]
  },
  {
   "cell_type": "markdown",
   "metadata": {},
   "source": [
    "The data is in the file `optImg.zip` in the data folder. Unzip this file. Then define the following functions to import each digit image and vectorize it:"
   ]
  },
  {
   "cell_type": "code",
   "execution_count": null,
   "metadata": {},
   "outputs": [],
   "source": [
    "// loadPng loads and decodes a PNG image.\n",
    "func loadPng(imageName string) (image.Image, error) {\n",
    "    \n",
    "    imgfile, err := os.Open(imageName)\n",
    "    if err != nil {\n",
    "        fmt.Println(\"file not found\",imageName)\n",
    "    }\n",
    "    defer imgfile.Close()\n",
    "    \n",
    "    return png.Decode(imgfile)\n",
    "}"
   ]
  },
  {
   "cell_type": "code",
   "execution_count": null,
   "metadata": {},
   "outputs": [],
   "source": [
    "// vectorizeImage transforms the png digit image into a vector \n",
    "// where each position represents an intensity in a pixel\n",
    "func vectorizeImage(img image.Image, number int) [65]int {\n",
    "    var ret [65]int\n",
    "    for i:=0; i<8; i++ {\n",
    "        for j:=0; j<8; j++ {\n",
    "            \n",
    "            // Parse the RGBA values.\n",
    "            r, g, b, _ := img.At(j,i).RGBA()\n",
    "            \n",
    "            // Use a 256 color palet and 16 contrast augmentation.\n",
    "            v := int((0.299*float64(r) + 0.587*float64(g) + 0.114*float64(b))/4095)\n",
    "            ret[i*8+j] = v\n",
    "        }\n",
    "    }\n",
    "    ret[64] = number\n",
    "    return ret\n",
    "}"
   ]
  },
  {
   "cell_type": "code",
   "execution_count": null,
   "metadata": {},
   "outputs": [],
   "source": [
    "// Here we need to create the dataset. Each image should be a \n",
    "// row in the data set, and there should be 8x8=64 columns\n",
    "// representing each pixel of the image.\n",
    "\n",
    "// Open the files.\n",
    "files, err := ioutil.ReadDir(\"../data/optImg/\")\n",
    "if err != nil {\n",
    "    fmt.Println(err)\n",
    "}\n",
    "\n",
    "// Create a slice of 64 value int slices.\n",
    "var matrix [][65]int\n",
    "\n",
    "// Fill the matrix with the vectorized image data.\n",
    "for _, f := range files {\n",
    "    \n",
    "    // Only parse PNG images.\n",
    "    if strings.HasSuffix(f.Name(), \".png\") {\n",
    "        \n",
    "        // Load the PNG.\n",
    "        img, err := loadPng(\"../data/optImg/\"+f.Name())\n",
    "        if err != nil {\n",
    "            fmt.Println(err)\n",
    "        }\n",
    "        \n",
    "        // Vectorize the image.\n",
    "        arr := strings.Split(strings.Split(f.Name(),\"-\")[1],\".\")\n",
    "        data := vectorizeImage(img, strconv.Atoi(arr[0]))\n",
    "        \n",
    "        // Append the vectorized data to the matrix.\n",
    "        matrix = append(matrix, data)\n",
    "    }\n",
    "}\n",
    "\n",
    "// Look an an example row in the data.\n",
    "fmt.Println(matrix[0])"
   ]
  },
  {
   "cell_type": "markdown",
   "metadata": {},
   "source": [
    "## Find k-means clusters"
   ]
  },
  {
   "cell_type": "markdown",
   "metadata": {},
   "source": [
    "Find 10 clusters (one for each digit in the data set) using k-means. "
   ]
  },
  {
   "cell_type": "code",
   "execution_count": null,
   "metadata": {},
   "outputs": [],
   "source": [
    "// Initialize a slice of gokmeans.Node's to\n",
    "// hold our input data.\n",
    "var data []gokmeans.Node\n",
    "\n",
    "// Loop over the records creating our slice of\n",
    "// gokmeans.Node's.\n",
    "for _,record := range matrix {\n",
    "    \n",
    "    // Read in our record and check for errors.\n",
    "    // Initialize a point.\n",
    "    var point []float64\n",
    "    \n",
    "    // Fill in our point.\n",
    "    for i := 0; i < 64; i++ {\n",
    "        \n",
    "        // Parse the float value.\n",
    "        val:= float64(record[i])\n",
    "      \n",
    "        // Append this value to our point.\n",
    "        point = append(point, val)\n",
    "    }\n",
    "    \n",
    "    // Append our point to the k-means data.\n",
    "    data = append(data, point)\n",
    "}\n",
    "\n",
    "// Generate our clusters with k-means. 10 clusters, 1000 iterations.\n",
    "success, centroids := gokmeans.Train(data, 10, 1000)\n",
    "if !success {\n",
    "   fmt.Println(\"Could not generate clusters\")\n",
    "}\n"
   ]
  },
  {
   "cell_type": "code",
   "execution_count": null,
   "metadata": {},
   "outputs": [],
   "source": [
    "// Print out one of the centroids to stdout.\n",
    "fmt.Println(centroids[0])"
   ]
  },
  {
   "cell_type": "code",
   "execution_count": null,
   "metadata": {},
   "outputs": [],
   "source": [
    "// now we are going to build a confusion matrix.\n",
    "var confusion [10][10]int\n",
    "for index,record := range matrix {\n",
    "    // Read in our record and check for errors.\n",
    "    // Initialize a point.\n",
    "    var point []float64\n",
    "    // Fill in our point.\n",
    "    for i := 0; i < 64; i++ {\n",
    "        // Parse the float value.\n",
    "        val:= float64(record[i])\n",
    "        // Append this value to our point.\n",
    "         point = append(point, val)\n",
    "    }\n",
    "    clusterIndex := gokmeans.Nearest(point, centroids) \n",
    "    expectedIndex := record[64]\n",
    "    confusion[clusterIndex][expectedIndex]++\n",
    "}"
   ]
  },
  {
   "cell_type": "code",
   "execution_count": null,
   "metadata": {},
   "outputs": [],
   "source": [
    "// print values \n",
    "fmt.Println(\"\\t Expected \")\n",
    "fmt.Printf(\"\\t0\\t1\\t2\\t3\\t4\\t5\\t6\\t7\\t8\\t9 \\n\")\n",
    "for i := 0 ;i<10; i++{\n",
    "    fmt.Printf(\"%d\\t%d\\t%d\\t%d\\t%d\\t%d\\t%d\\t%d\\t%d\\t%d\\t%d\\n\",i,confusion[i][0],confusion[i][1],confusion[i][2],confusion[i][3],confusion[i][4],confusion[i][5],confusion[i][6],confusion[i][7],confusion[i][8],confusion[i][9])\n",
    "}\n"
   ]
  }
 ],
 "metadata": {
  "kernelspec": {
   "display_name": "Go",
   "language": "go",
   "name": "gophernotes"
  },
  "language_info": {
   "codemirror_mode": "",
   "file_extension": ".go",
   "mimetype": "",
   "name": "go",
   "nbconvert_exporter": "",
   "pygments_lexer": "",
   "version": "go1.10.3"
  }
 },
 "nbformat": 4,
 "nbformat_minor": 2
}
