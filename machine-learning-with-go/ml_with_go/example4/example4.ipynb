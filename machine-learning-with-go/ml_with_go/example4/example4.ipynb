{
 "cells": [
  {
   "cell_type": "markdown",
   "metadata": {},
   "source": [
    "# Clustering"
   ]
  },
  {
   "cell_type": "markdown",
   "metadata": {},
   "source": [
    "![ml workflow](https://docs.google.com/drawings/d/e/2PACX-1vQ1XLwesZbm_TuDBPFRvbHa4XcjucvtExy3LXE05WnaAw-s6BDVQnnd4lAEUW1Qy6bs6FythuJdFVqP/pub?w=1165&h=662)\n",
    "\n",
    "Let's now try out some **Clustering**. A clusters or group is a collection of data points into which our data points are organized. This is opposed to predicting a continuous value (like weight, temperature, or stock price).\n",
    "Classification attempts to predict whether a certain sample belongs to one class or another (e.g., fraud or not fraud). \n",
    "\n",
    "For our example, we will be trying to cluster the data of fleet information fleet_data.csv. We have a Driver Id and the mean distance driven per driver. Speeding_Feature is a mean percentage of time during which the driver is driving 5+ miles per hour faster than the speed limit."
   ]
  },
  {
   "cell_type": "markdown",
   "metadata": {},
   "source": [
    "## Imports"
   ]
  },
  {
   "cell_type": "code",
   "execution_count": null,
   "metadata": {},
   "outputs": [],
   "source": [
    "import \"fmt\"\n",
    "import \"os\"\n",
    "import \"strings\"\n",
    "import \"strconv\"\n",
    "import \"encoding/csv\"\n",
    "import \"image/color\"\n",
    "import \"image\"\n",
    "import \"image/png\"\n",
    "import \"io/ioutil\"\n",
    "import \"gonum.org/v1/gonum/floats\"\n",
    "import \"gonum.org/v1/plot\"\n",
    "import \"gonum.org/v1/plot/plotter\"\n",
    "import \"gonum.org/v1/plot/plotutil\"\n",
    "import \"gonum.org/v1/plot/vg\"\n",
    "import \"github.com/kniren/gota/dataframe\"\n",
    "import \"github.com/mash/gokmeans\""
   ]
  },
  {
   "cell_type": "markdown",
   "metadata": {},
   "source": [
    "## Convenience Functions"
   ]
  },
  {
   "cell_type": "code",
   "execution_count": null,
   "metadata": {},
   "outputs": [],
   "source": [
    "// GetGraph returns the bytes corresponding to a\n",
    "// saved plot.\n",
    "func GetGraph(graphName string) ([]byte, error) {\n",
    "    \n",
    "    // Open the file.\n",
    "    infile, err := os.Open(graphName)\n",
    "    if err != nil {\n",
    "        return nil, err\n",
    "    }\n",
    "    \n",
    "    // Read in the contents of the file.\n",
    "    bytes, err := ioutil.ReadAll(infile)\n",
    "    if err != nil {\n",
    "        return nil, err\n",
    "    }\n",
    "    \n",
    "    // Close the file.\n",
    "    infile.Close()\n",
    "    \n",
    "    return bytes, err\n",
    "}"
   ]
  },
  {
   "cell_type": "markdown",
   "metadata": {},
   "source": [
    "## Import the Data"
   ]
  },
  {
   "cell_type": "code",
   "execution_count": null,
   "metadata": {},
   "outputs": [],
   "source": [
    "file, err := os.Open(\"../data/fleet_data.csv\")\n",
    "if err != nil {\n",
    "    fmt.Println(err)\n",
    "}"
   ]
  },
  {
   "cell_type": "code",
   "execution_count": null,
   "metadata": {},
   "outputs": [],
   "source": [
    "dataset := dataframe.ReadCSV(file)"
   ]
  },
  {
   "cell_type": "code",
   "execution_count": null,
   "metadata": {},
   "outputs": [],
   "source": [
    "file.Close()"
   ]
  },
  {
   "cell_type": "code",
   "execution_count": null,
   "metadata": {},
   "outputs": [],
   "source": [
    "fmt.Println(dataset)"
   ]
  },
  {
   "cell_type": "markdown",
   "metadata": {},
   "source": [
    "## Profile Data"
   ]
  },
  {
   "cell_type": "code",
   "execution_count": null,
   "metadata": {},
   "outputs": [],
   "source": [
    "summary := dataset.Describe()"
   ]
  },
  {
   "cell_type": "code",
   "execution_count": null,
   "metadata": {},
   "outputs": [],
   "source": [
    "fmt.Println(summary)"
   ]
  },
  {
   "cell_type": "code",
   "execution_count": null,
   "metadata": {},
   "outputs": [],
   "source": [
    "// Create a histogram for each of the columns in the dataset.\n",
    "for _, colName := range dataset.Names() {\n",
    "    if colName != \"Driver_ID\" {\n",
    "        // Create a plotter.Values value and fill it with the\n",
    "        // values from the respective column of the dataframe.\n",
    "        plotVals := make(plotter.Values, dataset.Nrow())\n",
    "        for i, floatVal := range dataset.Col(colName).Float() {\n",
    "            plotVals[i] = floatVal\n",
    "        }\n",
    "\n",
    "        // Make a plot and set its title.\n",
    "        p, err := plot.New()\n",
    "        if err != nil {\n",
    "            fmt.Println(\"error creating plot\",err)\n",
    "        }\n",
    "        p.Title.Text = fmt.Sprintf(\"Histogram of %s\", colName)\n",
    "\n",
    "        // Create a histogram of our values.\n",
    "        h, err := plotter.NewHist(plotVals, 16)\n",
    "        if err != nil {\n",
    "            fmt.Println(\"error creating histogram\",err)\n",
    "        }\n",
    "\n",
    "        // Normalize the histogram.\n",
    "        h.Normalize(1)\n",
    "\n",
    "        // Add the histogram to the plot.\n",
    "        p.Add(h)\n",
    "\n",
    "        // Save the plot to a PNG file.\n",
    "        if err := p.Save(4*vg.Inch, 4*vg.Inch, colName+\"_hist.png\"); err != nil {\n",
    "            fmt.Println(\"error saving\",err)\n",
    "        }\n",
    "    }\n",
    "}"
   ]
  },
  {
   "cell_type": "code",
   "execution_count": null,
   "metadata": {},
   "outputs": [],
   "source": [
    "graphCal, err :=GetGraph(\"Distance_Feature_hist.png\")\n",
    "if err != nil {\n",
    "    fmt.Println(err)\n",
    "}\n",
    "display.PNG(graphCal)"
   ]
  },
  {
   "cell_type": "code",
   "execution_count": null,
   "metadata": {},
   "outputs": [],
   "source": [
    "graphCar, err :=GetGraph(\"Speeding_Feature_hist.png\")\n",
    "if err != nil {\n",
    "    fmt.Println(err)\n",
    "}\n",
    "display.PNG(graphCar)"
   ]
  },
  {
   "cell_type": "code",
   "execution_count": null,
   "metadata": {},
   "outputs": [],
   "source": [
    "// Function to create an scatter plot from 2 column names \n",
    "func graphScatterFromColumns(columnA,columnB string){\n",
    "   yVals := dataset.Col(columnA).Float()\n",
    "   // pts will hold the values for plotting\n",
    "   pts := make(plotter.XYs, dataset.Nrow())\n",
    "   // Fill pts with data.\n",
    "   for i, floatVal := range dataset.Col(columnB).Float() {\n",
    "       pts[i].X = floatVal\n",
    "       pts[i].Y = yVals[i]\n",
    "   }\n",
    "   // Create the plot.\n",
    "   p, err := plot.New()\n",
    "   if err != nil {\n",
    "       fmt.Println(err)\n",
    "   }\n",
    "   p.X.Label.Text = columnB\n",
    "   p.Y.Label.Text = columnA\n",
    "   p.Add(plotter.NewGrid())\n",
    "   s, err := plotter.NewScatter(pts)\n",
    "   if err != nil {\n",
    "       fmt.Println(err)\n",
    "   }\n",
    "   s.GlyphStyle.Color = color.RGBA{R: 255, B: 128, A: 255}\n",
    "   s.GlyphStyle.Radius = vg.Points(3)\n",
    "   // Save the plot to a PNG file.\n",
    "   p.Add(s)\n",
    "   if err := p.Save(4*vg.Inch, 4*vg.Inch, \"scatter_\"+columnA+\"_vs_\"+columnB+\".png\"); err !=\n",
    "   nil {\n",
    "       fmt.Println(err)\n",
    "   }\n",
    "}"
   ]
  },
  {
   "cell_type": "code",
   "execution_count": null,
   "metadata": {},
   "outputs": [],
   "source": [
    "for _, colNameA := range dataset.Names() {\n",
    "    for _, colNameB := range dataset.Names() {\n",
    "        if colNameA != \"Driver_ID\" && colNameB != \"Driver_ID\" && colNameA != colNameB  {\n",
    "            graphScatterFromColumns(colNameA,colNameB)\n",
    "        }\n",
    "    }\n",
    "}"
   ]
  },
  {
   "cell_type": "code",
   "execution_count": null,
   "metadata": {},
   "outputs": [],
   "source": [
    "graphCalVCar, err :=GetGraph(\"scatter_Distance_Feature_vs_Speeding_Feature.png\")\n",
    "if err != nil {\n",
    "    fmt.Println(err)\n",
    "}\n",
    "display.PNG(graphCalVCar)"
   ]
  },
  {
   "cell_type": "markdown",
   "metadata": {},
   "source": [
    "## KMEANS"
   ]
  },
  {
   "cell_type": "code",
   "execution_count": null,
   "metadata": {},
   "outputs": [],
   "source": [
    "// Initialize a slice of gokmeans.Node's to\n",
    "// hold our input data.\n",
    "var data []gokmeans.Node\n",
    "// Loop over the records creating our slice of\n",
    "// gokmeans.Node's.\n",
    "for _,record := range dataset.Select([]int{1,2}).Records(){\n",
    "    // Read in our record and check for errors.\n",
    "    if record[0] != \"Distance_Feature\"{\n",
    "        // Initialize a point.\n",
    "        var point []float64\n",
    "        // Fill in our point.\n",
    "        for i := 0; i < 2; i++ {\n",
    "            // Parse the float value.\n",
    "           val, err := strconv.ParseFloat(record[i], 64)\n",
    "           if err != nil {\n",
    "                fmt.Println(err)\n",
    "            }\n",
    "            // Append this value to our point.\n",
    "            point = append(point, val)\n",
    "        }\n",
    "        // Append our point to the data.\n",
    "        data = append(data, gokmeans.Node{point[0], point[1]})\n",
    "    }\n",
    "}\n",
    "// Generate our clusters with k-means.\n",
    "success, centroids := gokmeans.Train(data, 2, 50)\n",
    "if !success {\n",
    "   fmt.Println(\"Could not generate clusters\")\n",
    "}\n",
    "// Output the centroids to stdout.\n",
    "fmt.Println(\"The centroids for our clusters are:\")\n",
    "for _, centroid := range centroids {\n",
    "    fmt.Println(centroid)\n",
    "}"
   ]
  },
  {
   "cell_type": "markdown",
   "metadata": {},
   "source": [
    "### Evaluating the generated clusters"
   ]
  },
  {
   "cell_type": "code",
   "execution_count": null,
   "metadata": {},
   "outputs": [],
   "source": [
    "// Extract the distance column.\n",
    "yVals := dataset.Col(\"Distance_Feature\").Float()\n",
    "// clusterOne and clusterTwo will hold the values for plotting.\n",
    "var clusterOne [][]float64\n",
    "var clusterTwo [][]float64\n",
    "// Fill the clusters with data.\n",
    "for i, xVal := range dataset.Col(\"Speeding_Feature\").Float() {\n",
    "    distanceOne := floats.Distance([]float64{yVals[i], xVal},centroids[0], 2)\n",
    "    distanceTwo := floats.Distance([]float64{yVals[i], xVal},centroids[1], 2)\n",
    "    if distanceOne < distanceTwo {\n",
    "        clusterOne = append(clusterOne, []float64{xVal, yVals[i]})\n",
    "    }else{\n",
    "        clusterTwo = append(clusterTwo, []float64{xVal, yVals[i]})\n",
    "    }\n",
    "}\n",
    "// pts* will hold the values for plotting\n",
    "ptsOne := make(plotter.XYs, len(clusterOne))\n",
    "ptsTwo := make(plotter.XYs, len(clusterTwo))\n",
    "// Fill pts with data.\n",
    "for i, point := range clusterOne {\n",
    "    ptsOne[i].X = point[0]\n",
    "    ptsOne[i].Y = point[1]\n",
    "}\n",
    "for i, point := range clusterTwo {\n",
    "    ptsTwo[i].X = point[0]\n",
    "    ptsTwo[i].Y = point[1]\n",
    "}\n",
    "// Create the plot.\n",
    "p, err := plot.New()\n",
    "if err != nil {\n",
    "    fmt.Println(err)\n",
    "}\n",
    "p.X.Label.Text = \"Speeding\"\n",
    "p.Y.Label.Text = \"Distance\"\n",
    "p.Add(plotter.NewGrid())\n",
    "sOne, err := plotter.NewScatter(ptsOne)\n",
    "if err != nil {\n",
    "    fmt.Println(err)\n",
    "}\n",
    "sOne.GlyphStyle.Radius = vg.Points(3)\n",
    "//sOne.GlyphStyle.Shape = draw.RingGlyph{}\n",
    "sTwo, err := plotter.NewScatter(ptsTwo)\n",
    "if err != nil {\n",
    "    fmt.Println(err)\n",
    "}\n",
    "sTwo.GlyphStyle.Radius = vg.Points(30)\n",
    "// Save the plot to a PNG file.\n",
    "p.Add(sOne, sTwo)\n",
    "if err := p.Save(4*vg.Inch, 4*vg.Inch, \"fleet_data_clusters.png\"); err !=nil {\n",
    "    fmt.Println(err)\n",
    "}\n"
   ]
  },
  {
   "cell_type": "code",
   "execution_count": null,
   "metadata": {},
   "outputs": [],
   "source": [
    "graphCalVCar, err :=GetGraph(\"fleet_data_clusters.png\")\n",
    "if err != nil {\n",
    "    fmt.Println(err)\n",
    "}\n",
    "display.PNG(graphCalVCar)"
   ]
  },
  {
   "cell_type": "markdown",
   "metadata": {},
   "source": [
    "### one more qunatitative evaluation"
   ]
  },
  {
   "cell_type": "code",
   "execution_count": null,
   "metadata": {},
   "outputs": [],
   "source": [
    "// withinClusterMean calculates the mean distance between\n",
    "// points in a cluster and the centroid of the cluster.\n",
    "func withinClusterMean(cluster [][]float64, centroid []float64) float64 {\n",
    "    // meanDistance will hold our result.\n",
    "    var meanDistance float64\n",
    "    // Loop over the points in the cluster.\n",
    "    for _, point := range cluster {\n",
    "         meanDistance += floats.Distance(point, centroid, 2) /float64(len(cluster))\n",
    "    }\n",
    "    return meanDistance\n",
    "}\n"
   ]
  },
  {
   "cell_type": "code",
   "execution_count": null,
   "metadata": {},
   "outputs": [],
   "source": [
    "// Output our within cluster metrics.\n",
    "fmt.Printf(\"\\nCluster 1 Metric: %0.2f\\n\", withinClusterMean(clusterOne,centroids[0]))\n",
    "fmt.Printf(\"\\nCluster 2 Metric: %0.2f\\n\", withinClusterMean(clusterTwo,centroids[1]))"
   ]
  },
  {
   "cell_type": "markdown",
   "metadata": {},
   "source": [
    "# k-means on digits"
   ]
  },
  {
   "cell_type": "markdown",
   "metadata": {},
   "source": [
    "Now let's try k-means algorithm in a more complex example. \n",
    "As it is a clustering technique, we are going to take a look at applying to a simple digits database.\n",
    "We will start by loading the digits and then finding the KMeans clusters. The digits consist of 1,797 \n",
    "samples with 64 features, where each of the 64 features is the brightness of one pixel in an 8×8 image.\n",
    "Digits can be found at http://archive.ics.uci.edu/ml/datasets/Pen-Based+Recognition+of+Handwritten+Digits"
   ]
  },
  {
   "cell_type": "markdown",
   "metadata": {},
   "source": [
    "### Data visualization"
   ]
  },
  {
   "cell_type": "markdown",
   "metadata": {},
   "source": [
    "unzip the file optImg.zip in the data folder. Let's see some of the images to have one idea of what are we going to process"
   ]
  },
  {
   "cell_type": "code",
   "execution_count": null,
   "metadata": {},
   "outputs": [],
   "source": [
    "img, err :=GetGraph(\"../data/optImg/optdigit_1-0.png\")\n",
    "if err != nil {\n",
    "    fmt.Println(err)\n",
    "}\n",
    "display.PNG(img)"
   ]
  },
  {
   "cell_type": "code",
   "execution_count": null,
   "metadata": {},
   "outputs": [],
   "source": [
    "img, err :=GetGraph(\"../data/optImg/optdigit_2-7.png\")\n",
    "if err != nil {\n",
    "    fmt.Println(err)\n",
    "}\n",
    "display.PNG(img)"
   ]
  },
  {
   "cell_type": "code",
   "execution_count": null,
   "metadata": {},
   "outputs": [],
   "source": [
    "img, err :=GetGraph(\"../data/optImg/optdigit_3-4.png\")\n",
    "if err != nil {\n",
    "    fmt.Println(err)\n",
    "}\n",
    "display.PNG(img)"
   ]
  },
  {
   "cell_type": "code",
   "execution_count": null,
   "metadata": {},
   "outputs": [],
   "source": [
    "img, err :=GetGraph(\"../data/optImg/optdigit_4-6.png\")\n",
    "if err != nil {\n",
    "    fmt.Println(err)\n",
    "}\n",
    "display.PNG(img)\n"
   ]
  },
  {
   "cell_type": "code",
   "execution_count": null,
   "metadata": {},
   "outputs": [],
   "source": [
    "//The first eight bytes of a PNG file always contain the following (decimal) values 137 80 78 71 13 10 26 10\n",
    "// after 13 73 72 68 82\n",
    "// after 0 0 0 8 - 0 0 0 8 -> dims\n",
    "// 8 0 0 0 0 (bit dept = 8, color type - 0 = gray)\n",
    "// idat 73 68 65 84\n",
    "// hex 78 9C  or decimal 120 156 to start data --- \n",
    "// end 73 69 78 68\n",
    "fmt.Println([]byte(img))"
   ]
  },
  {
   "cell_type": "code",
   "execution_count": null,
   "metadata": {},
   "outputs": [],
   "source": [
    "func loadPng(imageName string) (image.Image, error) {\n",
    "    imgfile, err := os.Open(imageName)\n",
    "\n",
    "    if err != nil {\n",
    "        fmt.Println(\"file not found\",imageName)\n",
    "    }\n",
    "    defer imgfile.Close()\n",
    "    return png.Decode(imgfile)\n",
    "    \n",
    "}"
   ]
  },
  {
   "cell_type": "code",
   "execution_count": null,
   "metadata": {},
   "outputs": [],
   "source": [
    "// transform the png image in a vector where each position represents an intensity in a pixel\n",
    "func vectorizeImage(img image.Image, number int)[65]int{\n",
    "    var ret [65]int\n",
    "    for i:=0;i<8;i++{\n",
    "        for j:=0;j<8;j++{\n",
    "            r,g,b,_:=img.At(j,i).RGBA()\n",
    "            v := (int)(0.299*float64(r) + 0.587*float64(g) + 0.114*float64(b))/4095 // 256 of color palet and 16 of contrast augmentation\n",
    "            ret[i*8+j] = v\n",
    "        }\n",
    "    }\n",
    "    ret[64] = number\n",
    "    return ret\n",
    "}"
   ]
  },
  {
   "cell_type": "code",
   "execution_count": null,
   "metadata": {},
   "outputs": [],
   "source": [
    "// we are going to create the dataset. each image is a line in my data set of 8x8=64 \n",
    "// columns (we are going to interpret each column as a feature)\n",
    "files, err := ioutil.ReadDir(\"../data/optImg/\")\n",
    "if err != nil {\n",
    "    fmt.Println(err)\n",
    "}\n",
    "var matrix [][65]int\n",
    "for _, f := range files {\n",
    "    if strings.HasSuffix(f.Name(), \".png\"){\n",
    "        img,err:=loadPng(\"../data/optImg/\"+f.Name())\n",
    "        arr := strings.Split(strings.Split(f.Name(),\"-\")[1],\".\")\n",
    "        data := vectorizeImage(img,strconv.Atoi(arr[0]))\n",
    "        matrix = append(matrix,data)\n",
    "    }\n",
    "}"
   ]
  },
  {
   "cell_type": "code",
   "execution_count": null,
   "metadata": {},
   "outputs": [],
   "source": [
    "fmt.Println(matrix[0])"
   ]
  },
  {
   "cell_type": "markdown",
   "metadata": {},
   "source": [
    "Now we know we want 10 clusters. Use the k-means algorithm to find the clusters"
   ]
  },
  {
   "cell_type": "code",
   "execution_count": null,
   "metadata": {},
   "outputs": [],
   "source": [
    "// Initialize a slice of gokmeans.Node's to\n",
    "// hold our input data.\n",
    "var data []gokmeans.Node\n",
    "// Loop over the records creating our slice of\n",
    "// gokmeans.Node's.\n",
    "for _,record := range matrix {\n",
    "    // Read in our record and check for errors.\n",
    "    // Initialize a point.\n",
    "    var point []float64\n",
    "    // Fill in our point.\n",
    "    for i := 0; i < 64; i++ {\n",
    "        // Parse the float value.\n",
    "        val:= float64(record[i])\n",
    "      \n",
    "        // Append this value to our point.\n",
    "        point = append(point, val)\n",
    "    }\n",
    "    // Append our point to the data.\n",
    "    data = append(data, point)\n",
    "}\n",
    "\n",
    "// Generate our clusters with k-means. 10 clusters, 1000 iterations\n",
    "success, centroids := gokmeans.Train(data, 10, 1000)\n",
    "if !success {\n",
    "   fmt.Println(\"Could not generate clusters\")\n",
    "}\n"
   ]
  },
  {
   "cell_type": "code",
   "execution_count": null,
   "metadata": {},
   "outputs": [],
   "source": [
    "// Output the centroids to stdout.\n",
    "fmt.Println(\"The centroids for our clusters are:\")\n",
    "for _, centroid := range centroids {\n",
    "    fmt.Println(centroid)\n",
    "}"
   ]
  },
  {
   "cell_type": "code",
   "execution_count": null,
   "metadata": {},
   "outputs": [],
   "source": [
    "// now we are going to build a confusion matrix.\n",
    "var confusion [10][10]int\n",
    "for index,record := range matrix {\n",
    "    // Read in our record and check for errors.\n",
    "    // Initialize a point.\n",
    "    var point []float64\n",
    "    // Fill in our point.\n",
    "    for i := 0; i < 64; i++ {\n",
    "        // Parse the float value.\n",
    "        val:= float64(record[i])\n",
    "        // Append this value to our point.\n",
    "         point = append(point, val)\n",
    "    }\n",
    "    clusterIndex := gokmeans.Nearest(point, centroids) \n",
    "    expectedIndex := record[64]\n",
    "    confusion[clusterIndex][expectedIndex]++\n",
    "}\n",
    "\n"
   ]
  },
  {
   "cell_type": "code",
   "execution_count": null,
   "metadata": {},
   "outputs": [],
   "source": [
    "// print values \n",
    "fmt.Println(\"\\t Expected \")\n",
    "fmt.Printf(\"\\t0\\t1\\t2\\t3\\t4\\t5\\t6\\t7\\t8\\t9 \\n\")\n",
    "for i := 0 ;i<10; i++{\n",
    "    fmt.Printf(\"%d\\t%d\\t%d\\t%d\\t%d\\t%d\\t%d\\t%d\\t%d\\t%d\\t%d\\n\",i,confusion[i][0],confusion[i][1],confusion[i][2],confusion[i][3],confusion[i][4],confusion[i][5],confusion[i][6],confusion[i][7],confusion[i][8],confusion[i][9])\n",
    "}\n"
   ]
  },
  {
   "cell_type": "code",
   "execution_count": null,
   "metadata": {},
   "outputs": [],
   "source": []
  }
 ],
 "metadata": {
  "kernelspec": {
   "display_name": "Go",
   "language": "go",
   "name": "gophernotes"
  },
  "language_info": {
   "codemirror_mode": "",
   "file_extension": ".go",
   "mimetype": "",
   "name": "go",
   "nbconvert_exporter": "",
   "pygments_lexer": "",
   "version": "go1.10.1"
  }
 },
 "nbformat": 4,
 "nbformat_minor": 2
}
