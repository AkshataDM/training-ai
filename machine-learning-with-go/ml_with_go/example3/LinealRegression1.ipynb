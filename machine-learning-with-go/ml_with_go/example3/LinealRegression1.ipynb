{
 "cells": [
  {
   "cell_type": "markdown",
   "metadata": {},
   "source": [
    "# Linear Regression"
   ]
  },
  {
   "cell_type": "markdown",
   "metadata": {},
   "source": [
    "### 1. import libraries"
   ]
  },
  {
   "cell_type": "code",
   "execution_count": null,
   "metadata": {},
   "outputs": [],
   "source": [
    "\n",
    "import \"fmt\"\n",
    "import \"gonum.org/v1/gonum/blas/blas64\"\n",
    "import \"gonum.org/v1/gonum/mat\"\n",
    "import \"gonum.org/v1/gonum/stat\"\n",
    "import \"gonum.org/v1/plot\"\n",
    "import \"gonum.org/v1/plot/plotter\"\n",
    "import \"gonum.org/v1/plot/plotutil\"\n",
    "import \"gonum.org/v1/plot/vg\"\n",
    "import \"strings\"\n",
    "import \"strconv\"\n",
    "import \"github.com/kniren/gota/dataframe\"\n",
    "import \"os\"\n",
    "import \"encoding/csv\"\n",
    "import \"github.com/kniren/gota/series\"\n",
    "import \"math\"\n",
    "import \"image/color\"\n",
    "import \"io/ioutil\""
   ]
  },
  {
   "cell_type": "code",
   "execution_count": null,
   "metadata": {},
   "outputs": [],
   "source": [
    "\n",
    "func GetGraph(graphName string) ([]byte, error) { //utility to load graphs (to use later)\n",
    "\tinfile, err := os.Open(graphName)\n",
    "\tbytes, err := ioutil.ReadAll(infile)\n",
    "\tinfile.Close()\n",
    "\treturn bytes, err\n",
    "}"
   ]
  },
  {
   "cell_type": "markdown",
   "metadata": {},
   "source": [
    "#### 2. Load working csv file"
   ]
  },
  {
   "cell_type": "code",
   "execution_count": null,
   "metadata": {},
   "outputs": [],
   "source": [
    "file, err := os.Open(\"../data/basketball.heigh.and.weigh.csv\")\n",
    "if err != nil {\n",
    "    fmt.Println(err)\n",
    "}"
   ]
  },
  {
   "cell_type": "code",
   "execution_count": null,
   "metadata": {},
   "outputs": [],
   "source": [
    "dataset := dataframe.ReadCSV(file)"
   ]
  },
  {
   "cell_type": "code",
   "execution_count": null,
   "metadata": {},
   "outputs": [],
   "source": [
    "file.Close()"
   ]
  },
  {
   "cell_type": "code",
   "execution_count": null,
   "metadata": {},
   "outputs": [],
   "source": [
    "fmt.Println(dataset)"
   ]
  },
  {
   "cell_type": "markdown",
   "metadata": {},
   "source": [
    "### We can select one or many columns of a dataFrame :"
   ]
  },
  {
   "cell_type": "code",
   "execution_count": null,
   "metadata": {},
   "outputs": [],
   "source": [
    "fmt.Println(dataset.Col(\"Team\").Subset([]int{1,2,3,4,5}))"
   ]
  },
  {
   "cell_type": "code",
   "execution_count": null,
   "metadata": {},
   "outputs": [],
   "source": [
    "fmt.Println(dataset.Select([]string{\"Name\",\"Position\"}))"
   ]
  },
  {
   "cell_type": "markdown",
   "metadata": {},
   "source": [
    "##### select name, position and heigt for the Chicago White Sox "
   ]
  },
  {
   "cell_type": "code",
   "execution_count": null,
   "metadata": {},
   "outputs": [],
   "source": [
    "filter := dataframe.F{\n",
    "    Colname:    \"Team\",\n",
    "    Comparator: series.Eq,\n",
    "    Comparando: \"CWS\",\n",
    "}"
   ]
  },
  {
   "cell_type": "code",
   "execution_count": null,
   "metadata": {},
   "outputs": [],
   "source": [
    "fmt.Println(dataset.Filter(filter).Select([]string{\"Name\",\"Position\",\"Weight(pounds)\"}))"
   ]
  },
  {
   "cell_type": "markdown",
   "metadata": {},
   "source": [
    "### Find the average width and heigh by team"
   ]
  },
  {
   "cell_type": "markdown",
   "metadata": {},
   "source": [
    "find all teams (no duplicated)"
   ]
  },
  {
   "cell_type": "code",
   "execution_count": null,
   "metadata": {},
   "outputs": [],
   "source": [
    "teams :=dataset.Col(\"Team\").Records()"
   ]
  },
  {
   "cell_type": "code",
   "execution_count": null,
   "metadata": {},
   "outputs": [],
   "source": [
    "teamsMap := make(map[string]string)\n",
    "for _,val := range teams {//build a map with team names\n",
    "    teamsMap[val]=val\n",
    "}"
   ]
  },
  {
   "cell_type": "code",
   "execution_count": null,
   "metadata": {},
   "outputs": [],
   "source": [
    "fmt.Println(teamsMap)"
   ]
  },
  {
   "cell_type": "markdown",
   "metadata": {},
   "source": [
    "For each team, find the average "
   ]
  },
  {
   "cell_type": "code",
   "execution_count": null,
   "metadata": {},
   "outputs": [],
   "source": [
    "for key :=range teamsMap{\n",
    "    filter := dataframe.F{\n",
    "    Colname:    \"Team\",\n",
    "    Comparator: series.Eq,\n",
    "    Comparando: key,\n",
    "}\n",
    "    fmt.Println(key, stat.Mean(dataset.Filter(filter).Col(\"Weight(pounds)\").Float(),nil),stat.Mean(dataset.Filter(filter).Col(\"Height(inches)\").Float(),nil) )\n",
    "}"
   ]
  },
  {
   "cell_type": "code",
   "execution_count": null,
   "metadata": {},
   "outputs": [],
   "source": []
  },
  {
   "cell_type": "markdown",
   "metadata": {},
   "source": [
    "#### Visualize the relationship between width and heigh"
   ]
  },
  {
   "cell_type": "code",
   "execution_count": null,
   "metadata": {},
   "outputs": [],
   "source": [
    "plotGrid, err := plot.New()\n",
    "if err != nil {\n",
    "    fmt.Println(err)\n",
    "}"
   ]
  },
  {
   "cell_type": "code",
   "execution_count": null,
   "metadata": {},
   "outputs": [],
   "source": [
    "plotGrid.Title.Text = \"relationship between width and heigh\"\n",
    "plotGrid.Y.Label.Text = \"Weight\"\n",
    "plotGrid.X.Label.Text = \"Height\""
   ]
  },
  {
   "cell_type": "code",
   "execution_count": null,
   "metadata": {},
   "outputs": [],
   "source": [
    "plotGrid.Add(plotter.NewGrid())"
   ]
  },
  {
   "cell_type": "code",
   "execution_count": null,
   "metadata": {},
   "outputs": [],
   "source": [
    "\n",
    "widthsHeighs := dataset.Select([]string{\"Height(inches)\",\"Weight(pounds)\"})\n"
   ]
  },
  {
   "cell_type": "code",
   "execution_count": null,
   "metadata": {},
   "outputs": [],
   "source": [
    "fmt.Println(widthsHeighs)"
   ]
  },
  {
   "cell_type": "code",
   "execution_count": null,
   "metadata": {},
   "outputs": [],
   "source": [
    "ptsPlot := make(plotter.XYs, widthsHeighs.Nrow())\n",
    "for i,val := range ptsPlot { // builds points to add to our graph\n",
    "    ptsPlot[i].X = widthsHeighs.Elem(i,0).Float()\n",
    "    ptsPlot[i].Y = widthsHeighs.Elem(i,1).Float()\n",
    "    if widthsHeighs.Elem(i,0).IsNA() {\n",
    "        ptsPlot[i].X = 0\n",
    "    }\n",
    "    if widthsHeighs.Elem(i,1).IsNA() {\n",
    "        ptsPlot[i].Y = 0\n",
    "    }\n",
    "}"
   ]
  },
  {
   "cell_type": "code",
   "execution_count": null,
   "metadata": {},
   "outputs": [],
   "source": []
  },
  {
   "cell_type": "code",
   "execution_count": null,
   "metadata": {},
   "outputs": [],
   "source": [
    "s, err := plotter.NewScatter(ptsPlot)\n",
    "if err != nil {\n",
    "    fmt.Println(err)\n",
    "}"
   ]
  },
  {
   "cell_type": "code",
   "execution_count": null,
   "metadata": {},
   "outputs": [],
   "source": [
    "s.GlyphStyle.Color = color.RGBA{R: 255, B: 128, A: 255}"
   ]
  },
  {
   "cell_type": "code",
   "execution_count": null,
   "metadata": {},
   "outputs": [],
   "source": [
    "plotGrid.Add(s)"
   ]
  },
  {
   "cell_type": "code",
   "execution_count": null,
   "metadata": {},
   "outputs": [],
   "source": [
    "if err := plotGrid.Save(4*vg.Inch, 4*vg.Inch, \"wvsh1.png\"); err != nil {\n",
    "\tfmt.Println(err)\n",
    "}\n"
   ]
  },
  {
   "cell_type": "code",
   "execution_count": null,
   "metadata": {},
   "outputs": [],
   "source": [
    "graph1, err :=GetGraph(\"wvsh1.png\")\n",
    "if err != nil {\n",
    "    fmt.Println(err)\n",
    "}"
   ]
  },
  {
   "cell_type": "code",
   "execution_count": null,
   "metadata": {},
   "outputs": [],
   "source": [
    "display.PNG(graph1)"
   ]
  },
  {
   "cell_type": "markdown",
   "metadata": {},
   "source": [
    "Find the linear regression of this data. The idea is to find the best-fit line: y = alpha + beta*x"
   ]
  },
  {
   "cell_type": "code",
   "execution_count": null,
   "metadata": {},
   "outputs": [],
   "source": []
  },
  {
   "cell_type": "code",
   "execution_count": null,
   "metadata": {},
   "outputs": [],
   "source": [
    "alpha, beta := stat.LinearRegression(widthsHeighs.Col(\"Height(inches)\").Float(),widthsHeighs.Col(\"Weight(pounds)\").Float(), nil, false)"
   ]
  },
  {
   "cell_type": "code",
   "execution_count": null,
   "metadata": {},
   "outputs": [],
   "source": []
  },
  {
   "cell_type": "code",
   "execution_count": null,
   "metadata": {},
   "outputs": [],
   "source": [
    "fmt.Printf(\"y = %f + %f * x\",alpha,beta) "
   ]
  },
  {
   "cell_type": "code",
   "execution_count": null,
   "metadata": {},
   "outputs": [],
   "source": []
  },
  {
   "cell_type": "code",
   "execution_count": null,
   "metadata": {},
   "outputs": [],
   "source": []
  },
  {
   "cell_type": "code",
   "execution_count": null,
   "metadata": {},
   "outputs": [],
   "source": []
  },
  {
   "cell_type": "code",
   "execution_count": null,
   "metadata": {},
   "outputs": [],
   "source": []
  },
  {
   "cell_type": "code",
   "execution_count": null,
   "metadata": {},
   "outputs": [],
   "source": []
  },
  {
   "cell_type": "code",
   "execution_count": null,
   "metadata": {},
   "outputs": [],
   "source": []
  },
  {
   "cell_type": "markdown",
   "metadata": {},
   "source": [
    "\n"
   ]
  },
  {
   "cell_type": "code",
   "execution_count": null,
   "metadata": {},
   "outputs": [],
   "source": [
    "\n"
   ]
  },
  {
   "cell_type": "code",
   "execution_count": null,
   "metadata": {},
   "outputs": [],
   "source": []
  },
  {
   "cell_type": "code",
   "execution_count": null,
   "metadata": {},
   "outputs": [],
   "source": []
  },
  {
   "cell_type": "code",
   "execution_count": null,
   "metadata": {},
   "outputs": [],
   "source": []
  },
  {
   "cell_type": "code",
   "execution_count": null,
   "metadata": {},
   "outputs": [],
   "source": []
  },
  {
   "cell_type": "code",
   "execution_count": null,
   "metadata": {},
   "outputs": [],
   "source": []
  },
  {
   "cell_type": "code",
   "execution_count": null,
   "metadata": {},
   "outputs": [],
   "source": []
  }
 ],
 "metadata": {
  "kernelspec": {
   "display_name": "Go",
   "language": "go",
   "name": "gophernotes"
  },
  "language_info": {
   "codemirror_mode": "",
   "file_extension": ".go",
   "mimetype": "",
   "name": "go",
   "nbconvert_exporter": "",
   "pygments_lexer": "",
   "version": "go1.10.1"
  }
 },
 "nbformat": 4,
 "nbformat_minor": 2
}
