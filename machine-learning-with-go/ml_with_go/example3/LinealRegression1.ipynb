{
 "cells": [
  {
   "cell_type": "markdown",
   "metadata": {},
   "source": [
    "# Linear Regression"
   ]
  },
  {
   "cell_type": "markdown",
   "metadata": {},
   "source": [
    "### 1. import libraries"
   ]
  },
  {
   "cell_type": "code",
   "execution_count": null,
   "metadata": {},
   "outputs": [],
   "source": [
    "\n",
    "import \"fmt\"\n",
    "import \"gonum.org/v1/gonum/blas/blas64\"\n",
    "import \"gonum.org/v1/gonum/mat\"\n",
    "import \"gonum.org/v1/gonum/floats\"\n",
    "import \"gonum.org/v1/gonum/stat\"\n",
    "import \"gonum.org/v1/plot\"\n",
    "import \"gonum.org/v1/plot/plotter\"\n",
    "import \"gonum.org/v1/plot/plotutil\"\n",
    "import \"gonum.org/v1/plot/vg\"\n",
    "//import \"github.com/montanaflynn/stats\" // be careful, it is different from gonum's stat\n",
    "import \"strings\"\n",
    "import \"strconv\"\n",
    "import \"github.com/kniren/gota/dataframe\"\n",
    "import \"os\"\n",
    "import \"encoding/csv\"\n",
    "import \"github.com/kniren/gota/series\"\n",
    "import \"math\"\n",
    "import \"image/color\"\n",
    "import \"io/ioutil\""
   ]
  },
  {
   "cell_type": "code",
   "execution_count": null,
   "metadata": {},
   "outputs": [],
   "source": [
    "\n",
    "func GetGraph(graphName string) ([]byte, error) { //utility to load graphs (to use later)\n",
    "\tinfile, err := os.Open(graphName)\n",
    "\tbytes, err := ioutil.ReadAll(infile)\n",
    "\tinfile.Close()\n",
    "\treturn bytes, err\n",
    "}"
   ]
  },
  {
   "cell_type": "markdown",
   "metadata": {},
   "source": [
    "#### 2. Load working csv file"
   ]
  },
  {
   "cell_type": "code",
   "execution_count": null,
   "metadata": {},
   "outputs": [],
   "source": [
    "file, err := os.Open(\"../data/basketball.heigh.and.weigh.csv\")\n",
    "if err != nil {\n",
    "    fmt.Println(err)\n",
    "}"
   ]
  },
  {
   "cell_type": "code",
   "execution_count": null,
   "metadata": {},
   "outputs": [],
   "source": [
    "dataset := dataframe.ReadCSV(file)"
   ]
  },
  {
   "cell_type": "code",
   "execution_count": null,
   "metadata": {},
   "outputs": [],
   "source": [
    "file.Close()"
   ]
  },
  {
   "cell_type": "code",
   "execution_count": null,
   "metadata": {},
   "outputs": [],
   "source": [
    "fmt.Println(dataset)"
   ]
  },
  {
   "cell_type": "markdown",
   "metadata": {},
   "source": [
    "### We can select one or many columns of a dataFrame :"
   ]
  },
  {
   "cell_type": "code",
   "execution_count": null,
   "metadata": {},
   "outputs": [],
   "source": [
    "fmt.Println(dataset.Col(\"Team\").Subset([]int{1,2,3,4,5}))"
   ]
  },
  {
   "cell_type": "code",
   "execution_count": null,
   "metadata": {},
   "outputs": [],
   "source": [
    "fmt.Println(dataset.Select([]string{\"Name\",\"Position\"}))"
   ]
  },
  {
   "cell_type": "markdown",
   "metadata": {},
   "source": [
    "##### select name, position and heigt for the Chicago White Sox "
   ]
  },
  {
   "cell_type": "code",
   "execution_count": null,
   "metadata": {},
   "outputs": [],
   "source": [
    "filter := dataframe.F{\n",
    "    Colname:    \"Team\",\n",
    "    Comparator: series.Eq,\n",
    "    Comparando: \"CWS\",\n",
    "}"
   ]
  },
  {
   "cell_type": "code",
   "execution_count": null,
   "metadata": {},
   "outputs": [],
   "source": [
    "fmt.Println(dataset.Filter(filter).Select([]string{\"Name\",\"Position\",\"Weight(pounds)\"}))"
   ]
  },
  {
   "cell_type": "markdown",
   "metadata": {},
   "source": [
    "### Find the average width and heigh by team"
   ]
  },
  {
   "cell_type": "markdown",
   "metadata": {},
   "source": [
    "find all teams (no duplicated)"
   ]
  },
  {
   "cell_type": "code",
   "execution_count": null,
   "metadata": {},
   "outputs": [],
   "source": [
    "teams :=dataset.Col(\"Team\").Records()"
   ]
  },
  {
   "cell_type": "code",
   "execution_count": null,
   "metadata": {},
   "outputs": [],
   "source": [
    "teamsMap := make(map[string]string)\n",
    "for _,val := range teams {//build a map with team names\n",
    "    teamsMap[val]=val\n",
    "}"
   ]
  },
  {
   "cell_type": "code",
   "execution_count": null,
   "metadata": {},
   "outputs": [],
   "source": [
    "fmt.Println(teamsMap)"
   ]
  },
  {
   "cell_type": "markdown",
   "metadata": {},
   "source": [
    "### Measures of central tendency"
   ]
  },
  {
   "cell_type": "markdown",
   "metadata": {},
   "source": [
    "For each team, find the average (the mean) and mode for width and height"
   ]
  },
  {
   "cell_type": "code",
   "execution_count": null,
   "metadata": {},
   "outputs": [],
   "source": [
    "fmt.Printf(\"%s \\t %s \\t \\t %s \\n\",\"key\",\"wMean\",\"hMean\" )\n",
    "for key :=range teamsMap{\n",
    "    // create a filter over the datafrate using the key map to filter data for team\n",
    "    filter := dataframe.F{\n",
    "        Colname:    \"Team\",\n",
    "        Comparator: series.Eq,\n",
    "        Comparando: key,\n",
    "    }\n",
    "    // get array with weights and heights information using the filter (for team)\n",
    "    keyWeights:= dataset.Filter(filter).Col(\"Weight(pounds)\").Float()\n",
    "    keyHeights:= dataset.Filter(filter).Col(\"Height(inches)\").Float()\n",
    "    \n",
    "    // calculate data\n",
    "    wMean := stat.Mean(keyWeights,nil)\n",
    "    hMean := stat.Mean(keyHeights,nil)\n",
    "    wMode := stat.Mode(keyWeights, nil)\n",
    "    hMode := stat.Mode(keyHeights, nil)\n",
    "    fmt.Printf(\"%s \\t %f \\t %f \\t %f \\t %f \\n\", key, wMean, hMean, wMode,hMode )\n",
    "}"
   ]
  },
  {
   "cell_type": "markdown",
   "metadata": {},
   "source": [
    "### Measures of spread or dispersion"
   ]
  },
  {
   "cell_type": "markdown",
   "metadata": {},
   "source": [
    "Let's focalize in the weight, calculate the maximun, minimun, Range, Variance and Standar Deviation for each team"
   ]
  },
  {
   "cell_type": "code",
   "execution_count": null,
   "metadata": {},
   "outputs": [],
   "source": [
    "for key :=range teamsMap{\n",
    "    // create a filter over the datafrate using the key map to filter data for team\n",
    "    filter := dataframe.F{\n",
    "        Colname:    \"Team\",\n",
    "        Comparator: series.Eq,\n",
    "        Comparando: key,\n",
    "    }\n",
    "    // get array, this time only with weights information using the filter (for team)\n",
    "    keyWeights:= dataset.Filter(filter).Col(\"Weight(pounds)\").Float()\n",
    "\n",
    "    //calculate metrics\n",
    "    minVal := floats.Min(keyWeights)\n",
    "    maxVal := floats.Max(keyWeights)\n",
    "    varianceVal := stat.Variance(keyWeights, nil)\n",
    "    stdDevVal := stat.StdDev(keyWeights, nil)\n",
    "\n",
    "    fmt.Printf(\"%s \\t %f \\t %f \\t %f \\t %f \\n\", key, minVal, maxVal, varianceVal, stdDevVal)\n",
    "}"
   ]
  },
  {
   "cell_type": "markdown",
   "metadata": {},
   "source": [
    "#### Visualize the relationship between width and heigh"
   ]
  },
  {
   "cell_type": "code",
   "execution_count": null,
   "metadata": {},
   "outputs": [],
   "source": [
    "plotGrid, err := plot.New()\n",
    "if err != nil {\n",
    "    fmt.Println(err)\n",
    "}"
   ]
  },
  {
   "cell_type": "code",
   "execution_count": null,
   "metadata": {},
   "outputs": [],
   "source": [
    "plotGrid.Title.Text = \"relationship between width and heigh\"\n",
    "plotGrid.Y.Label.Text = \"Weight\"\n",
    "plotGrid.X.Label.Text = \"Height\""
   ]
  },
  {
   "cell_type": "code",
   "execution_count": null,
   "metadata": {},
   "outputs": [],
   "source": [
    "plotGrid.Add(plotter.NewGrid())"
   ]
  },
  {
   "cell_type": "code",
   "execution_count": null,
   "metadata": {},
   "outputs": [],
   "source": [
    "\n",
    "widthsHeighs := dataset.Select([]string{\"Height(inches)\",\"Weight(pounds)\"})\n"
   ]
  },
  {
   "cell_type": "code",
   "execution_count": null,
   "metadata": {},
   "outputs": [],
   "source": [
    "fmt.Println(widthsHeighs)"
   ]
  },
  {
   "cell_type": "code",
   "execution_count": null,
   "metadata": {},
   "outputs": [],
   "source": [
    "ptsPlot := make(plotter.XYs, widthsHeighs.Nrow())\n",
    "for i,val := range ptsPlot { // builds points to add to our graph\n",
    "    ptsPlot[i].X = widthsHeighs.Elem(i,0).Float()\n",
    "    ptsPlot[i].Y = widthsHeighs.Elem(i,1).Float()\n",
    "    if widthsHeighs.Elem(i,0).IsNA() {\n",
    "        ptsPlot[i].X = 0\n",
    "    }\n",
    "    if widthsHeighs.Elem(i,1).IsNA() {\n",
    "        ptsPlot[i].Y = 0\n",
    "    }\n",
    "}"
   ]
  },
  {
   "cell_type": "code",
   "execution_count": null,
   "metadata": {},
   "outputs": [],
   "source": []
  },
  {
   "cell_type": "code",
   "execution_count": null,
   "metadata": {},
   "outputs": [],
   "source": [
    "s, err := plotter.NewScatter(ptsPlot)\n",
    "if err != nil {\n",
    "    fmt.Println(err)\n",
    "}"
   ]
  },
  {
   "cell_type": "code",
   "execution_count": null,
   "metadata": {},
   "outputs": [],
   "source": [
    "s.GlyphStyle.Color = color.RGBA{R: 255, B: 128, A: 255}"
   ]
  },
  {
   "cell_type": "code",
   "execution_count": null,
   "metadata": {},
   "outputs": [],
   "source": [
    "plotGrid.Add(s)"
   ]
  },
  {
   "cell_type": "code",
   "execution_count": null,
   "metadata": {},
   "outputs": [],
   "source": [
    "if err := plotGrid.Save(4*vg.Inch, 4*vg.Inch, \"wvsh1.png\"); err != nil {\n",
    "\tfmt.Println(err)\n",
    "}\n"
   ]
  },
  {
   "cell_type": "code",
   "execution_count": null,
   "metadata": {},
   "outputs": [],
   "source": [
    "graph1, err :=GetGraph(\"wvsh1.png\")\n",
    "if err != nil {\n",
    "    fmt.Println(err)\n",
    "}"
   ]
  },
  {
   "cell_type": "code",
   "execution_count": null,
   "metadata": {},
   "outputs": [],
   "source": [
    "display.PNG(graph1)"
   ]
  },
  {
   "cell_type": "markdown",
   "metadata": {},
   "source": [
    "#### Visualize the distribution of the weights for all teams"
   ]
  },
  {
   "cell_type": "code",
   "execution_count": null,
   "metadata": {},
   "outputs": [],
   "source": []
  },
  {
   "cell_type": "code",
   "execution_count": null,
   "metadata": {},
   "outputs": [],
   "source": [
    "for key :=range teamsMap{\n",
    "    v := make(plotter.Values, widthsHeighs.Nrow())\n",
    "    // create a filter over the datafrate using the key map to filter data for team\n",
    "    filter := dataframe.F{\n",
    "        Colname:    \"Team\",\n",
    "        Comparator: series.Eq,\n",
    "        Comparando: key,\n",
    "    }\n",
    "    // get array, this time only with weights information using the filter (for team)\n",
    "    v = dataset.Filter(filter).Col(\"Weight(pounds)\").Float()\n",
    "    // Make a plot and set its title.\n",
    "    p, err := plot.New()\n",
    "    if err != nil {\n",
    "        fmt.Println(err)\n",
    "    }\n",
    "    p.Title.Text = fmt.Sprintf(\"Histogram of a %s\", key)\n",
    "    // Create a histogram of our values drawn\n",
    "    // from the standard normal.\n",
    "    h, err := plotter.NewHist(v, 16)\n",
    "    if err != nil {\n",
    "        fmt.Println(err)\n",
    "    }\n",
    "    // Normalize the histogram.\n",
    "    h.Normalize(1)\n",
    "    // Add the histogram to the plot.\n",
    "    p.Add(h)\n",
    "    if err := p.Save(4*vg.Inch, 4*vg.Inch, key+\"_hist.png\"); err !=nil {\n",
    "        fmt.Println(err)\n",
    "    }\n",
    "}"
   ]
  },
  {
   "cell_type": "code",
   "execution_count": null,
   "metadata": {},
   "outputs": [],
   "source": [
    "graph, err :=GetGraph(\"BAL_hist.png\")\n",
    "display.PNG(graph)"
   ]
  },
  {
   "cell_type": "markdown",
   "metadata": {},
   "source": [
    "Find the linear regression of this data. The idea is to find the best-fit line: y = alpha + beta*x"
   ]
  },
  {
   "cell_type": "code",
   "execution_count": null,
   "metadata": {},
   "outputs": [],
   "source": [
    "alpha, beta := stat.LinearRegression(widthsHeighs.Col(\"Height(inches)\").Float(),widthsHeighs.Col(\"Weight(pounds)\").Float(), nil, false)"
   ]
  },
  {
   "cell_type": "code",
   "execution_count": null,
   "metadata": {},
   "outputs": [],
   "source": [
    "fmt.Printf(\"y = %f + %f * x\",alpha,beta) "
   ]
  },
  {
   "cell_type": "code",
   "execution_count": null,
   "metadata": {},
   "outputs": [],
   "source": []
  },
  {
   "cell_type": "code",
   "execution_count": null,
   "metadata": {},
   "outputs": [],
   "source": []
  },
  {
   "cell_type": "code",
   "execution_count": null,
   "metadata": {},
   "outputs": [],
   "source": []
  },
  {
   "cell_type": "code",
   "execution_count": null,
   "metadata": {},
   "outputs": [],
   "source": []
  },
  {
   "cell_type": "code",
   "execution_count": null,
   "metadata": {},
   "outputs": [],
   "source": []
  },
  {
   "cell_type": "code",
   "execution_count": null,
   "metadata": {},
   "outputs": [],
   "source": []
  },
  {
   "cell_type": "markdown",
   "metadata": {},
   "source": [
    "\n"
   ]
  },
  {
   "cell_type": "code",
   "execution_count": null,
   "metadata": {},
   "outputs": [],
   "source": [
    "\n"
   ]
  },
  {
   "cell_type": "code",
   "execution_count": null,
   "metadata": {},
   "outputs": [],
   "source": []
  },
  {
   "cell_type": "code",
   "execution_count": null,
   "metadata": {},
   "outputs": [],
   "source": []
  },
  {
   "cell_type": "code",
   "execution_count": null,
   "metadata": {},
   "outputs": [],
   "source": []
  },
  {
   "cell_type": "code",
   "execution_count": null,
   "metadata": {},
   "outputs": [],
   "source": []
  },
  {
   "cell_type": "code",
   "execution_count": null,
   "metadata": {},
   "outputs": [],
   "source": []
  },
  {
   "cell_type": "code",
   "execution_count": null,
   "metadata": {},
   "outputs": [],
   "source": []
  }
 ],
 "metadata": {
  "kernelspec": {
   "display_name": "Go",
   "language": "go",
   "name": "gophernotes"
  },
  "language_info": {
   "codemirror_mode": "",
   "file_extension": ".go",
   "mimetype": "",
   "name": "go",
   "nbconvert_exporter": "",
   "pygments_lexer": "",
   "version": "go1.10.1"
  }
 },
 "nbformat": 4,
 "nbformat_minor": 2
}
