{
 "cells": [
  {
   "cell_type": "markdown",
   "metadata": {},
   "source": [
    "# Linear Regression"
   ]
  },
  {
   "cell_type": "markdown",
   "metadata": {},
   "source": [
    "### 1. import libraries"
   ]
  },
  {
   "cell_type": "code",
   "execution_count": 36,
   "metadata": {},
   "outputs": [],
   "source": [
    "\n",
    "import \"fmt\"\n",
    "import \"gonum.org/v1/gonum/blas/blas64\"\n",
    "import \"gonum.org/v1/gonum/mat\"\n",
    "import \"gonum.org/v1/gonum/floats\"\n",
    "import \"gonum.org/v1/gonum/stat\"\n",
    "import \"gonum.org/v1/plot\"\n",
    "import \"gonum.org/v1/plot/plotter\"\n",
    "import \"gonum.org/v1/plot/plotutil\"\n",
    "import \"gonum.org/v1/plot/vg\"\n",
    "//import \"github.com/montanaflynn/stats\" // be careful, it is different from gonum's stat\n",
    "import \"strings\"\n",
    "import \"strconv\"\n",
    "import \"github.com/kniren/gota/dataframe\"\n",
    "import \"os\"\n",
    "import \"encoding/csv\"\n",
    "import \"github.com/kniren/gota/series\"\n",
    "import \"math\"\n",
    "import \"image/color\"\n",
    "import \"io/ioutil\""
   ]
  },
  {
   "cell_type": "code",
   "execution_count": 2,
   "metadata": {},
   "outputs": [],
   "source": [
    "\n",
    "func GetGraph(graphName string) ([]byte, error) { //utility to load graphs (to use later)\n",
    "\tinfile, err := os.Open(graphName)\n",
    "\tbytes, err := ioutil.ReadAll(infile)\n",
    "\tinfile.Close()\n",
    "\treturn bytes, err\n",
    "}"
   ]
  },
  {
   "cell_type": "markdown",
   "metadata": {},
   "source": [
    "#### 2. Load working csv file"
   ]
  },
  {
   "cell_type": "code",
   "execution_count": 3,
   "metadata": {},
   "outputs": [],
   "source": [
    "file, err := os.Open(\"../data/basketball.heigh.and.weigh.csv\")\n",
    "if err != nil {\n",
    "    fmt.Println(err)\n",
    "}"
   ]
  },
  {
   "cell_type": "code",
   "execution_count": 4,
   "metadata": {},
   "outputs": [],
   "source": [
    "dataset := dataframe.ReadCSV(file)"
   ]
  },
  {
   "cell_type": "code",
   "execution_count": 5,
   "metadata": {},
   "outputs": [],
   "source": [
    "file.Close()"
   ]
  },
  {
   "cell_type": "code",
   "execution_count": 6,
   "metadata": {},
   "outputs": [
    {
     "name": "stdout",
     "output_type": "stream",
     "text": [
      "[1034x6] DataFrame\n",
      "\n",
      "    Name            Team     Position       Height(inches) Weight(pounds) ...\n",
      " 0: Adam_Donachie   BAL      Catcher        74             180            ...\n",
      " 1: Paul_Bako       BAL      Catcher        74             215            ...\n",
      " 2: Ramon_Hernandez BAL      Catcher        72             210            ...\n",
      " 3: Kevin_Millar    BAL      First_Baseman  72             210            ...\n",
      " 4: Chris_Gomez     BAL      First_Baseman  73             188            ...\n",
      " 5: Brian_Roberts   BAL      Second_Baseman 69             176            ...\n",
      " 6: Miguel_Tejada   BAL      Shortstop      69             209            ...\n",
      " 7: Melvin_Mora     BAL      Third_Baseman  71             200            ...\n",
      " 8: Aubrey_Huff     BAL      Third_Baseman  76             231            ...\n",
      " 9: Adam_Stern      BAL      Outfielder     71             180            ...\n",
      "    ...             ...      ...            ...            ...            ...\n",
      "    <string>        <string> <string>       <int>          <int>          ...\n",
      "\n",
      "Not Showing: Age <float>\n",
      "\n"
     ]
    },
    {
     "data": {
      "text/plain": [
       "1061 <nil>"
      ]
     },
     "execution_count": 6,
     "metadata": {},
     "output_type": "execute_result"
    }
   ],
   "source": [
    "fmt.Println(dataset)"
   ]
  },
  {
   "cell_type": "markdown",
   "metadata": {},
   "source": [
    "### We can select one or many columns of a dataFrame :"
   ]
  },
  {
   "cell_type": "code",
   "execution_count": 7,
   "metadata": {},
   "outputs": [
    {
     "name": "stdout",
     "output_type": "stream",
     "text": [
      "[BAL BAL BAL BAL BAL]\n"
     ]
    },
    {
     "data": {
      "text/plain": [
       "22 <nil>"
      ]
     },
     "execution_count": 7,
     "metadata": {},
     "output_type": "execute_result"
    }
   ],
   "source": [
    "fmt.Println(dataset.Col(\"Team\").Subset([]int{1,2,3,4,5}))"
   ]
  },
  {
   "cell_type": "code",
   "execution_count": 8,
   "metadata": {},
   "outputs": [
    {
     "name": "stdout",
     "output_type": "stream",
     "text": [
      "[1034x2] DataFrame\n",
      "\n",
      "    Name            Position      \n",
      " 0: Adam_Donachie   Catcher       \n",
      " 1: Paul_Bako       Catcher       \n",
      " 2: Ramon_Hernandez Catcher       \n",
      " 3: Kevin_Millar    First_Baseman \n",
      " 4: Chris_Gomez     First_Baseman \n",
      " 5: Brian_Roberts   Second_Baseman\n",
      " 6: Miguel_Tejada   Shortstop     \n",
      " 7: Melvin_Mora     Third_Baseman \n",
      " 8: Aubrey_Huff     Third_Baseman \n",
      " 9: Adam_Stern      Outfielder    \n",
      "    ...             ...           \n",
      "    <string>        <string>      \n",
      "\n"
     ]
    },
    {
     "data": {
      "text/plain": [
       "476 <nil>"
      ]
     },
     "execution_count": 8,
     "metadata": {},
     "output_type": "execute_result"
    }
   ],
   "source": [
    "fmt.Println(dataset.Select([]string{\"Name\",\"Position\"}))"
   ]
  },
  {
   "cell_type": "markdown",
   "metadata": {},
   "source": [
    "##### select name, position and heigt for the Chicago White Sox "
   ]
  },
  {
   "cell_type": "code",
   "execution_count": 9,
   "metadata": {},
   "outputs": [],
   "source": [
    "filter := dataframe.F{\n",
    "    Colname:    \"Team\",\n",
    "    Comparator: series.Eq,\n",
    "    Comparando: \"CWS\",\n",
    "}"
   ]
  },
  {
   "cell_type": "code",
   "execution_count": 10,
   "metadata": {},
   "outputs": [
    {
     "name": "stdout",
     "output_type": "stream",
     "text": [
      "[33x3] DataFrame\n",
      "\n",
      "    Name              Position       Weight(pounds)\n",
      " 0: A.J._Pierzynski   Catcher        245           \n",
      " 1: Toby_Hall         Catcher        240           \n",
      " 2: Paul_Konerko      First_Baseman  215           \n",
      " 3: Tadahito_Iguchi   Second_Baseman 185           \n",
      " 4: Juan_Uribe        Shortstop      175           \n",
      " 5: Alex_Cintron      Shortstop      199           \n",
      " 6: Joe_Crede         Third_Baseman  200           \n",
      " 7: Josh_Fields       Third_Baseman  215           \n",
      " 8: Ryan_Sweeney      Outfielder     200           \n",
      " 9: Brian_N._Anderson Outfielder     205           \n",
      "    ...               ...            ...           \n",
      "    <string>          <string>       <int>         \n",
      "\n"
     ]
    },
    {
     "data": {
      "text/plain": [
       "695 <nil>"
      ]
     },
     "execution_count": 10,
     "metadata": {},
     "output_type": "execute_result"
    }
   ],
   "source": [
    "fmt.Println(dataset.Filter(filter).Select([]string{\"Name\",\"Position\",\"Weight(pounds)\"}))"
   ]
  },
  {
   "cell_type": "markdown",
   "metadata": {},
   "source": [
    "### Find the average width and heigh by team"
   ]
  },
  {
   "cell_type": "markdown",
   "metadata": {},
   "source": [
    "find all teams (no duplicated)"
   ]
  },
  {
   "cell_type": "code",
   "execution_count": 11,
   "metadata": {},
   "outputs": [],
   "source": [
    "teams :=dataset.Col(\"Team\").Records()"
   ]
  },
  {
   "cell_type": "code",
   "execution_count": 12,
   "metadata": {},
   "outputs": [],
   "source": [
    "teamsMap := make(map[string]string)\n",
    "for _,val := range teams {//build a map with team names\n",
    "    teamsMap[val]=val\n",
    "}"
   ]
  },
  {
   "cell_type": "code",
   "execution_count": 16,
   "metadata": {},
   "outputs": [
    {
     "name": "stdout",
     "output_type": "stream",
     "text": [
      "map[LA:LA WAS:WAS ANA:ANA TB:TB CHC:CHC SEA:SEA MIN:MIN HOU:HOU SD:SD CWS:CWS CLE:CLE NYY:NYY SF:SF OAK:OAK TEX:TEX COL:COL CIN:CIN NYM:NYM BAL:BAL DET:DET ATL:ATL STL:STL TOR:TOR MLW:MLW PIT:PIT FLA:FLA PHI:PHI BOS:BOS KC:KC ARZ:ARZ]\n"
     ]
    },
    {
     "data": {
      "text/plain": [
       "235 <nil>"
      ]
     },
     "execution_count": 16,
     "metadata": {},
     "output_type": "execute_result"
    }
   ],
   "source": [
    "fmt.Println(teamsMap)"
   ]
  },
  {
   "cell_type": "markdown",
   "metadata": {},
   "source": [
    "### Measures of central tendency"
   ]
  },
  {
   "cell_type": "markdown",
   "metadata": {},
   "source": [
    "For each team, find the average (the mean) and mode for width and height"
   ]
  },
  {
   "cell_type": "code",
   "execution_count": 30,
   "metadata": {},
   "outputs": [
    {
     "name": "stdout",
     "output_type": "stream",
     "text": [
      "// warning: expression returns 2 values, using only the first one: [float64 float64]\n",
      "// warning: expression returns 2 values, using only the first one: [float64 float64]\n",
      "key \t wMean \t \t hMean \n",
      "ANA \t 201.085714 \t 73.342857 \t 220.000000 \t 74.000000 \n",
      "TB \t 197.454545 \t 73.696970 \t 200.000000 \t 73.000000 \n",
      "CHC \t 204.138889 \t 74.138889 \t 180.000000 \t 73.000000 \n",
      "LA \t 203.878788 \t 73.363636 \t 200.000000 \t 72.000000 \n",
      "WAS \t 199.750000 \t 74.138889 \t 180.000000 \t 75.000000 \n",
      "HOU \t 198.058824 \t 72.970588 \t 190.000000 \t 72.000000 \n",
      "SD \t 203.757576 \t 73.484848 \t 200.000000 \t 73.000000 \n",
      "CWS \t 210.515152 \t 74.636364 \t 200.000000 \t 74.000000 \n",
      "CLE \t 201.657143 \t 74.085714 \t 190.000000 \t 74.000000 \n",
      "NYY \t 208.312500 \t 74.343750 \t 230.000000 \t 75.000000 \n",
      "SEA \t 198.676471 \t 73.588235 \t 190.000000 \t 74.000000 \n",
      "MIN \t 201.181818 \t 73.090909 \t 200.000000 \t 76.000000 \n",
      "OAK \t 198.972973 \t 73.270270 \t 180.000000 \t 75.000000 \n",
      "TEX \t 202.600000 \t 74.085714 \t 200.000000 \t 74.000000 \n",
      "COL \t 198.371429 \t 73.942857 \t 190.000000 \t 75.000000 \n",
      "SF \t 202.794118 \t 73.558824 \t 215.000000 \t 74.000000 \n",
      "BAL \t 196.342857 \t 73.485714 \t 180.000000 \t 73.000000 \n",
      "DET \t 203.837838 \t 73.702703 \t 210.000000 \t 72.000000 \n",
      "ATL \t 199.513514 \t 73.837838 \t 200.000000 \t 73.000000 \n",
      "CIN \t 198.277778 \t 73.666667 \t 195.000000 \t 75.000000 \n",
      "NYM \t 197.210526 \t 72.947368 \t 190.000000 \t 72.000000 \n",
      "TOR \t 203.852941 \t 73.882353 \t 180.000000 \t 75.000000 \n",
      "MLW \t 205.285714 \t 73.600000 \t 190.000000 \t 72.000000 \n",
      "PIT \t 204.371429 \t 73.600000 \t 200.000000 \t 74.000000 \n",
      "STL \t 201.625000 \t 73.625000 \t 180.000000 \t 75.000000 \n",
      "BOS \t 204.833333 \t 74.222222 \t 180.000000 \t 74.000000 \n",
      "KC \t 195.914286 \t 73.514286 \t 200.000000 \t 75.000000 \n",
      "ARZ \t 208.071429 \t 73.678571 \t 200.000000 \t 74.000000 \n",
      "FLA \t 202.375000 \t 73.937500 \t 220.000000 \t 76.000000 \n",
      "PHI \t 195.194444 \t 73.555556 \t 190.000000 \t 76.000000 \n"
     ]
    }
   ],
   "source": [
    "fmt.Printf(\"%s \\t %s \\t \\t %s \\n\",\"key\",\"wMean\",\"hMean\" )\n",
    "for key :=range teamsMap{\n",
    "    // create a filter over the datafrate using the key map to filter data for team\n",
    "    filter := dataframe.F{\n",
    "        Colname:    \"Team\",\n",
    "        Comparator: series.Eq,\n",
    "        Comparando: key,\n",
    "    }\n",
    "    // get array with weights and heights information using the filter (for team)\n",
    "    keyWeights:= dataset.Filter(filter).Col(\"Weight(pounds)\").Float()\n",
    "    keyHeights:= dataset.Filter(filter).Col(\"Height(inches)\").Float()\n",
    "    \n",
    "    // calculate data\n",
    "    wMean := stat.Mean(keyWeights,nil)\n",
    "    hMean := stat.Mean(keyHeights,nil)\n",
    "    wMode := stat.Mode(keyWeights, nil)\n",
    "    hMode := stat.Mode(keyHeights, nil)\n",
    "    fmt.Printf(\"%s \\t %f \\t %f \\t %f \\t %f \\n\", key, wMean, hMean, wMode,hMode )\n",
    "}"
   ]
  },
  {
   "cell_type": "markdown",
   "metadata": {},
   "source": [
    "### Measures of spread or dispersion"
   ]
  },
  {
   "cell_type": "markdown",
   "metadata": {},
   "source": [
    "Let's focalize in the weight, calculate the maximun, minimun, Range, Variance and Standar Deviation for each team"
   ]
  },
  {
   "cell_type": "code",
   "execution_count": 39,
   "metadata": {},
   "outputs": [
    {
     "name": "stdout",
     "output_type": "stream",
     "text": [
      "ARZ \t 165.000000 \t 254.000000 \t 602.142857 \t 24.538599 \n",
      "FLA \t 165.000000 \t 240.000000 \t 477.274194 \t 21.846606 \n",
      "PHI \t 150.000000 \t 250.000000 \t 628.846825 \t 25.076818 \n",
      "BOS \t 170.000000 \t 240.000000 \t 364.028571 \t 19.079533 \n",
      "KC \t 150.000000 \t 240.000000 \t 452.786555 \t 21.278782 \n",
      "CHC \t 175.000000 \t 255.000000 \t 409.551587 \t 20.237381 \n",
      "LA \t 165.000000 \t 250.000000 \t 415.797348 \t 20.391110 \n",
      "WAS \t 150.000000 \t 260.000000 \t 693.907143 \t 26.342117 \n",
      "ANA \t 155.000000 \t 250.000000 \t 514.374790 \t 22.679832 \n",
      "TB \t 160.000000 \t 235.000000 \t 256.568182 \t 16.017746 \n",
      "NYY \t 170.000000 \t 278.000000 \t 580.544355 \t 24.094488 \n",
      "SEA \t 150.000000 \t 237.000000 \t 380.043672 \t 19.494709 \n",
      "MIN \t 160.000000 \t 260.000000 \t 546.965909 \t 23.387302 \n",
      "HOU \t 156.000000 \t 245.000000 \t 473.875223 \t 21.768675 \n",
      "SD \t 170.000000 \t 250.000000 \t 405.501894 \t 20.137078 \n",
      "CWS \t 175.000000 \t 270.000000 \t 466.195076 \t 21.591551 \n",
      "CLE \t 170.000000 \t 290.000000 \t 623.526050 \t 24.970504 \n",
      "COL \t 160.000000 \t 250.000000 \t 374.534454 \t 19.352893 \n",
      "SF \t 165.000000 \t 240.000000 \t 331.319964 \t 18.202197 \n",
      "OAK \t 165.000000 \t 237.000000 \t 397.027027 \t 19.925537 \n",
      "TEX \t 160.000000 \t 250.000000 \t 423.070588 \t 20.568680 \n",
      "ATL \t 164.000000 \t 250.000000 \t 437.145646 \t 20.908028 \n",
      "CIN \t 0.000000 \t 240.000000 \t 1411.463492 \t 37.569449 \n",
      "NYM \t 160.000000 \t 240.000000 \t 341.143670 \t 18.470075 \n",
      "BAL \t 160.000000 \t 231.000000 \t 296.173109 \t 17.209681 \n",
      "DET \t 167.000000 \t 232.000000 \t 251.417417 \t 15.856148 \n",
      "PIT \t 170.000000 \t 245.000000 \t 351.181513 \t 18.739838 \n",
      "STL \t 163.000000 \t 240.000000 \t 383.145161 \t 19.574094 \n",
      "TOR \t 155.000000 \t 275.000000 \t 769.765597 \t 27.744650 \n",
      "MLW \t 176.000000 \t 260.000000 \t 325.445378 \t 18.040105 \n"
     ]
    }
   ],
   "source": [
    "for key :=range teamsMap{\n",
    "    // create a filter over the datafrate using the key map to filter data for team\n",
    "    filter := dataframe.F{\n",
    "        Colname:    \"Team\",\n",
    "        Comparator: series.Eq,\n",
    "        Comparando: key,\n",
    "    }\n",
    "    // get array, this time only with weights information using the filter (for team)\n",
    "    keyWeights:= dataset.Filter(filter).Col(\"Weight(pounds)\").Float()\n",
    "\n",
    "    //calculate metrics\n",
    "    minVal := floats.Min(keyWeights)\n",
    "    maxVal := floats.Max(keyWeights)\n",
    "    varianceVal := stat.Variance(keyWeights, nil)\n",
    "    stdDevVal := stat.StdDev(keyWeights, nil)\n",
    "\n",
    "    fmt.Printf(\"%s \\t %f \\t %f \\t %f \\t %f \\n\", key, minVal, maxVal, varianceVal, stdDevVal)\n",
    "}"
   ]
  },
  {
   "cell_type": "markdown",
   "metadata": {},
   "source": [
    "#### Visualize the relationship between width and heigh"
   ]
  },
  {
   "cell_type": "code",
   "execution_count": 40,
   "metadata": {},
   "outputs": [],
   "source": [
    "plotGrid, err := plot.New()\n",
    "if err != nil {\n",
    "    fmt.Println(err)\n",
    "}"
   ]
  },
  {
   "cell_type": "code",
   "execution_count": 41,
   "metadata": {},
   "outputs": [],
   "source": [
    "plotGrid.Title.Text = \"relationship between width and heigh\"\n",
    "plotGrid.Y.Label.Text = \"Weight\"\n",
    "plotGrid.X.Label.Text = \"Height\""
   ]
  },
  {
   "cell_type": "code",
   "execution_count": 42,
   "metadata": {},
   "outputs": [],
   "source": [
    "plotGrid.Add(plotter.NewGrid())"
   ]
  },
  {
   "cell_type": "code",
   "execution_count": 43,
   "metadata": {},
   "outputs": [],
   "source": [
    "\n",
    "widthsHeighs := dataset.Select([]string{\"Height(inches)\",\"Weight(pounds)\"})\n"
   ]
  },
  {
   "cell_type": "code",
   "execution_count": 44,
   "metadata": {},
   "outputs": [
    {
     "name": "stdout",
     "output_type": "stream",
     "text": [
      "[1034x2] DataFrame\n",
      "\n",
      "    Height(inches) Weight(pounds)\n",
      " 0: 74             180           \n",
      " 1: 74             215           \n",
      " 2: 72             210           \n",
      " 3: 72             210           \n",
      " 4: 73             188           \n",
      " 5: 69             176           \n",
      " 6: 69             209           \n",
      " 7: 71             200           \n",
      " 8: 76             231           \n",
      " 9: 71             180           \n",
      "    ...            ...           \n",
      "    <int>          <int>         \n",
      "\n"
     ]
    },
    {
     "data": {
      "text/plain": [
       "463 <nil>"
      ]
     },
     "execution_count": 44,
     "metadata": {},
     "output_type": "execute_result"
    }
   ],
   "source": [
    "fmt.Println(widthsHeighs)"
   ]
  },
  {
   "cell_type": "code",
   "execution_count": 45,
   "metadata": {},
   "outputs": [],
   "source": [
    "ptsPlot := make(plotter.XYs, widthsHeighs.Nrow())\n",
    "for i,val := range ptsPlot { // builds points to add to our graph\n",
    "    ptsPlot[i].X = widthsHeighs.Elem(i,0).Float()\n",
    "    ptsPlot[i].Y = widthsHeighs.Elem(i,1).Float()\n",
    "    if widthsHeighs.Elem(i,0).IsNA() {\n",
    "        ptsPlot[i].X = 0\n",
    "    }\n",
    "    if widthsHeighs.Elem(i,1).IsNA() {\n",
    "        ptsPlot[i].Y = 0\n",
    "    }\n",
    "}"
   ]
  },
  {
   "cell_type": "code",
   "execution_count": null,
   "metadata": {},
   "outputs": [],
   "source": []
  },
  {
   "cell_type": "code",
   "execution_count": 46,
   "metadata": {},
   "outputs": [],
   "source": [
    "s, err := plotter.NewScatter(ptsPlot)\n",
    "if err != nil {\n",
    "    fmt.Println(err)\n",
    "}"
   ]
  },
  {
   "cell_type": "code",
   "execution_count": 47,
   "metadata": {},
   "outputs": [],
   "source": [
    "s.GlyphStyle.Color = color.RGBA{R: 255, B: 128, A: 255}"
   ]
  },
  {
   "cell_type": "code",
   "execution_count": 48,
   "metadata": {},
   "outputs": [],
   "source": [
    "plotGrid.Add(s)"
   ]
  },
  {
   "cell_type": "code",
   "execution_count": 49,
   "metadata": {},
   "outputs": [],
   "source": [
    "if err := plotGrid.Save(4*vg.Inch, 4*vg.Inch, \"wvsh1.png\"); err != nil {\n",
    "\tfmt.Println(err)\n",
    "}\n"
   ]
  },
  {
   "cell_type": "code",
   "execution_count": 50,
   "metadata": {},
   "outputs": [],
   "source": [
    "graph1, err :=GetGraph(\"wvsh1.png\")\n",
    "if err != nil {\n",
    "    fmt.Println(err)\n",
    "}"
   ]
  },
  {
   "cell_type": "code",
   "execution_count": 52,
   "metadata": {},
   "outputs": [
    {
     "data": {
      "image/png": "[encoded data removed]",
      "text/plain": [
       "png image"
      ]
     },
     "execution_count": 52,
     "metadata": {},
     "output_type": "execute_result"
    }
   ],
   "source": [
    "display.PNG(graph1)"
   ]
  },
  {
   "cell_type": "markdown",
   "metadata": {},
   "source": [
    "#### Visualize the distribution of the weights for all teams"
   ]
  },
  {
   "cell_type": "code",
   "execution_count": 55,
   "metadata": {},
   "outputs": [],
   "source": []
  },
  {
   "cell_type": "code",
   "execution_count": 66,
   "metadata": {},
   "outputs": [],
   "source": [
    "for key :=range teamsMap{\n",
    "    v := make(plotter.Values, widthsHeighs.Nrow())\n",
    "    // create a filter over the datafrate using the key map to filter data for team\n",
    "    filter := dataframe.F{\n",
    "        Colname:    \"Team\",\n",
    "        Comparator: series.Eq,\n",
    "        Comparando: key,\n",
    "    }\n",
    "    // get array, this time only with weights information using the filter (for team)\n",
    "    v = dataset.Filter(filter).Col(\"Weight(pounds)\").Float()\n",
    "    // Make a plot and set its title.\n",
    "    p, err := plot.New()\n",
    "    if err != nil {\n",
    "        fmt.Println(err)\n",
    "    }\n",
    "    p.Title.Text = fmt.Sprintf(\"Histogram of a %s\", key)\n",
    "    // Create a histogram of our values drawn\n",
    "    // from the standard normal.\n",
    "    h, err := plotter.NewHist(v, 16)\n",
    "    if err != nil {\n",
    "        fmt.Println(err)\n",
    "    }\n",
    "    // Normalize the histogram.\n",
    "    h.Normalize(1)\n",
    "    // Add the histogram to the plot.\n",
    "    p.Add(h)\n",
    "    if err := p.Save(4*vg.Inch, 4*vg.Inch, key+\"_hist.png\"); err !=nil {\n",
    "        fmt.Println(err)\n",
    "    }\n",
    "    \n",
    "    \n",
    "    display.PNG(graph)\n",
    "}"
   ]
  },
  {
   "cell_type": "code",
   "execution_count": 73,
   "metadata": {},
   "outputs": [
    {
     "data": {
      "image/png": "[encoded data removed]",
      "text/plain": [
       "png image"
      ]
     },
     "execution_count": 73,
     "metadata": {},
     "output_type": "execute_result"
    }
   ],
   "source": [
    "graph, err :=GetGraph(\"BAL_hist.png\")\n",
    "display.PNG(graph)"
   ]
  },
  {
   "cell_type": "markdown",
   "metadata": {},
   "source": [
    "Find the linear regression of this data. The idea is to find the best-fit line: y = alpha + beta*x"
   ]
  },
  {
   "cell_type": "code",
   "execution_count": 70,
   "metadata": {},
   "outputs": [
    {
     "ename": "ERROR",
     "evalue": "repl.go:1:1: invalid qualified type, expecting packagename.identifier, found: get_ipython().set_next_input <*ast.SelectorExpr>",
     "output_type": "error",
     "traceback": [
      "repl.go:1:1: invalid qualified type, expecting packagename.identifier, found: get_ipython().set_next_input <*ast.SelectorExpr>"
     ]
    }
   ],
   "source": []
  },
  {
   "cell_type": "code",
   "execution_count": null,
   "metadata": {},
   "outputs": [],
   "source": [
    "alpha, beta := stat.LinearRegression(widthsHeighs.Col(\"Height(inches)\").Float(),widthsHeighs.Col(\"Weight(pounds)\").Float(), nil, false)"
   ]
  },
  {
   "cell_type": "code",
   "execution_count": null,
   "metadata": {},
   "outputs": [],
   "source": []
  },
  {
   "cell_type": "code",
   "execution_count": null,
   "metadata": {},
   "outputs": [],
   "source": [
    "fmt.Printf(\"y = %f + %f * x\",alpha,beta) "
   ]
  },
  {
   "cell_type": "code",
   "execution_count": null,
   "metadata": {},
   "outputs": [],
   "source": []
  },
  {
   "cell_type": "code",
   "execution_count": null,
   "metadata": {},
   "outputs": [],
   "source": []
  },
  {
   "cell_type": "code",
   "execution_count": null,
   "metadata": {},
   "outputs": [],
   "source": []
  },
  {
   "cell_type": "code",
   "execution_count": null,
   "metadata": {},
   "outputs": [],
   "source": []
  },
  {
   "cell_type": "code",
   "execution_count": null,
   "metadata": {},
   "outputs": [],
   "source": []
  },
  {
   "cell_type": "code",
   "execution_count": null,
   "metadata": {},
   "outputs": [],
   "source": []
  },
  {
   "cell_type": "markdown",
   "metadata": {},
   "source": [
    "\n"
   ]
  },
  {
   "cell_type": "code",
   "execution_count": null,
   "metadata": {},
   "outputs": [],
   "source": [
    "\n"
   ]
  },
  {
   "cell_type": "code",
   "execution_count": null,
   "metadata": {},
   "outputs": [],
   "source": []
  },
  {
   "cell_type": "code",
   "execution_count": null,
   "metadata": {},
   "outputs": [],
   "source": []
  },
  {
   "cell_type": "code",
   "execution_count": null,
   "metadata": {},
   "outputs": [],
   "source": []
  },
  {
   "cell_type": "code",
   "execution_count": null,
   "metadata": {},
   "outputs": [],
   "source": []
  },
  {
   "cell_type": "code",
   "execution_count": null,
   "metadata": {},
   "outputs": [],
   "source": []
  },
  {
   "cell_type": "code",
   "execution_count": null,
   "metadata": {},
   "outputs": [],
   "source": []
  }
 ],
 "metadata": {
  "kernelspec": {
   "display_name": "Go",
   "language": "go",
   "name": "gophernotes"
  },
  "language_info": {
   "codemirror_mode": "",
   "file_extension": ".go",
   "mimetype": "",
   "name": "go",
   "nbconvert_exporter": "",
   "pygments_lexer": "",
   "version": "go1.10.1"
  }
 },
 "nbformat": 4,
 "nbformat_minor": 2
}
