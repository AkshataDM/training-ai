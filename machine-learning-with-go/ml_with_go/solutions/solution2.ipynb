{
 "cells": [
  {
   "cell_type": "markdown",
   "metadata": {},
   "source": [
    "# Exercise - Classification"
   ]
  },
  {
   "cell_type": "markdown",
   "metadata": {},
   "source": [
    "## Imports"
   ]
  },
  {
   "cell_type": "code",
   "execution_count": null,
   "metadata": {},
   "outputs": [],
   "source": [
    "import (\n",
    "    \"io/ioutil\"\n",
    "    \"fmt\"\n",
    "    \"os\"\n",
    "    \"math\"\n",
    "    \"math/rand\"\n",
    "    \n",
    "    \"github.com/kniren/gota/dataframe\"\n",
    "    \"github.com/kniren/gota/series\"\n",
    "    \"gonum.org/v1/plot\"\n",
    "    \"gonum.org/v1/plot/plotter\"\n",
    "    \"gonum.org/v1/plot/plotutil\"\n",
    "    \"gonum.org/v1/plot/vg\"\n",
    "    \"gonum.org/v1/gonum/stat\"\n",
    "    \"gonum.org/v1/gonum/floats\"\n",
    "    \"github.com/sjwhitworth/golearn/knn\"\n",
    "    \"github.com/sjwhitworth/golearn/base\"\n",
    "    \"github.com/sjwhitworth/golearn/evaluation\"\n",
    "    \"github.com/sjwhitworth/golearn/trees\"\n",
    ")"
   ]
  },
  {
   "cell_type": "markdown",
   "metadata": {},
   "source": [
    "## Import the Data"
   ]
  },
  {
   "cell_type": "code",
   "execution_count": null,
   "metadata": {},
   "outputs": [],
   "source": [
    "// Read in the iris data set into golearn \"instances\".\n",
    "irisData, err := base.ParseCSVToInstances(\"../data/iris.csv\", true)\n",
    "if err != nil {\n",
    "    fmt.Println(err)\n",
    "}"
   ]
  },
  {
   "cell_type": "markdown",
   "metadata": {},
   "source": [
    "## Defining and evaluating multiple kNN models"
   ]
  },
  {
   "cell_type": "code",
   "execution_count": null,
   "metadata": {},
   "outputs": [],
   "source": [
    "// The k's we are going to test.\n",
    "ks := []int{2, 3, 4, 5, 6, 7, 8, 9, 10}\n",
    "\n",
    "// Loop over the k values.\n",
    "var metrics []string\n",
    "for _, k := range ks {\n",
    "    \n",
    "    // Define our kNN model.\n",
    "    knn := knn.NewKnnClassifier(\"euclidean\", \"linear\", k)\n",
    "    \n",
    "    // Use cross-fold validation to evaluate the kNN model\n",
    "    // on 5 folds of the data set.\n",
    "    cv, err := evaluation.GenerateCrossFoldValidationConfusionMatrices(irisData, knn, 5)\n",
    "    if err != nil {\n",
    "        fmt.Println(err)\n",
    "    }\n",
    "\n",
    "    // Get the mean, variance and standard deviation of the accuracy for the\n",
    "    // cross validation.\n",
    "    mean, variance := evaluation.GetCrossValidatedMetric(cv, evaluation.GetAccuracy)\n",
    "    stdev := math.Sqrt(variance)\n",
    "\n",
    "    // Output the cross metrics to standard out.\n",
    "    metrics = append(metrics, fmt.Sprintf(\"\\n\\nkNN Accuracy for k=%d:\\n%.2f (+/- %.2f)\", k, mean, stdev*2))\n",
    "}\n",
    "\n",
    "// Output the results.\n",
    "for _, metric := range metrics {\n",
    "    fmt.Println(metric)\n",
    "}"
   ]
  }
 ],
 "metadata": {
  "kernelspec": {
   "display_name": "Go",
   "language": "go",
   "name": "gophernotes"
  },
  "language_info": {
   "codemirror_mode": "",
   "file_extension": ".go",
   "mimetype": "",
   "name": "go",
   "nbconvert_exporter": "",
   "pygments_lexer": "",
   "version": "go1.10.3"
  }
 },
 "nbformat": 4,
 "nbformat_minor": 2
}
