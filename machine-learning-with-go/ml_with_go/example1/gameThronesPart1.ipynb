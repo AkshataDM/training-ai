{
 "cells": [
  {
   "cell_type": "markdown",
   "metadata": {},
   "source": [
    "# The War Of The Five Kings"
   ]
  },
  {
   "cell_type": "markdown",
   "metadata": {},
   "source": [
    "this notebook is based in the analysis made in https://github.com/chrisalbon/war_of_the_five_kings_dataset, and is based on the dataset of the battles in the War of the Five Kings from George R.R. Martin's A Song Of Ice And Fire series.\n",
    "\n"
   ]
  },
  {
   "cell_type": "markdown",
   "metadata": {},
   "source": [
    "### 1. import libraries"
   ]
  },
  {
   "cell_type": "code",
   "execution_count": null,
   "metadata": {},
   "outputs": [],
   "source": [
    "import \"os\"\n",
    "import \"fmt\"\n",
    "import \"encoding/csv\"\n",
    "import \"gonum.org/v1/plot\"\n",
    "import \"gonum.org/v1/plot/plotter\"\n",
    "import \"gonum.org/v1/plot/plotutil\"\n",
    "import \"gonum.org/v1/plot/vg\"\n",
    "import \"io/ioutil\"\n",
    "import \"strings\"\n",
    "\n",
    "\n"
   ]
  },
  {
   "cell_type": "markdown",
   "metadata": {},
   "source": [
    "### 2. open the csv file ../../data/5kings_battles_v1.csv"
   ]
  },
  {
   "cell_type": "code",
   "execution_count": null,
   "metadata": {},
   "outputs": [],
   "source": [
    "file, err := os.Open(\"../data/5kings_battles_v1.csv\")\n",
    "if err != nil {\n",
    "    fmt.Println(err)\n",
    "}"
   ]
  },
  {
   "cell_type": "markdown",
   "metadata": {},
   "source": [
    "### 3. load csv file"
   ]
  },
  {
   "cell_type": "code",
   "execution_count": null,
   "metadata": {},
   "outputs": [],
   "source": [
    "gotcsv := csv.NewReader(file)"
   ]
  },
  {
   "cell_type": "code",
   "execution_count": null,
   "metadata": {},
   "outputs": [],
   "source": [
    "records, err := gotcsv.ReadAll()\n",
    "if err != nil {\n",
    "    fmt.Println(err)\n",
    "}"
   ]
  },
  {
   "cell_type": "code",
   "execution_count": null,
   "metadata": {},
   "outputs": [],
   "source": [
    "for _, record := range records {\n",
    "    fmt.Println(record[0],\"\\t\",record[1],\":\",record[3],record[4],record[5])\n",
    "}"
   ]
  },
  {
   "cell_type": "markdown",
   "metadata": {},
   "source": [
    "#### ... don't forget to close the file"
   ]
  },
  {
   "cell_type": "code",
   "execution_count": null,
   "metadata": {},
   "outputs": [],
   "source": [
    "file.Close()"
   ]
  },
  {
   "cell_type": "code",
   "execution_count": null,
   "metadata": {},
   "outputs": [],
   "source": [
    "fmt.Println(records[0])"
   ]
  },
  {
   "cell_type": "markdown",
   "metadata": {},
   "source": [
    "### 4. prepare the data for the analisys, transpose the matrix to handle it "
   ]
  },
  {
   "cell_type": "code",
   "execution_count": null,
   "metadata": {},
   "outputs": [],
   "source": [
    "func  transpose(matrix [][]string) [][]string {\n",
    "    r := make([][]string, len(matrix[0])) \n",
    "    for index :=range r{\n",
    "        r[index] = make([]string, len(matrix))\n",
    "    }\n",
    "    for fv, f := range matrix {\n",
    "        for cv, c :=range f {\n",
    "            r[cv][fv] = c\n",
    "        }\n",
    "    }\n",
    "    return r\n",
    "}"
   ]
  },
  {
   "cell_type": "code",
   "execution_count": null,
   "metadata": {},
   "outputs": [],
   "source": [
    "t:=transpose(records)"
   ]
  },
  {
   "cell_type": "code",
   "execution_count": null,
   "metadata": {},
   "outputs": [],
   "source": [
    "fmt.Println(len(records))"
   ]
  },
  {
   "cell_type": "code",
   "execution_count": null,
   "metadata": {},
   "outputs": [],
   "source": [
    "fmt.Println(t[0])"
   ]
  },
  {
   "cell_type": "markdown",
   "metadata": {},
   "source": [
    "# Exploratory Data Analysis"
   ]
  },
  {
   "cell_type": "markdown",
   "metadata": {},
   "source": [
    "## Which year had the most battles?"
   ]
  },
  {
   "cell_type": "markdown",
   "metadata": {},
   "source": [
    "### Count the number of observations for each value"
   ]
  },
  {
   "cell_type": "code",
   "execution_count": null,
   "metadata": {},
   "outputs": [],
   "source": [
    "fmt.Println(t[1][1:])"
   ]
  },
  {
   "cell_type": "code",
   "execution_count": null,
   "metadata": {},
   "outputs": [],
   "source": [
    "func countObservations(vector []string )map[string]int{\n",
    "    freq := make(map[string]int)\n",
    "    for _, item := range vector{\n",
    "        freq[item]++\n",
    "    }\n",
    "    return freq\n",
    "}"
   ]
  },
  {
   "cell_type": "code",
   "execution_count": null,
   "metadata": {},
   "outputs": [],
   "source": [
    "yearCount := countObservations(t[1][1:])"
   ]
  },
  {
   "cell_type": "code",
   "execution_count": null,
   "metadata": {},
   "outputs": [],
   "source": [
    "fmt.Println(yearCount)"
   ]
  },
  {
   "cell_type": "markdown",
   "metadata": {},
   "source": [
    "## Which region had the most battles?"
   ]
  },
  {
   "cell_type": "markdown",
   "metadata": {},
   "source": [
    "### Count the number of observations for each value, then make a bar plot"
   ]
  },
  {
   "cell_type": "code",
   "execution_count": null,
   "metadata": {},
   "outputs": [],
   "source": [
    "regionCount := countObservations(t[21][1:])"
   ]
  },
  {
   "cell_type": "code",
   "execution_count": null,
   "metadata": {},
   "outputs": [],
   "source": [
    "fmt.Println(regionCount)"
   ]
  },
  {
   "cell_type": "code",
   "execution_count": null,
   "metadata": {},
   "outputs": [],
   "source": [
    "p, err := plot.New()\n",
    "if err != nil {\n",
    "    fmt.Println(err)\n",
    "}"
   ]
  },
  {
   "cell_type": "code",
   "execution_count": null,
   "metadata": {},
   "outputs": [],
   "source": [
    "p.Title.Text = \"observations for each value\"\n",
    "p.Y.Label.Text = \"count\""
   ]
  },
  {
   "cell_type": "code",
   "execution_count": null,
   "metadata": {},
   "outputs": [],
   "source": [
    "func splitKeysAndValues(mapData map[string]int)([]string,plotter.Values){\n",
    "    values := make(plotter.Values, len(mapData))\n",
    "    keys := make([]string, len(mapData))\n",
    "    idx := 0\n",
    "    for  key, value := range mapData {\n",
    "        values[idx] = float64(value)\n",
    "        keys[idx] = strings.Replace(key,\" \",\"\\n\",-1)\n",
    "           idx++\n",
    "    }\n",
    "    return keys,values\n",
    "}"
   ]
  },
  {
   "cell_type": "code",
   "execution_count": null,
   "metadata": {},
   "outputs": [],
   "source": [
    "keys,values := splitKeysAndValues(regionCount)"
   ]
  },
  {
   "cell_type": "code",
   "execution_count": null,
   "metadata": {},
   "outputs": [],
   "source": [
    "fmt.Println(values)"
   ]
  },
  {
   "cell_type": "code",
   "execution_count": null,
   "metadata": {},
   "outputs": [],
   "source": [
    "fmt.Println(keys)"
   ]
  },
  {
   "cell_type": "code",
   "execution_count": null,
   "metadata": {},
   "outputs": [],
   "source": [
    "w := vg.Points(20)"
   ]
  },
  {
   "cell_type": "code",
   "execution_count": null,
   "metadata": {},
   "outputs": [],
   "source": [
    "barsA, err := plotter.NewBarChart(values, w)\n",
    "if err != nil {\n",
    "\tfmt.Println(err)\n",
    "}"
   ]
  },
  {
   "cell_type": "code",
   "execution_count": null,
   "metadata": {},
   "outputs": [],
   "source": [
    "p.Add(barsA)"
   ]
  },
  {
   "cell_type": "code",
   "execution_count": null,
   "metadata": {},
   "outputs": [],
   "source": [
    "p.NominalX(keys...)"
   ]
  },
  {
   "cell_type": "code",
   "execution_count": null,
   "metadata": {},
   "outputs": [],
   "source": [
    "if err := p.Save(5*vg.Inch, 3*vg.Inch, \"barchart3.png\"); err != nil {\n",
    "\tfmt.Println(err)\n",
    "}"
   ]
  },
  {
   "cell_type": "code",
   "execution_count": null,
   "metadata": {},
   "outputs": [],
   "source": [
    "func getGraph(graphName string)[]byte{\n",
    "    infile, err := os.Open(graphName)\n",
    "\tbytes, err := ioutil.ReadAll(infile)\n",
    "\tinfile.Close()\n",
    "    return bytes\n",
    "}"
   ]
  },
  {
   "cell_type": "code",
   "execution_count": null,
   "metadata": {},
   "outputs": [],
   "source": [
    "graph:=getGraph(\"barchart3.png\")"
   ]
  },
  {
   "cell_type": "code",
   "execution_count": null,
   "metadata": {},
   "outputs": [],
   "source": [
    "display.PNG(graph)"
   ]
  },
  {
   "cell_type": "markdown",
   "metadata": {},
   "source": [
    "## Is there any relationship between troop size and battle outcome?"
   ]
  },
  {
   "cell_type": "markdown",
   "metadata": {},
   "source": [
    "### Create a ggplot scatter plot of attacker_size against defender_size (if not NaN), \n",
    "### with the color of each dot being determined by the outcome of the battle"
   ]
  },
  {
   "cell_type": "code",
   "execution_count": null,
   "metadata": {},
   "outputs": [],
   "source": [
    "attackerSize := t[15][1:]"
   ]
  },
  {
   "cell_type": "code",
   "execution_count": null,
   "metadata": {},
   "outputs": [],
   "source": [
    "deffenderSize := t[16][1:]"
   ]
  },
  {
   "cell_type": "code",
   "execution_count": null,
   "metadata": {},
   "outputs": [],
   "source": [
    "fmt.Println(attackerSize)"
   ]
  },
  {
   "cell_type": "code",
   "execution_count": null,
   "metadata": {},
   "outputs": [],
   "source": [
    "fmt.Println(deffenderSize)"
   ]
  },
  {
   "cell_type": "code",
   "execution_count": null,
   "metadata": {},
   "outputs": [],
   "source": [
    "attackerOutcome :=t[11][1:]"
   ]
  },
  {
   "cell_type": "code",
   "execution_count": null,
   "metadata": {},
   "outputs": [],
   "source": [
    "fmt.Println(attackerOutcome)"
   ]
  },
  {
   "cell_type": "code",
   "execution_count": null,
   "metadata": {},
   "outputs": [],
   "source": [
    "var attackerWins [2][]string\n",
    "var attackerLose [2][]string\n",
    "attackerWins[0] = make([]string, len(attackerOutcome))\n",
    "attackerWins[1] = make([]string, len(attackerOutcome))\n",
    "attackerLose[0] = make([]string, len(attackerOutcome))\n",
    "attackerLose[1] = make([]string, len(attackerOutcome))\n",
    "atwins :=0\n",
    "atLose := 0\n",
    "for i,val := range attackerOutcome {\n",
    "    if val==\"win\"{\n",
    "        attackerWins[0][atwins]=attackerSize[i]\n",
    "        attackerWins[1][atwins]=deffenderSize[i]\n",
    "        atwins++\n",
    "    }else{\n",
    "        attackerLose[0][atLose]=attackerSize[i]\n",
    "        attackerLose[1][atLose]=deffenderSize[i]\n",
    "        atLose++\n",
    "    }\n",
    "}"
   ]
  },
  {
   "cell_type": "code",
   "execution_count": null,
   "metadata": {},
   "outputs": [],
   "source": [
    "troopvsoutcome, err := plot.New()"
   ]
  },
  {
   "cell_type": "code",
   "execution_count": null,
   "metadata": {},
   "outputs": [],
   "source": [
    "troopvsoutcome.Title.Text = \"relationship between troop size and battle outcome\"\n",
    "troopvsoutcome.Y.Label.Text = \"attacker size\"\n",
    "troopvsoutcome.X.Label.Text = \"defffender size\""
   ]
  },
  {
   "cell_type": "code",
   "execution_count": null,
   "metadata": {},
   "outputs": [],
   "source": [
    "troopvsoutcome.Add(plotter.NewGrid())"
   ]
  },
  {
   "cell_type": "code",
   "execution_count": null,
   "metadata": {},
   "outputs": [],
   "source": [
    "import \"strconv\"\n",
    "import \"image/color\""
   ]
  },
  {
   "cell_type": "code",
   "execution_count": null,
   "metadata": {},
   "outputs": [],
   "source": [
    "func attackerVsDeffenderSize(ndeffender []string, natacker []string) plotter.XYs {\n",
    "    pts := make(plotter.XYs, len(ndeffender))\n",
    "\tfor i := range pts {\n",
    "        if ndeffender[i] == \"\"{\n",
    "            ndeffender[i]=\"0\"\n",
    "        }\n",
    "        if natacker[i] == \"\"{\n",
    "            natacker[i]=\"0\"\n",
    "        }\n",
    "        pts[i].X = strconv.ParseFloat(ndeffender[i], 64)\n",
    "        pts[i].Y = strconv.ParseFloat(natacker[i], 64)\n",
    "\t}\n",
    "\treturn pts\n",
    "}"
   ]
  },
  {
   "cell_type": "code",
   "execution_count": null,
   "metadata": {},
   "outputs": [],
   "source": [
    "s, err := plotter.NewScatter(attackerVsDeffenderSize(attackerWins[1],attackerWins[0]))\n",
    "if err != nil{\n",
    "    fmt.Println(err)\n",
    "}\n",
    "s.GlyphStyle.Color = color.RGBA{R: 255, B: 128, A: 255}"
   ]
  },
  {
   "cell_type": "code",
   "execution_count": null,
   "metadata": {},
   "outputs": [],
   "source": [
    "s1, err := plotter.NewScatter(attackerVsDeffenderSize(attackerLose[1],attackerLose[0]))\n",
    "if err != nil {\n",
    "    fmt.Println(err)\n",
    "}\n",
    "s1.GlyphStyle.Color = color.RGBA{R: 0, B: 128, A: 255}"
   ]
  },
  {
   "cell_type": "code",
   "execution_count": null,
   "metadata": {},
   "outputs": [],
   "source": [
    "troopvsoutcome.Add(s,s1)"
   ]
  },
  {
   "cell_type": "code",
   "execution_count": null,
   "metadata": {},
   "outputs": [],
   "source": [
    "if err := troopvsoutcome.Save(4*vg.Inch, 4*vg.Inch, \"points.png\"); err != nil {\n",
    "\tfmt.Println(err)\n",
    "}"
   ]
  },
  {
   "cell_type": "code",
   "execution_count": null,
   "metadata": {},
   "outputs": [],
   "source": [
    "graph1:=getGraph(\"points.png\")"
   ]
  },
  {
   "cell_type": "code",
   "execution_count": null,
   "metadata": {},
   "outputs": [],
   "source": [
    "display.PNG(graph1)"
   ]
  },
  {
   "cell_type": "code",
   "execution_count": null,
   "metadata": {},
   "outputs": [],
   "source": []
  }
 ],
 "metadata": {
  "kernelspec": {
   "display_name": "Go",
   "language": "go",
   "name": "gophernotes"
  },
  "language_info": {
   "codemirror_mode": "",
   "file_extension": ".go",
   "mimetype": "",
   "name": "go",
   "nbconvert_exporter": "",
   "pygments_lexer": "",
   "version": "go1.10.1"
  }
 },
 "nbformat": 4,
 "nbformat_minor": 2
}
