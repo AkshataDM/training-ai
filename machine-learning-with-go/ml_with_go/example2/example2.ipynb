{
 "cells": [
  {
   "cell_type": "markdown",
   "metadata": {},
   "source": [
    "# Defining, Training, and Testing Models - Regression"
   ]
  },
  {
   "cell_type": "markdown",
   "metadata": {},
   "source": [
    "![ml workflow](https://docs.google.com/drawings/d/e/2PACX-1vQ1XLwesZbm_TuDBPFRvbHa4XcjucvtExy3LXE05WnaAw-s6BDVQnnd4lAEUW1Qy6bs6FythuJdFVqP/pub?w=1165&h=662)\n",
    "\n",
    "Now that we know how to deal with a few types of data, let's start figuring out how we can define, train, and test models in Go. As discussed in the intro to this workshop, there are various types of machine learning (regression, classification, clustering, etc.), but we are going to start with **Regression**.\n",
    "\n",
    "![linear regression](https://raw.githubusercontent.com/ardanlabs/gotraining/master/topics/data/regression/regression.gif)\n",
    "\n",
    "In particular, **linear regression** is widely used to model continuous variables and is used as the basis for other models. It also produces models that are immediately interpretable. Thus, linear regression can provide an excellent starting point for learning ML techniques and for introducing predictive capabilities in a organization.\n",
    "\n",
    "In this example we will be working with a basketball dataset including heights, weights, and ages of various basketball players. To see how linear regression works, we will try to make a prediction of a player's weight based on his height (which should be proportional, right?). In preparation for making that prediction, we will first import our data, profile our data, and split our data into training/test sets."
   ]
  },
  {
   "cell_type": "markdown",
   "metadata": {},
   "source": [
    "## Imports"
   ]
  },
  {
   "cell_type": "code",
   "execution_count": 1,
   "metadata": {},
   "outputs": [],
   "source": [
    "import (\n",
    "    \"io/ioutil\"\n",
    "    \"fmt\"\n",
    "    \"os\"\n",
    "    \"image/color\"\n",
    "    \"math\"\n",
    "    \n",
    "    \"github.com/kniren/gota/dataframe\"\n",
    "    \"gonum.org/v1/plot\"\n",
    "    \"gonum.org/v1/plot/plotter\"\n",
    "    \"gonum.org/v1/plot/plotutil\"\n",
    "    \"gonum.org/v1/plot/vg\"\n",
    "    \"gonum.org/v1/gonum/stat\"\n",
    ")"
   ]
  },
  {
   "cell_type": "markdown",
   "metadata": {},
   "source": [
    "## Convenience Functions"
   ]
  },
  {
   "cell_type": "code",
   "execution_count": 2,
   "metadata": {},
   "outputs": [],
   "source": [
    "// GetGraph returns the bytes corresponding to a\n",
    "// saved plot.\n",
    "func GetGraph(graphName string) ([]byte, error) {\n",
    "    \n",
    "    // Open the file.\n",
    "    infile, err := os.Open(graphName)\n",
    "    if err != nil {\n",
    "        return nil, err\n",
    "    }\n",
    "    \n",
    "    // Read in the contents of the file.\n",
    "    bytes, err := ioutil.ReadAll(infile)\n",
    "    if err != nil {\n",
    "        return nil, err\n",
    "    }\n",
    "    \n",
    "    // Close the file.\n",
    "    infile.Close()\n",
    "    \n",
    "    return bytes, err\n",
    "}"
   ]
  },
  {
   "cell_type": "markdown",
   "metadata": {},
   "source": [
    "## Import the Data"
   ]
  },
  {
   "cell_type": "code",
   "execution_count": 3,
   "metadata": {},
   "outputs": [],
   "source": [
    "// Open the data file.\n",
    "f, err := os.Open(\"../data/basketball.heigh.and.weigh.csv\")\n",
    "if err != nil {\n",
    "    fmt.Println(err)\n",
    "}\n",
    "\n",
    "// Read in the contents to a dataframe.\n",
    "dataset := dataframe.ReadCSV(f)\n",
    "\n",
    "// Close the file.\n",
    "f.Close()"
   ]
  },
  {
   "cell_type": "code",
   "execution_count": 4,
   "metadata": {},
   "outputs": [
    {
     "name": "stdout",
     "output_type": "stream",
     "text": [
      "[1034x6] DataFrame\n",
      "\n",
      "    Name            Team     Position       Height(inches) Weight(pounds) ...\n",
      " 0: Adam_Donachie   BAL      Catcher        74             180            ...\n",
      " 1: Paul_Bako       BAL      Catcher        74             215            ...\n",
      " 2: Ramon_Hernandez BAL      Catcher        72             210            ...\n",
      " 3: Kevin_Millar    BAL      First_Baseman  72             210            ...\n",
      " 4: Chris_Gomez     BAL      First_Baseman  73             188            ...\n",
      " 5: Brian_Roberts   BAL      Second_Baseman 69             176            ...\n",
      " 6: Miguel_Tejada   BAL      Shortstop      69             209            ...\n",
      " 7: Melvin_Mora     BAL      Third_Baseman  71             200            ...\n",
      " 8: Aubrey_Huff     BAL      Third_Baseman  76             231            ...\n",
      " 9: Adam_Stern      BAL      Outfielder     71             180            ...\n",
      "    ...             ...      ...            ...            ...            ...\n",
      "    <string>        <string> <string>       <int>          <int>          ...\n",
      "\n",
      "Not Showing: Age <float>\n",
      "\n"
     ]
    },
    {
     "data": {
      "text/plain": [
       "1061 <nil>"
      ]
     },
     "execution_count": 4,
     "metadata": {},
     "output_type": "execute_result"
    }
   ],
   "source": [
    "// Output a summary of the dataset to stdout.\n",
    "fmt.Println(dataset)"
   ]
  },
  {
   "cell_type": "markdown",
   "metadata": {},
   "source": [
    "## Profile our data set"
   ]
  },
  {
   "cell_type": "markdown",
   "metadata": {},
   "source": [
    "### Distribution of numerical features"
   ]
  },
  {
   "cell_type": "markdown",
   "metadata": {},
   "source": [
    "For each team, let's get a sense of the measure of centrality and dispersion. That is, let's look at how the data is distributed in the various numerical columns of the data set. We can use the `Describe()` method to do this for all the numerical columns simultaneously. "
   ]
  },
  {
   "cell_type": "code",
   "execution_count": 5,
   "metadata": {},
   "outputs": [
    {
     "name": "stdout",
     "output_type": "stream",
     "text": [
      "[7x4] DataFrame\n",
      "\n",
      "    column   Height(inches) Weight(pounds) Age      \n",
      " 0: mean     73.697292      201.494197     28.736712\n",
      " 1: stddev   2.305818       21.898792      4.320310 \n",
      " 2: min      67.000000      0.000000       20.900000\n",
      " 3: 25%      72.000000      187.000000     25.440000\n",
      " 4: 50%      74.000000      200.000000     27.920000\n",
      " 5: 75%      75.000000      215.000000     31.240000\n",
      " 6: max      83.000000      290.000000     48.520000\n",
      "    <string> <float>        <float>        <float>  \n",
      "\n"
     ]
    },
    {
     "data": {
      "text/plain": [
       "495 <nil>"
      ]
     },
     "execution_count": 5,
     "metadata": {},
     "output_type": "execute_result"
    }
   ],
   "source": [
    "// Select the numeric columns and call the Describe method.\n",
    "fmt.Println(dataset.Select([]string{\"Height(inches)\", \"Weight(pounds)\", \"Age\"}).Describe())"
   ]
  },
  {
   "cell_type": "code",
   "execution_count": 6,
   "metadata": {},
   "outputs": [],
   "source": [
    "// Create a []string value to hold the names of plots we are going to create.\n",
    "var plotNames []string\n",
    "\n",
    "// Create a histogram for each of the numeric columns in the dataset.\n",
    "for _, colName := range dataset.Select([]string{\"Height(inches)\", \"Weight(pounds)\", \"Age\"}).Names() {\n",
    "\n",
    "    // Create a plotter.Values value and fill it with the\n",
    "    // values from the respective column of the dataframe.\n",
    "    plotVals := make(plotter.Values, dataset.Nrow())\n",
    "    for i, floatVal := range dataset.Col(colName).Float() {\n",
    "        plotVals[i] = floatVal\n",
    "    }\n",
    "\n",
    "    // Make a plot and set its title.\n",
    "    p, err := plot.New()\n",
    "    if err != nil {\n",
    "        fmt.Println(err)\n",
    "    }\n",
    "    p.Title.Text = fmt.Sprintf(\"Histogram of a %s\", colName)\n",
    "\n",
    "    // Create a histogram of our values drawn\n",
    "    // from the standard normal.\n",
    "    h, err := plotter.NewHist(plotVals, 16)\n",
    "    if err != nil {\n",
    "        fmt.Println(err)\n",
    "    }\n",
    "\n",
    "    // Normalize the histogram.\n",
    "    h.Normalize(1)\n",
    "\n",
    "    // Add the histogram to the plot.\n",
    "    p.Add(h)\n",
    "\n",
    "    // Save the plot to a PNG file.\n",
    "    if err := p.Save(4*vg.Inch, 4*vg.Inch, colName+\"_hist.png\"); err != nil {\n",
    "        fmt.Println(err)\n",
    "    }\n",
    "    \n",
    "    // Add the name to the plot names.\n",
    "    plotNames = append(plotNames, colName+\"_hist.png\")\n",
    "}"
   ]
  },
  {
   "cell_type": "code",
   "execution_count": 7,
   "metadata": {},
   "outputs": [
    {
     "data": {
      "image/png": "[encoded data removed]",
      "text/plain": [
       "png image"
      ]
     },
     "execution_count": 7,
     "metadata": {},
     "output_type": "execute_result"
    }
   ],
   "source": [
    "// Read the plot data from the first histogram.\n",
    "plotBytes, err := GetGraph(plotNames[0])\n",
    "if err != nil {\n",
    "    fmt.Println(err)\n",
    "}\n",
    "    \n",
    "// Display the plot.\n",
    "display.PNG(plotBytes)"
   ]
  },
  {
   "cell_type": "code",
   "execution_count": 8,
   "metadata": {},
   "outputs": [
    {
     "data": {
      "image/png": "[encoded data removed]",
      "text/plain": [
       "png image"
      ]
     },
     "execution_count": 8,
     "metadata": {},
     "output_type": "execute_result"
    }
   ],
   "source": [
    "// Read the plot data from the second histogram.\n",
    "plotBytes, err := GetGraph(plotNames[0])\n",
    "if err != nil {\n",
    "    fmt.Println(err)\n",
    "}\n",
    "    \n",
    "// Display the plot.\n",
    "display.PNG(plotBytes)"
   ]
  },
  {
   "cell_type": "code",
   "execution_count": 9,
   "metadata": {},
   "outputs": [
    {
     "data": {
      "image/png": "[encoded data removed]",
      "text/plain": [
       "png image"
      ]
     },
     "execution_count": 9,
     "metadata": {},
     "output_type": "execute_result"
    }
   ],
   "source": [
    "// Read the plot data from the third histogram.\n",
    "plotBytes, err := GetGraph(plotNames[2])\n",
    "if err != nil {\n",
    "    fmt.Println(err)\n",
    "}\n",
    "    \n",
    "// Display the plot.\n",
    "display.PNG(plotBytes)"
   ]
  },
  {
   "cell_type": "markdown",
   "metadata": {},
   "source": [
    "### Correlations between width and height"
   ]
  },
  {
   "cell_type": "markdown",
   "metadata": {},
   "source": [
    "In linear regression we make a few assumptions. Among a few other things (which we won't dive into here), we assume:\n",
    "\n",
    "- normality of the data (those distributions above should look similar to a bell curve)\n",
    "- linear correlation between the response and the feature(s)\n",
    "\n",
    "We can roughly test the first condition via the plots above, but we haven't yet determined if there actually is a linear relationship between our feature (height) and our response (weight). To do that, we can plot height vs. weight using a scatter plot."
   ]
  },
  {
   "cell_type": "code",
   "execution_count": 10,
   "metadata": {},
   "outputs": [],
   "source": [
    "// Define a new plot.\n",
    "plotGrid, err := plot.New()\n",
    "if err != nil {\n",
    "    fmt.Println(err)\n",
    "}\n",
    "\n",
    "// Label our plot.\n",
    "plotGrid.Title.Text = \"weight vs. height\"\n",
    "plotGrid.Y.Label.Text = \"Weight\"\n",
    "plotGrid.X.Label.Text = \"Height\"\n",
    "plotGrid.Add(plotter.NewGrid())"
   ]
  },
  {
   "cell_type": "code",
   "execution_count": 11,
   "metadata": {},
   "outputs": [],
   "source": [
    "// pts will hold the values for plotting.\n",
    "pts := make(plotter.XYs, dataset.Nrow())\n",
    "\n",
    "// Extract the weight column.\n",
    "yVals := dataset.Col(\"Weight(pounds)\").Float()\n",
    "\n",
    "// Fill pts with the height and weight data.\n",
    "for i, floatVal := range dataset.Col(\"Height(inches)\").Float() {\n",
    "    pts[i].X = floatVal\n",
    "    pts[i].Y = yVals[i]\n",
    "}"
   ]
  },
  {
   "cell_type": "code",
   "execution_count": 12,
   "metadata": {},
   "outputs": [],
   "source": [
    "// Create the scatter plot.\n",
    "s, err := plotter.NewScatter(pts)\n",
    "if err != nil {\n",
    "    fmt.Println(err)\n",
    "}\n",
    "\n",
    "// Pick the scatter plot colors\n",
    "s.GlyphStyle.Color = color.RGBA{R: 255, B: 128, A: 255}\n",
    "\n",
    "// Add the scatter plot to the plot.\n",
    "plotGrid.Add(s)\n",
    "\n",
    "// Save the plot to a file.\n",
    "if err := plotGrid.Save(4*vg.Inch, 4*vg.Inch, \"weight_vs_height.png\"); err != nil {\n",
    "    fmt.Println(err)\n",
    "}"
   ]
  },
  {
   "cell_type": "code",
   "execution_count": 13,
   "metadata": {},
   "outputs": [
    {
     "data": {
      "image/png": "[encoded data removed]",
      "text/plain": [
       "png image"
      ]
     },
     "execution_count": 13,
     "metadata": {},
     "output_type": "execute_result"
    }
   ],
   "source": [
    "// Display the scatter plot.\n",
    "splot, err := GetGraph(\"weight_vs_height.png\")\n",
    "if err != nil {\n",
    "    fmt.Println(err)\n",
    "}\n",
    "display.PNG(splot)"
   ]
  },
  {
   "cell_type": "markdown",
   "metadata": {},
   "source": [
    "## Split our data into training and test data"
   ]
  },
  {
   "cell_type": "markdown",
   "metadata": {},
   "source": [
    "Being able to properly **evaluate** a model is essential. Without evaluation, the model development process is just guess work. Evaluation helps us find the best model to make a prediction and gives us an idea about how the model should perform in the future. A whole variety of evaluation metrics have been developed and not all evaluation metrics are relevant to all models. We will explore a sampling of these metrics/scores in the workshop, but it is very important to evaluate the metrics/scores you are using on a case by case basis.\n",
    "\n",
    "It is also important that you don't \"train\" or \"fit\" your model on the same data that is utilized in evaluation or testing. If you do this, you are in danger of overfitting. To avoid this outcome, we will split our data into a training data set and a test data set. We will fit our linear regression model on the **training data set** and we will evaluate it, using an evaluation metric, on the **test data set**."
   ]
  },
  {
   "cell_type": "code",
   "execution_count": 14,
   "metadata": {},
   "outputs": [],
   "source": [
    "// Calculate the number of elements in each set.\n",
    "// We will utilize and 80/20 split in this case.\n",
    "trainingNum := (4 * dataset.Nrow()) / 5\n",
    "testNum := dataset.Nrow() / 5\n",
    "if trainingNum+testNum < dataset.Nrow() {\n",
    "    trainingNum++\n",
    "}\n",
    "\n",
    "// Create the subset indices.\n",
    "trainingIdx := make([]int, trainingNum)\n",
    "testIdx := make([]int, testNum)\n",
    "\n",
    "// Enumerate the training indices.\n",
    "for i := 0; i < trainingNum; i++ {\n",
    "    trainingIdx[i] = i\n",
    "}\n",
    "\n",
    "// Enumerate the test indices.\n",
    "for i := 0; i < testNum; i++ {\n",
    "    testIdx[i] = trainingNum + i\n",
    "}\n",
    "\n",
    "// Create the subset dataframes.\n",
    "trainingDF := dataset.Subset(trainingIdx)\n",
    "testDF := dataset.Subset(testIdx)"
   ]
  },
  {
   "cell_type": "code",
   "execution_count": 15,
   "metadata": {},
   "outputs": [
    {
     "name": "stdout",
     "output_type": "stream",
     "text": [
      "828\n",
      "206\n"
     ]
    },
    {
     "data": {
      "text/plain": [
       "4 <nil>"
      ]
     },
     "execution_count": 15,
     "metadata": {},
     "output_type": "execute_result"
    }
   ],
   "source": [
    "// Output the sizes of our training and test sets.\n",
    "fmt.Println(trainingDF.Nrow())\n",
    "fmt.Println(testDF.Nrow())"
   ]
  },
  {
   "cell_type": "markdown",
   "metadata": {},
   "source": [
    "## Training our model on the training data"
   ]
  },
  {
   "cell_type": "markdown",
   "metadata": {},
   "source": [
    "We will now \"train\" a linear regression model on the training data set. When we say train, we mean that we will find the ideal parameters of the linear regression model that model the relationship represented in our data. In this case, we will be modeling weight (our response) by height (our feature). Because we are using linear regression, we are modeling this like a line:\n",
    "\n",
    "```\n",
    "weight = alpha + beta * height\n",
    "```\n",
    "\n",
    "and \"training\" consists of finding `alpha` and `beta`. Thankfully there are a couple of really handy Go packages that will perform this training for us. One of them is `gonum.org/v1/gonum/stat`. "
   ]
  },
  {
   "cell_type": "code",
   "execution_count": 16,
   "metadata": {},
   "outputs": [
    {
     "name": "stdout",
     "output_type": "stream",
     "text": [
      "weight = -163.073097 + 4.941490 * height"
     ]
    },
    {
     "data": {
      "text/plain": [
       "40 <nil>"
      ]
     },
     "execution_count": 16,
     "metadata": {},
     "output_type": "execute_result"
    }
   ],
   "source": [
    "// Find alpha and beta using gonum's stat package.\n",
    "alpha, beta := stat.LinearRegression(trainingDF.Col(\"Height(inches)\").Float(), trainingDF.Col(\"Weight(pounds)\").Float(), nil, false)\n",
    "\n",
    "// Output alpha and beta to stdout.\n",
    "fmt.Printf(\"weight = %f + %f * height\", alpha, beta) "
   ]
  },
  {
   "cell_type": "markdown",
   "metadata": {},
   "source": [
    "## Evaluating our model on the test data"
   ]
  },
  {
   "cell_type": "markdown",
   "metadata": {},
   "source": [
    "As mentioned there are a variety of evaluation metrics that can be used to evaluate the performance of our model (or any regression model). A few typical ones are:\n",
    "\n",
    "- Mean Absolute Error (MAE) - the average of the absolute differences between all of observation-prediction pairs. \n",
    "- Root Mean Squared Error (RMSE) - the square root of the average of the squared differences between all of observation-prediction pairs.\n",
    "- R Squared (aka the Coefficient of Determination) - the percentage of the variance in the observations captured by the predictions. \n",
    "\n",
    "Let's try using RMSE in this case. "
   ]
  },
  {
   "cell_type": "code",
   "execution_count": 17,
   "metadata": {},
   "outputs": [],
   "source": [
    "// Define a function that will utilize our \"trained\" model\n",
    "// to make predictions.\n",
    "func predict(height float64) float64 {\n",
    "    return alpha + beta * height\n",
    "}"
   ]
  },
  {
   "cell_type": "code",
   "execution_count": 18,
   "metadata": {},
   "outputs": [
    {
     "name": "stdout",
     "output_type": "stream",
     "text": [
      "RMSE: 17.058650"
     ]
    },
    {
     "data": {
      "text/plain": [
       "15 <nil>"
      ]
     },
     "execution_count": 18,
     "metadata": {},
     "output_type": "execute_result"
    }
   ],
   "source": [
    "// Extract the observed weights and test height values.\n",
    "observed := testDF.Col(\"Weight(pounds)\").Float()\n",
    "testHeights := testDF.Col(\"Height(inches)\").Float()\n",
    "\n",
    "// Calculate the mean squared error.\n",
    "var mSE float64\n",
    "for idx, oVal := range observed {\n",
    "    mSE += math.Pow(oVal-predict(testHeights[idx]), 2) / float64(len(observed))\n",
    "}\n",
    "\n",
    "// Calcualte the RMSE.\n",
    "rMSE := math.Sqrt(mSE)\n",
    "\n",
    "// Output the result to stdout.\n",
    "fmt.Printf(\"RMSE: %f\", rMSE)"
   ]
  }
 ],
 "metadata": {
  "kernelspec": {
   "display_name": "Go",
   "language": "go",
   "name": "gophernotes"
  },
  "language_info": {
   "codemirror_mode": "",
   "file_extension": ".go",
   "mimetype": "",
   "name": "go",
   "nbconvert_exporter": "",
   "pygments_lexer": "",
   "version": "go1.10.3"
  }
 },
 "nbformat": 4,
 "nbformat_minor": 2
}
