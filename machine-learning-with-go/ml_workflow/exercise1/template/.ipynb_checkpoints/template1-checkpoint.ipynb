{
 "cells": [
  {
   "cell_type": "markdown",
   "metadata": {},
   "source": [
    "# Problem introduction, exploratory development"
   ]
  },
  {
   "cell_type": "markdown",
   "metadata": {},
   "source": [
    "## Imports"
   ]
  },
  {
   "cell_type": "code",
   "execution_count": null,
   "metadata": {},
   "outputs": [],
   "source": [
    "import (\n",
    "    \"fmt\"\n",
    "    \"os\"\n",
    "    \"io/ioutil\"\n",
    "    \"image/color\"\n",
    "    \"path\"\n",
    "    \"bufio\"\n",
    "    \"math\"\n",
    "\n",
    "    \"github.com/kniren/gota/dataframe\"\n",
    "    \"gonum.org/v1/gonum/floats\"\n",
    "    \"gonum.org/v1/gonum/stat\"\n",
    "    \"gonum.org/v1/plot\"\n",
    "    \"gonum.org/v1/plot/plotter\"\n",
    "    \"gonum.org/v1/plot/vg\"\n",
    "    \"github.com/sajari/regression\"\n",
    ")"
   ]
  },
  {
   "cell_type": "markdown",
   "metadata": {},
   "source": [
    "## Convenience Functions"
   ]
  },
  {
   "cell_type": "code",
   "execution_count": null,
   "metadata": {},
   "outputs": [],
   "source": [
    "// GetGraph returns the bytes corresponding to a\n",
    "// saved plot.\n",
    "func GetGraph(graphName string) ([]byte, error) {\n",
    "    \n",
    "    // Open the file.\n",
    "    infile, err := os.Open(graphName)\n",
    "    if err != nil {\n",
    "        return nil, err\n",
    "    }\n",
    "    \n",
    "    // Read in the contents of the file.\n",
    "    bytes, err := ioutil.ReadAll(infile)\n",
    "    if err != nil {\n",
    "        return nil, err\n",
    "    }\n",
    "    \n",
    "    // Close the file.\n",
    "    infile.Close()\n",
    "    \n",
    "    return bytes, err\n",
    "}"
   ]
  },
  {
   "cell_type": "markdown",
   "metadata": {},
   "source": [
    "## Import the Data"
   ]
  },
  {
   "cell_type": "code",
   "execution_count": null,
   "metadata": {},
   "outputs": [],
   "source": [
    "// Open the diabetes dataset file.\n",
    "f, err := os.Open(\"../../data/diabetes.csv\")\n",
    "if err != nil {\n",
    "    fmt.Println(err)\n",
    "}\n",
    "\n",
    "// EXERCISE - Create a dataframe called diabetesDF from the CSV file.\n",
    "\n",
    "// Close the file.\n",
    "f.Close()\n",
    "\n",
    "// EXERCISE - Take a look at the parsed data by printing the dataframe."
   ]
  },
  {
   "cell_type": "markdown",
   "metadata": {},
   "source": [
    "## Profile the data"
   ]
  },
  {
   "cell_type": "markdown",
   "metadata": {},
   "source": [
    "### Distributions and summary statistics"
   ]
  },
  {
   "cell_type": "code",
   "execution_count": null,
   "metadata": {},
   "outputs": [],
   "source": [
    "// Create a histogram for each of the columns in the dataset and\n",
    "// output summary statistics.\n",
    "for _, colName := range diabetesDF.Names() {\n",
    "\n",
    "    // Create a plotter.Values value and fill it with the\n",
    "    // values from the respective column of the dataframe.\n",
    "    plotVals := make(plotter.Values, diabetesDF.Nrow())\n",
    "    summaryVals := make([]float64, diabetesDF.Nrow())\n",
    "    for i, floatVal := range diabetesDF.Col(colName).Float() {\n",
    "        plotVals[i] = floatVal\n",
    "        summaryVals[i] = floatVal\n",
    "    }\n",
    "\n",
    "    // Make a plot and set its title.\n",
    "    p, err := plot.New()\n",
    "    if err != nil {\n",
    "        fmt.Println(err)\n",
    "    }\n",
    "    p.Title.Text = fmt.Sprintf(\"Histogram of a %s\", colName)\n",
    "\n",
    "    // EXERCISE - Create a histogram of our values.\n",
    "    // Normalize the histogram.\n",
    "    // Add the histogram to the plot.\n",
    "\n",
    "    // Save the plot to a PNG file.\n",
    "    if err := p.Save(4*vg.Inch, 4*vg.Inch, colName+\"_hist.png\"); err != nil {\n",
    "        fmt.Println(err)\n",
    "    }\n",
    "\n",
    "    // Calculate the summary statistics.\n",
    "    meanVal := stat.Mean(summaryVals, nil)\n",
    "    maxVal := floats.Max(summaryVals)\n",
    "    minVal := floats.Min(summaryVals)\n",
    "    stdDevVal := stat.StdDev(summaryVals, nil)\n",
    "\n",
    "    // Output the summary statistics.\n",
    "    fmt.Printf(\"\\n%s\\n\", colName)\n",
    "    fmt.Printf(\"Mean: %0.2f\\n\", meanVal)\n",
    "    fmt.Printf(\"Min: %0.2f\\n\", minVal)\n",
    "    fmt.Printf(\"Max: %0.2f\\n\", maxVal)\n",
    "    fmt.Printf(\"StdDev: %0.2f\\n\\n\", stdDevVal)\n",
    "}"
   ]
  },
  {
   "cell_type": "code",
   "execution_count": null,
   "metadata": {},
   "outputs": [],
   "source": [
    "// EXERCISE - Read the plot data from one of the histograms.\n",
    "// Display the plot."
   ]
  },
  {
   "cell_type": "markdown",
   "metadata": {},
   "source": [
    "### Correlations"
   ]
  },
  {
   "cell_type": "code",
   "execution_count": null,
   "metadata": {},
   "outputs": [],
   "source": [
    "// Extract the target column.\n",
    "yVals := diabetesDF.Col(\"y\").Float()\n",
    "\n",
    "// Create a scatter plot for each of the features in the dataset.\n",
    "for _, colName := range diabetesDF.Names() {\n",
    "\n",
    "    // pts will hold the values for plotting\n",
    "    pts := make(plotter.XYs, diabetesDF.Nrow())\n",
    "\n",
    "    // EXERCISE - Fill pts with data.\n",
    "\n",
    "    // Create the plot.\n",
    "    p, err := plot.New()\n",
    "    if err != nil {\n",
    "        fmt.Println(err)\n",
    "    }\n",
    "    p.X.Label.Text = colName\n",
    "    p.Y.Label.Text = \"y\"\n",
    "    p.Add(plotter.NewGrid())\n",
    "\n",
    "    s, err := plotter.NewScatter(pts)\n",
    "    if err != nil {\n",
    "        fmt.Println(err)\n",
    "    }\n",
    "    s.GlyphStyle.Color = color.RGBA{R: 255, B: 128, A: 255}\n",
    "    s.GlyphStyle.Radius = vg.Points(3)\n",
    "\n",
    "    // Save the plot to a PNG file.\n",
    "    p.Add(s)\n",
    "    if err := p.Save(4*vg.Inch, 4*vg.Inch, colName+\"_scatter.png\"); err != nil {\n",
    "        fmt.Println(err)\n",
    "    }\n",
    "}"
   ]
  },
  {
   "cell_type": "code",
   "execution_count": null,
   "metadata": {},
   "outputs": [],
   "source": [
    "// Read the plot data from one of the scatter plots.\n",
    "plotBytes, err := GetGraph(\"bmi_scatter.png\")\n",
    "if err != nil {\n",
    "    fmt.Println(err)\n",
    "}\n",
    "    \n",
    "// Display the plot.\n",
    "display.PNG(plotBytes)"
   ]
  },
  {
   "cell_type": "markdown",
   "metadata": {},
   "source": [
    "## Split our data into training, test, and holdout sets "
   ]
  },
  {
   "cell_type": "code",
   "execution_count": null,
   "metadata": {},
   "outputs": [],
   "source": [
    "// Calculate the number of elements in each set.\n",
    "trainingNum := (3*diabetesDF.Nrow()) / 5\n",
    "testNum := diabetesDF.Nrow() / 5\n",
    "holdoutNum := diabetesDF.Nrow() / 5\n",
    "if trainingNum+testNum+holdoutNum < diabetesDF.Nrow() {\n",
    "    trainingNum++\n",
    "}\n",
    "\n",
    "// Create the subset indices.\n",
    "trainingIdx := make([]int, trainingNum)\n",
    "testIdx := make([]int, testNum)\n",
    "holdoutIdx := make([]int, holdoutNum)\n",
    "\n",
    "// Enumerate the training indices.\n",
    "for i := 0; i < trainingNum; i++ {\n",
    "    trainingIdx[i] = i\n",
    "}\n",
    "\n",
    "// Enumerate the test indices.\n",
    "for i := 0; i < testNum; i++ {\n",
    "    testIdx[i] = trainingNum + i\n",
    "}\n",
    "\n",
    "// Enumerate the holdout indices.\n",
    "for i := 0; i < holdoutNum; i++ {\n",
    "    holdoutIdx[i] = trainingNum + testNum + i\n",
    "}\n",
    "\n",
    "// Create the subset dataframes.\n",
    "trainingDF := diabetesDF.Subset(trainingIdx)\n",
    "testDF := diabetesDF.Subset(testIdx)\n",
    "holdoutDF := diabetesDF.Subset(holdoutIdx)\n",
    "\n",
    "// Create a map that will be used in writing the data\n",
    "// to files.\n",
    "setMap := map[int]dataframe.DataFrame{\n",
    "    0: trainingDF,\n",
    "    1: testDF,\n",
    "    2: holdoutDF,\n",
    "}\n",
    "\n",
    "// Create the respective files.\n",
    "for idx, setName := range []string{\"training.csv\", \"test.csv\", \"holdout.csv\"} {\n",
    "\n",
    "    // Save the filtered dataset file.\n",
    "    f, err := os.Create(path.Join(\"data/\", setName))\n",
    "    if err != nil {\n",
    "        fmt.Println(err)\n",
    "    }\n",
    "\n",
    "    // Create a buffered writer.\n",
    "    w := bufio.NewWriter(f)\n",
    "\n",
    "    // Write the dataframe out as a CSV.\n",
    "    if err := setMap[idx].WriteCSV(w); err != nil {\n",
    "        fmt.Println(err)\n",
    "    }\n",
    "}"
   ]
  },
  {
   "cell_type": "markdown",
   "metadata": {},
   "source": [
    "## Train our model"
   ]
  },
  {
   "cell_type": "code",
   "execution_count": null,
   "metadata": {},
   "outputs": [],
   "source": [
    "// Extract the response column.\n",
    "yVals := setMap[0].Col(\"y\").Float()\n",
    "\n",
    "// EXERCISE - Extract the feature column(s) you want to use in your model\n",
    "// into slice(s) of floats.\n",
    "\n",
    "// EXERCISE - Train a linear regression model using your extracted \n",
    "// features and reponse. You can use gonum for this as was previously\n",
    "// demonstrated, or you could use something like github.com/sajari/regression,\n",
    "// which adds a bit a convenience.\n",
    "//\n",
    "// HINT - You can try using one or more than one feature in your model.\n",
    "// (start with bmi and then maybe add another that you think is correlated\n",
    "// with y, based on the above generated scatter plots)\n",
    "\n",
    "// EXERCISE - Output the trained model parameters to stdout."
   ]
  },
  {
   "cell_type": "markdown",
   "metadata": {},
   "source": [
    "## Test the model"
   ]
  },
  {
   "cell_type": "code",
   "execution_count": null,
   "metadata": {},
   "outputs": [],
   "source": [
    "// Extract the response column for testing.\n",
    "yValsTest := setMap[0].Col(\"y\").Float()\n",
    "\n",
    "// Extract the feature column(s) we want to use for testing.\n",
    "bmiValsTest := setMap[0].Col(\"bmi\").Float()\n",
    "ltgValsTest := setMap[0].Col(\"ltg\").Float()\n",
    "\n",
    "// EXERCISE - Loop over the test data predicting y with your model\n",
    "// and evaluating the prediction with the RMSE.\n",
    "\n",
    "// EXERCISE - Output the RMSE to standard out."
   ]
  }
 ],
 "metadata": {
  "kernelspec": {
   "display_name": "Go",
   "language": "go",
   "name": "gophernotes"
  },
  "language_info": {
   "codemirror_mode": "",
   "file_extension": ".go",
   "mimetype": "",
   "name": "go",
   "nbconvert_exporter": "",
   "pygments_lexer": "",
   "version": "go1.10.3"
  }
 },
 "nbformat": 4,
 "nbformat_minor": 2
}
