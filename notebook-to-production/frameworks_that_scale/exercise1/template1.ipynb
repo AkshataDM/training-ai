{
 "cells": [
  {
   "cell_type": "code",
   "execution_count": null,
   "metadata": {},
   "outputs": [],
   "source": [
    "import pandas as pd\n",
    "from sklearn.preprocessing import MinMaxScaler\n",
    "import torch\n",
    "from torch.autograd import Variable\n",
    "import torch.nn as nn\n",
    "import torch.nn.functional as F\n",
    "torch.manual_seed(1234)"
   ]
  },
  {
   "cell_type": "markdown",
   "metadata": {},
   "source": [
    "# Load and pre-process the training data"
   ]
  },
  {
   "cell_type": "code",
   "execution_count": null,
   "metadata": {},
   "outputs": [],
   "source": [
    "# load the data\n",
    "cols = ['f1', 'f2', 'f3', 'f4', 'species']\n",
    "data = pd.read_csv('../data/iris.csv', names=cols)\n",
    "\n",
    "# pre-process the data\n",
    "X = data[cols[0:-1]]\n",
    "X = MinMaxScaler().fit_transform(X)\n",
    "y = pd.get_dummies(data['species'])"
   ]
  },
  {
   "cell_type": "markdown",
   "metadata": {},
   "source": [
    "# Define our network"
   ]
  },
  {
   "cell_type": "code",
   "execution_count": null,
   "metadata": {},
   "outputs": [],
   "source": [
    "# Define our neural net\n",
    "class Net(nn.Module):\n",
    "    def __init__(self, input_size, hidden_size, num_classes):\n",
    "        super(Net, self).__init__()\n",
    "        self.fc1 = nn.Linear(input_size, hidden_size) \n",
    "        self.relu = nn.ReLU()\n",
    "        self.fc2 = nn.Linear(hidden_size, num_classes)  \n",
    "    \n",
    "    def forward(self, x):\n",
    "        out = self.fc1(x)\n",
    "        out = self.relu(out)\n",
    "        out = self.fc2(out)\n",
    "        return out"
   ]
  },
  {
   "cell_type": "markdown",
   "metadata": {},
   "source": [
    "# Train our network"
   ]
  },
  {
   "cell_type": "code",
   "execution_count": null,
   "metadata": {},
   "outputs": [],
   "source": [
    "input_size = 4\n",
    "num_classes = 3\n",
    "hidden_size = 5\n",
    "learning_rate = 0.1\n",
    "num_epoch = 1000\n",
    "\n",
    "# initialize our network    \n",
    "net = Net(input_size, hidden_size, num_classes)\n",
    "\n",
    "#choose optimizer and loss function\n",
    "criterion = nn.BCEWithLogitsLoss() \n",
    "optimizer = torch.optim.SGD(net.parameters(), lr=learning_rate)\n",
    "\n",
    "# Create variables for our X and y\n",
    "X_tensor = Variable(torch.from_numpy(X).float())\n",
    "Y_tensor = Variable(torch.from_numpy(y.as_matrix()).float())\n",
    "\n",
    "#train our network\n",
    "for epoch in range(num_epoch):\n",
    "\n",
    "    #feedforward\n",
    "    optimizer.zero_grad()\n",
    "    out = net(X_tensor)\n",
    "    \n",
    "    # backpropagation\n",
    "    loss = criterion(out, Y_tensor)\n",
    "    loss.backward()\n",
    "    optimizer.step()\n",
    "    \n",
    "    if epoch % 100 == 0:\n",
    "        print ('Epoch [%d/%d], Loss: %.4f' \n",
    "               %(epoch+1, num_epoch, loss.data[0]))"
   ]
  },
  {
   "cell_type": "markdown",
   "metadata": {},
   "source": [
    "# Use our trained network for inference"
   ]
  },
  {
   "cell_type": "code",
   "execution_count": null,
   "metadata": {},
   "outputs": [],
   "source": [
    "# Read in and pre-process our test data\n",
    "test_infer = pd.read_csv('../data/test.csv', names=cols[0:-1])\n",
    "test_infer = MinMaxScaler().fit_transform(test_infer)\n",
    "\n",
    "# Create a PyTorch Variable with our test data\n",
    "\n",
    "# Run our test data through the network \n",
    "\n",
    "# Get our label indices using torch.max and put them in a \"labels\" variable\n",
    "\n",
    "# Parse the results\n",
    "species = ['Iris-setosa', 'Iris-versicolor', 'Iris-virginica']\n",
    "predictions = []\n",
    "for label in labels:\n",
    "    predictions.append(species[label])"
   ]
  },
  {
   "cell_type": "code",
   "execution_count": null,
   "metadata": {},
   "outputs": [],
   "source": [
    "predictions"
   ]
  }
 ],
 "metadata": {
  "kernelspec": {
   "display_name": "Python 3",
   "language": "python",
   "name": "python3"
  },
  "language_info": {
   "codemirror_mode": {
    "name": "ipython",
    "version": 3
   },
   "file_extension": ".py",
   "mimetype": "text/x-python",
   "name": "python",
   "nbconvert_exporter": "python",
   "pygments_lexer": "ipython3",
   "version": "3.6.4"
  }
 },
 "nbformat": 4,
 "nbformat_minor": 2
}
