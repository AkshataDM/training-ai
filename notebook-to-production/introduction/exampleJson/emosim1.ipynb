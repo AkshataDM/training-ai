{
 "cells": [
  {
   "cell_type": "markdown",
   "metadata": {},
   "source": [
    "# EmoSim508"
   ]
  },
  {
   "cell_type": "markdown",
   "metadata": {},
   "source": [
    "An Emoji Similarity Baseline Dataset with 508 Emoji Pairs and Similarity Ratings. From https://www.kaggle.com/sanjayaw/emosim508"
   ]
  },
  {
   "cell_type": "code",
   "execution_count": 1,
   "metadata": {},
   "outputs": [],
   "source": [
    "\n",
    "import \"fmt\"\n",
    "import \"encoding/json\"\n",
    "import \"io/ioutil\"\n",
    "import \"strings\""
   ]
  },
  {
   "cell_type": "markdown",
   "metadata": {},
   "source": [
    "## 1. Create json structure to handle data"
   ]
  },
  {
   "cell_type": "code",
   "execution_count": 2,
   "metadata": {},
   "outputs": [],
   "source": [
    "type emoji struct{\n",
    "    Unicodelong string `json:\"unicodelong\"`\n",
    "    Unicodeshort string `json:\"unicodeshort\"`\n",
    "    Title string `json:\"title\"`\n",
    "}\n",
    "\n",
    "type emojiTuple struct{\n",
    "    EmojiOne emoji `json:\"emojiOne\"`\n",
    "    EmojiTwo emoji `json:\"emojiTwo\"`\n",
    "}\n",
    "\n",
    "type emojiSimilarityMetrics struct{\n",
    "    GoogleSenseLabel float64 `json:\"Google_Sense_Label\"`\n",
    "    TwitterSenseDef float64 `json:\"Twitter_Sense_Def\"`\n",
    "    GoogleSenseAll float64 `json:\"Google_Sense_All\"`\n",
    "    GoogleSenseDef float64 `json:\"Google_Sense_Def\"`\n",
    "    GoogleSenseDesc float64 `json:\"Google_Sense_Desc\"`\n",
    "    TwitterSenseAll float64 `json:\"Twitter_Sense_All\"`\n",
    "    TwitterSenseDesc float64 `json:\"Twitter_Sense_Desc\"`\n",
    "    TwitterSenseLabel float64 `json:\"Twitter_Sense_Label\"`\n",
    "    HumanAnnotatorAgreement float64 `json:\"Human_Annotator_Agreement\"`\n",
    "}\n",
    "\n",
    "type emojiSim struct{\n",
    "    EmojiPairId string `json:\"emojiPairId\"`\n",
    "    EmojiPair emojiTuple `json:\"emojiPair\"`\n",
    "    EmojiPairSimilarity emojiSimilarityMetrics `json:\"emojiPairSimilarity\"`\n",
    "}"
   ]
  },
  {
   "cell_type": "markdown",
   "metadata": {},
   "source": [
    "## 2. load json file "
   ]
  },
  {
   "cell_type": "code",
   "execution_count": 3,
   "metadata": {},
   "outputs": [],
   "source": [
    "file, err := ioutil.ReadFile(\"../data/EmoSim508.json\")"
   ]
  },
  {
   "cell_type": "code",
   "execution_count": 4,
   "metadata": {},
   "outputs": [
    {
     "name": "stdout",
     "output_type": "stream",
     "text": [
      "<nil>\n"
     ]
    },
    {
     "data": {
      "text/plain": [
       "6 <nil>"
      ]
     },
     "execution_count": 4,
     "metadata": {},
     "output_type": "execute_result"
    }
   ],
   "source": [
    "fmt.Println(err)"
   ]
  },
  {
   "cell_type": "code",
   "execution_count": 5,
   "metadata": {},
   "outputs": [],
   "source": [
    "var emojisims []emojiSim"
   ]
  },
  {
   "cell_type": "code",
   "execution_count": 6,
   "metadata": {},
   "outputs": [],
   "source": [
    "err = json.Unmarshal(file, &emojisims)"
   ]
  },
  {
   "cell_type": "code",
   "execution_count": 7,
   "metadata": {},
   "outputs": [
    {
     "name": "stdout",
     "output_type": "stream",
     "text": [
      "<nil>\n"
     ]
    },
    {
     "data": {
      "text/plain": [
       "6 <nil>"
      ]
     },
     "execution_count": 7,
     "metadata": {},
     "output_type": "execute_result"
    }
   ],
   "source": [
    "fmt.Println(err)"
   ]
  },
  {
   "cell_type": "code",
   "execution_count": 8,
   "metadata": {},
   "outputs": [
    {
     "name": "stdout",
     "output_type": "stream",
     "text": [
      "[{199 {{\\U0001F3B5 U+1F3B5 musical note} {\\U0001F3B6 U+1F3B6 musical notes}} {0 0 0 0 0 0 0 0 0}} {66 {{\\U0001F38A U+1F38A confetti ball} {\\U0001F389 U+1F389 party popper}} {0 0 0 0 0 0 0 0 0}} {483 {{\\U0000263A U+263A smiling face} {\\U0001F60A U+1F60A smiling face with smiling eyes}} {0 0 0 0 0 0 0 0 0}} {218 {{\\U00002764 U+2764 red heart} {\\U0001F49E U+1F49E revolving hearts}} {0 0 0 0 0 0 0 0 0}} {23 {{\\U0001F495 U+1F495 two hearts} {\\U00002764 U+2764 red heart}} {0 0 0 0 0 0 0 0 0}} {151 {{\\U0001F49E U+1F49E revolving hearts} {\\U0001F495 U+1F495 two hearts}} {0 0 0 0 0 0 0 0 0}} {287 {{\\U0001F498 U+1F498 heart with arrow} {\\U0001F495 U+1F495 two hearts}} {0 0 0 0 0 0 0 0 0}} {10 {{\\U0001F495 U+1F495 two hearts} {\\U0001F60D U+1F60D smiling face with heart-eyes}} {0 0 0 0 0 0 0 0 0}} {125 {{\\U0001F49C U+1F49C purple heart} {\\U0001F499 U+1F499 blue heart}} {0 0 0 0 0 0 0 0 0}} {241 {{\\U0001F497 U+1F497 growing heart} {\\U00002764 U+2764 red heart}} {0 0 0 0 0 0 0 0 0}} {278 {{\\U0001F497 U+1F497 growing heart} {\\U0001F495 U+1F495 two hearts}} {0 0 0 0 0 0 0 0 0}} {375 {{\\U00002764 U+2764 red heart} {\\U0001F493 U+1F493 beating heart}} {0 0 0 0 0 0 0 0 0}} {51 {{\\U0001F3A4 U+1F3A4 microphone} {\\U0001F3B6 U+1F3B6 musical notes}} {0 0 0 0 0 0 0 0 0}} {102 {{\\U0001F496 U+1F496 sparkling heart} {\\U0001F495 U+1F495 two hearts}} {0 0 0 0 0 0 0 0 0}} {323 {{\\U0001F495 U+1F495 two hearts} {\\U0001F493 U+1F493 beating heart}} {0 0 0 0 0 0 0 0 0}} {63 {{\\U00002764 U+2764 red heart} {\\U0001F499 U+1F499 blue heart}} {0 0 0 0 0 0 0 0 0}} {120 {{\\U0001F499 U+1F499 blue heart} {\\U0001F49A U+1F49A green heart}} {0 0 0 0 0 0 0 0 0}} {129 {{\\U00002764 U+2764 red heart} {\\U0001F49C U+1F49C purple heart}} {0 0 0 0 0 0 0 0 0}} {130 {{\\U0001F49B U+1F49B yellow heart} {\\U0001F49A U+1F49A green heart}} {0 0 0 0 0 0 0 0 0}} {132 {{\\U00002764 U+2764 red heart} {\\U0001F496 U+1F496 sparkling heart}} {0 0 0 0 0 0 0 0 0}} {148 {{\\U00002764 U+2764 red heart} {\\U0001F49A U+1F49A green heart}} {0 0 0 0 0 0 0 0 0}} {155 {{\\U0001F49B U+1F49B yellow heart} {\\U00002764 U+2764 red heart}} {0 0 0 0 0 0 0 0 0}} {179 {{\\U0001F49C U+1F49C purple heart} {\\U0001F49A U+1F49A green heart}} {0 0 0 0 0 0 0 0 0}} {195 {{\\U0001F49B U+1F49B yellow heart} {\\U0001F49C U+1F49C purple heart}} {0 0 0 0 0 0 0 0 0}} {284 {{\\U0001F49E U+1F49E revolving hearts} {\\U0001F496 U+1F496 sparkling heart}} {0 0 0 0 0 0 0 0 0}} {408 {{\\U0001F497 U+1F497 growing heart} {\\U0001F496 U+1F496 sparkling heart}} {0 0 0 0 0 0 0 0 0}} {60 {{\\U0001F3A7 U+1F3A7 headphone} {\\U0001F3B6 U+1F3B6 musical notes}} {0 0 0 0 0 0 0 0 0}} {55 {{\\U0001F60D U+1F60D smiling face with heart-eyes} {\\U0001F496 U+1F496 sparkling heart}} {0 0 0 0 0 0 0 0 0}} {98 {{\\U0001F3CC U+1F3CC person golfing} {\\U000026F3 U+26F3 flag in hole}} {0 0 0 0 0 0 0 0 0}} {286 {{\\U0001F495 U+1F495 two hearts} {\\U0001F49C U+1F49C purple heart}} {0 0 0 0 0 0 0 0 0}} {465 {{\\U0001F3BC U+1F3BC musical score} {\\U0001F3B6 U+1F3B6 musical notes}} {0 0 0 0 0 0 0 0 0}} {3 {{\\U00002764 U+2764 red heart} {\\U0001F60D U+1F60D smiling face with heart-eyes}} {0 0 0 0 0 0 0 0 0}} {134 {{\\U0001F60D U+1F60D smiling face with heart-eyes} {\\U0001F49E U+1F49E revolving hearts}} {0 0 0 0 0 0 0 0 0}} {94 {{\\U0001F3A7 U+1F3A7 headphone} {\\U0001F3A4 U+1F3A4 microphone}} {0 0 0 0 0 0 0 0 0}} {390 {{\\U0001F498 U+1F498 heart with arrow} {\\U00002764 U+2764 red heart}} {0 0 0 0 0 0 0 0 0}} {26 {{\\U0001F388 U+1F388 balloon} {\\U0001F389 U+1F389 party popper}} {0 0 0 0 0 0 0 0 0}} {48 {{\\U0001F605 U+1F605 smiling face with open mouth & cold sweat} {\\U0001F602 U+1F602 face with tears of joy}} {0 0 0 0 0 0 0 0 0}} {235 {{\\U0001F499 U+1F499 blue heart} {\\U0001F495 U+1F495 two hearts}} {0 0 0 0 0 0 0 0 0}} {7 {{\\U0001F60D U+1F60D smiling face with heart-eyes} {\\U0001F618 U+1F618 face blowing a kiss}} {0 0 0 0 0 0 0 0 0}} {31 {{\\U0001F601 U+1F601 grinning face with smiling eyes} {\\U0001F602 U+1F602 face with tears of joy}} {0 0 0 0 0 0 0 0 0}} {14 {{\\U0001F62D U+1F62D loudly crying face} {\\U0001F629 U+1F629 weary face}} {0 0 0 0 0 0 0 0 0}} {111 {{\\U0001F496 U+1F496 sparkling heart} {\\U0001F618 U+1F618 face blowing a kiss}} {0 0 0 0 0 0 0 0 0}} {149 {{\\U0001F44D U+1F44D thumbs up} {\\U0001F44C U+1F44C OK hand}} {0 0 0 0 0 0 0 0 0}} {498 {{\\U0001F62B U+1F62B tired face} {\\U0001F62D U+1F62D loudly crying face}} {0 0 0 0 0 0 0 0 0}} {118 {{\\U0001F499 U+1F499 blue heart} {\\U0001F49B U+1F49B yellow heart}} {0 0 0 0 0 0 0 0 0}} {220 {{\\U0001F622 U+1F622 crying face} {\\U0001F62D U+1F62D loudly crying face}} {0 0 0 0 0 0 0 0 0}} {242 {{\\U0001F618 U+1F618 face blowing a kiss} {\\U0001F48B U+1F48B kiss mark}} {0 0 0 0 0 0 0 0 0}} {21 {{\\U0001F495 U+1F495 two hearts} {\\U0001F618 U+1F618 face blowing a kiss}} {0 0 0 0 0 0 0 0 0}} {108 {{\\U0001F389 U+1F389 party popper} {\\U0001F381 U+1F381 wrapped gift}} {0 0 0 0 0 0 0 0 0}} {229 {{\\U0001F497 U+1F497 growing heart} {\\U0001F60D U+1F60D smiling face with heart-eyes}} {0 0 0 0 0 0 0 0 0}} {230 {{\\U0001F60D U+1F60D smiling face with heart-eyes} {\\U0001F49B U+1F49B yellow heart}} {0 0 0 0 0 0 0 0 0}} {445 {{\\U0001F496 U+1F496 sparkling heart} {\\U0001F499 U+1F499 blue heart}} {0 0 0 0 0 0 0 0 0}} {227 {{\\U0001F498 U+1F498 heart with arrow} {\\U0001F60D U+1F60D smiling face with heart-eyes}} {0 0 0 0 0 0 0 0 0}} {189 {{\\U0001F381 U+1F381 wrapped gift} {\\U0001F382 U+1F382 birthday cake}} {0 0 0 0 0 0 0 0 0}} {237 {{\\U0001F618 U+1F618 face blowing a kiss} {\\U0001F49E U+1F49E revolving hearts}} {0 0 0 0 0 0 0 0 0}} {314 {{\\U0001F602 U+1F602 face with tears of joy} {\\U0001F606 U+1F606 smiling face with open mouth & closed eyes}} {0 0 0 0 0 0 0 0 0}} {47 {{\\U0001F382 U+1F382 birthday cake} {\\U0001F389 U+1F389 party popper}} {0 0 0 0 0 0 0 0 0}} {104 {{\\U0001F644 U+1F644 face with rolling eyes} {\\U0001F914 U+1F914 thinking face}} {0 0 0 0 0 0 0 0 0}} {156 {{\\U0001F382 U+1F382 birthday cake} {\\U0001F388 U+1F388 balloon}} {0 0 0 0 0 0 0 0 0}} {255 {{\\U0001F4AB U+1F4AB dizzy} {\\U00002728 U+2728 sparkles}} {0 0 0 0 0 0 0 0 0}} {5 {{\\U00002764 U+2764 red heart} {\\U0001F618 U+1F618 face blowing a kiss}} {0 0 0 0 0 0 0 0 0}} {110 {{\\U0001F62D U+1F62D loudly crying face} {\\U0001F494 U+1F494 broken heart}} {0 0 0 0 0 0 0 0 0}} {381 {{\\U0001F388 U+1F388 balloon} {\\U0001F38A U+1F38A confetti ball}} {0 0 0 0 0 0 0 0 0}} {221 {{\\U0001F495 U+1F495 two hearts} {\\U0001F48B U+1F48B kiss mark}} {0 0 0 0 0 0 0 0 0}} {277 {{\\U0001F49C U+1F49C purple heart} {\\U0001F618 U+1F618 face blowing a kiss}} {0 0 0 0 0 0 0 0 0}} {92 {{\\U0001F48B U+1F48B kiss mark} {\\U00002764 U+2764 red heart}} {0 0 0 0 0 0 0 0 0}} {193 {{\\U0001F49C U+1F49C purple heart} {\\U0001F60D U+1F60D smiling face with heart-eyes}} {0 0 0 0 0 0 0 0 0}} {417 {{\\U0001F602 U+1F602 face with tears of joy} {\\U0001F604 U+1F604 smiling face with open mouth & smiling eyes}} {0 0 0 0 0 0 0 0 0}} {265 {{\\U00002705 U+2705 white heavy check mark} {\\U0001F44D U+1F44D thumbs up}} {0 0 0 0 0 0 0 0 0}} {400 {{\\U0001F493 U+1F493 beating heart} {\\U0001F60D U+1F60D smiling face with heart-eyes}} {0 0 0 0 0 0 0 0 0}} {249 {{\\U0001F388 U+1F388 balloon} {\\U0001F381 U+1F381 wrapped gift}} {0 0 0 0 0 0 0 0 0}} {484 {{\\U0001F62D U+1F62D loudly crying face} {\\U0001F614 U+1F614 pensive face}} {0 0 0 0 0 0 0 0 0}} {2 {{\\U0001F449 U+1F449 backhand index pointing right} {\\U0001F448 U+1F448 backhand index pointing left}} {0 0 0 0 0 0 0 0 0}} {302 {{\\U0001F44C U+1F44C OK hand} {\\U0001F44F U+1F44F clapping hands}} {0 0 0 0 0 0 0 0 0}} {366 {{\\U0001F618 U+1F618 face blowing a kiss} {\\U0001F497 U+1F497 growing heart}} {0 0 0 0 0 0 0 0 0}} {204 {{\\U0001F44D U+1F44D thumbs up} {\\U0001F44F U+1F44F clapping hands}} {0 0 0 0 0 0 0 0 0}} {57 {{\\U0001F648 U+1F648 see-no-evil monkey} {\\U0001F64A U+1F64A speak-no-evil monkey}} {0 0 0 0 0 0 0 0 0}} {226 {{\\U0001F499 U+1F499 blue heart} {\\U0001F618 U+1F618 face blowing a kiss}} {0 0 0 0 0 0 0 0 0}} {264 {{\\U0001F602 U+1F602 face with tears of joy} {\\U0001F61D U+1F61D face with stuck-out tongue & closed eyes}} {0 0 0 0 0 0 0 0 0}} {50 {{\\U0001F60D U+1F60D smiling face with heart-eyes} {\\U0001F60A U+1F60A smiling face with smiling eyes}} {0 0 0 0 0 0 0 0 0}} {97 {{\\U0001F609 U+1F609 winking face} {\\U0001F618 U+1F618 face blowing a kiss}} {0 0 0 0 0 0 0 0 0}} {122 {{\\U0001F60D U+1F60D smiling face with heart-eyes} {\\U0001F499 U+1F499 blue heart}} {0 0 0 0 0 0 0 0 0}} {275 {{\\U00002714 U+2714 heavy check mark} {\\U0001F44D U+1F44D thumbs up}} {0 0 0 0 0 0 0 0 0}} {324 {{\\U0001F3B6 U+1F3B6 musical notes} {\\U0001F4FB U+1F4FB radio}} {0 0 0 0 0 0 0 0 0}} {78 {{\\U000027A1 U+27A1 right arrow} {\\U00002B05 U+2B05 left arrow}} {0 0 0 0 0 0 0 0 0}} {109 {{\\U0001F4AF U+1F4AF hundred points} {\\U0001F44C U+1F44C OK hand}} {0 0 0 0 0 0 0 0 0}} {169 {{\\U0001F48B U+1F48B kiss mark} {\\U0001F60D U+1F60D smiling face with heart-eyes}} {0 0 0 0 0 0 0 0 0}} {317 {{\\U0001F60A U+1F60A smiling face with smiling eyes} {\\U0001F601 U+1F601 grinning face with smiling eyes}} {0 0 0 0 0 0 0 0 0}} {455 {{\\U0001F618 U+1F618 face blowing a kiss} {\\U0001F493 U+1F493 beating heart}} {0 0 0 0 0 0 0 0 0}} {506 {{\\U0001F30A U+1F30A water wave} {\\U0001F3C4 U+1F3C4 person surfing}} {0 0 0 0 0 0 0 0 0}} {296 {{\\U00002764 U+2764 red heart} {\\U0001F63B U+1F63B smiling cat face with heart-eyes}} {0 0 0 0 0 0 0 0 0}} {395 {{\\U0001F49B U+1F49B yellow heart} {\\U0001F618 U+1F618 face blowing a kiss}} {0 0 0 0 0 0 0 0 0}} {40 {{\\U0001F618 U+1F618 face blowing a kiss} {\\U0001F60A U+1F60A smiling face with smiling eyes}} {0 0 0 0 0 0 0 0 0}} {236 {{\\U0001F60A U+1F60A smiling face with smiling eyes} {\\U0001F648 U+1F648 see-no-evil monkey}} {0 0 0 0 0 0 0 0 0}} {291 {{\\U0001F64C U+1F64C raising hands} {\\U0001F64F U+1F64F folded hands}} {0 0 0 0 0 0 0 0 0}} {158 {{\\U0001F60C U+1F60C relieved face} {\\U0001F602 U+1F602 face with tears of joy}} {0 0 0 0 0 0 0 0 0}} {346 {{\\U0001F60A U+1F60A smiling face with smiling eyes} {\\U0001F604 U+1F604 smiling face with open mouth & smiling eyes}} {0 0 0 0 0 0 0 0 0}} {423 {{\\U0001F48B U+1F48B kiss mark} {\\U0001F496 U+1F496 sparkling heart}} {0 0 0 0 0 0 0 0 0}} {494 {{\\U0001F60D U+1F60D smiling face with heart-eyes} {\\U0001F49A U+1F49A green heart}} {0 0 0 0 0 0 0 0 0}} {44 {{\\U0001F495 U+1F495 two hearts} {\\U0001F60A U+1F60A smiling face with smiling eyes}} {0 0 0 0 0 0 0 0 0}} {211 {{\\U0001F440 U+1F440 eyes} {\\U0001F914 U+1F914 thinking face}} {0 0 0 0 0 0 0 0 0}} {503 {{\\U0001F498 U+1F498 heart with arrow} {\\U0001F618 U+1F618 face blowing a kiss}} {0 0 0 0 0 0 0 0 0}} {316 {{\\U0001F64A U+1F64A speak-no-evil monkey} {\\U0001F649 U+1F649 hear-no-evil monkey}} {0 0 0 0 0 0 0 0 0}} {194 {{\\U0001F3C6 U+1F3C6 trophy} {\\U000026BD U+26BD soccer ball}} {0 0 0 0 0 0 0 0 0}} {310 {{\\U0001F525 U+1F525 fire} {\\U0001F4A5 U+1F4A5 collision}} {0 0 0 0 0 0 0 0 0}} {65 {{\\U0001F61C U+1F61C face with stuck-out tongue & winking eye} {\\U0001F602 U+1F602 face with tears of joy}} {0 0 0 0 0 0 0 0 0}} {167 {{\\U0001F644 U+1F644 face with rolling eyes} {\\U0001F612 U+1F612 unamused face}} {0 0 0 0 0 0 0 0 0}} {207 {{\\U0001F60A U+1F60A smiling face with smiling eyes} {\\U0001F609 U+1F609 winking face}} {0 0 0 0 0 0 0 0 0}} {271 {{\\U0001F649 U+1F649 hear-no-evil monkey} {\\U0001F648 U+1F648 see-no-evil monkey}} {0 0 0 0 0 0 0 0 0}} {332 {{\\U0000263A U+263A smiling face} {\\U0001F618 U+1F618 face blowing a kiss}} {0 0 0 0 0 0 0 0 0}} {25 {{\\U0001F60A U+1F60A smiling face with smiling eyes} {\\U0001F602 U+1F602 face with tears of joy}} {0 0 0 0 0 0 0 0 0}} {191 {{\\U0001F602 U+1F602 face with tears of joy} {\\U0001F61B U+1F61B face with stuck-out tongue}} {0 0 0 0 0 0 0 0 0}} {239 {{\\U0000263A U+263A smiling face} {\\U0001F495 U+1F495 two hearts}} {0 0 0 0 0 0 0 0 0}} {290 {{\\U0001F44B U+1F44B waving hand} {\\U0001F44A U+1F44A oncoming fist}} {0 0 0 0 0 0 0 0 0}} {301 {{\\U0001F60D U+1F60D smiling face with heart-eyes} {\\U0000263A U+263A smiling face}} {0 0 0 0 0 0 0 0 0}} {327 {{\\U0001F44D U+1F44D thumbs up} {\\U0001F4AF U+1F4AF hundred points}} {0 0 0 0 0 0 0 0 0}} {318 {{\\U0001F64C U+1F64C raising hands} {\\U0001F44F U+1F44F clapping hands}} {0 0 0 0 0 0 0 0 0}} {68 {{\\U0001F609 U+1F609 winking face} {\\U0001F602 U+1F602 face with tears of joy}} {0 0 0 0 0 0 0 0 0}} {200 {{\\U0001F339 U+1F339 rose} {\\U0001F343 U+1F343 leaf fluttering in wind}} {0 0 0 0 0 0 0 0 0}} {282 {{\\U0001F496 U+1F496 sparkling heart} {\\U0001F60A U+1F60A smiling face with smiling eyes}} {0 0 0 0 0 0 0 0 0}} {505 {{\\U0001F612 U+1F612 unamused face} {\\U0001F629 U+1F629 weary face}} {0 0 0 0 0 0 0 0 0}} {281 {{\\U0000263A U+263A smiling face} {\\U0001F602 U+1F602 face with tears of joy}} {0 0 0 0 0 0 0 0 0}} {349 {{\\U0001F64C U+1F64C raising hands} {\\U0001F3C6 U+1F3C6 trophy}} {0 0 0 0 0 0 0 0 0}} {105 {{\\U0001F448 U+1F448 backhand index pointing left} {\\U0001F44C U+1F44C OK hand}} {0 0 0 0 0 0 0 0 0}} {306 {{\\U0001F339 U+1F339 rose} {\\U00002764 U+2764 red heart}} {0 0 0 0 0 0 0 0 0}} {42 {{\\U0000261D U+261D index pointing up} {\\U0001F447 U+1F447 backhand index pointing down}} {0 0 0 0 0 0 0 0 0}} {257 {{\\U0001F602 U+1F602 face with tears of joy} {\\U0001F60B U+1F60B face savouring delicious food}} {0 0 0 0 0 0 0 0 0}} {389 {{\\U0001F389 U+1F389 party popper} {\\U0001F44F U+1F44F clapping hands}} {0 0 0 0 0 0 0 0 0}} {80 {{\\U0001F448 U+1F448 backhand index pointing left} {\\U0001F44D U+1F44D thumbs up}} {0 0 0 0 0 0 0 0 0}} {103 {{\\U0001F60E U+1F60E smiling face with sunglasses} {\\U0001F602 U+1F602 face with tears of joy}} {0 0 0 0 0 0 0 0 0}} {261 {{\\U0001F60A U+1F60A smiling face with smiling eyes} {\\U0001F499 U+1F499 blue heart}} {0 0 0 0 0 0 0 0 0}} {321 {{\\U0001F64F U+1F64F folded hands} {\\U0001F44D U+1F44D thumbs up}} {0 0 0 0 0 0 0 0 0}} {326 {{\\U0001F633 U+1F633 flushed face} {\\U0001F629 U+1F629 weary face}} {0 0 0 0 0 0 0 0 0}} {329 {{\\U0001F1EC_\\U0001F1E7 U+1F1EC_U+1F1E7 United Kingdom} {\\U0001F1FA_\\U0001F1F8 U+1F1FA_U+1F1F8 United States}} {0 0 0 0 0 0 0 0 0}} {56 {{\\U0001F496 U+1F496 sparkling heart} {\\U00002728 U+2728 sparkles}} {0 0 0 0 0 0 0 0 0}} {485 {{\\U0001F60D U+1F60D smiling face with heart-eyes} {\\U0001F60C U+1F60C relieved face}} {0 0 0 0 0 0 0 0 0}} {19 {{\\U00002764 U+2764 red heart} {\\U0001F60A U+1F60A smiling face with smiling eyes}} {0 0 0 0 0 0 0 0 0}} {53 {{\\U0001F44D U+1F44D thumbs up} {\\U0001F449 U+1F449 backhand index pointing right}} {0 0 0 0 0 0 0 0 0}} {123 {{\\U0001F60D U+1F60D smiling face with heart-eyes} {\\U0001F389 U+1F389 party popper}} {0 0 0 0 0 0 0 0 0}} {244 {{\\U0001F601 U+1F601 grinning face with smiling eyes} {\\U0001F60D U+1F60D smiling face with heart-eyes}} {0 0 0 0 0 0 0 0 0}} {58 {{\\U0001F602 U+1F602 face with tears of joy} {\\U0001F648 U+1F648 see-no-evil monkey}} {0 0 0 0 0 0 0 0 0}} {268 {{\\U0001F64C U+1F64C raising hands} {\\U0001F389 U+1F389 party popper}} {0 0 0 0 0 0 0 0 0}} {234 {{\\U0001F389 U+1F389 party popper} {\\U0001F496 U+1F496 sparkling heart}} {0 0 0 0 0 0 0 0 0}} {245 {{\\U0001F60D U+1F60D smiling face with heart-eyes} {\\U0001F609 U+1F609 winking face}} {0 0 0 0 0 0 0 0 0}} {347 {{\\U00002764 U+2764 red heart} {\\U0001F494 U+1F494 broken heart}} {0 0 0 0 0 0 0 0 0}} {426 {{\\U0001F497 U+1F497 growing heart} {\\U0001F60A U+1F60A smiling face with smiling eyes}} {0 0 0 0 0 0 0 0 0}} {178 {{\\U000026A0 U+26A0 warning} {\\U0001F6A9 U+1F6A9 triangular flag}} {0 0 0 0 0 0 0 0 0}} {361 {{\\U0001F44D U+1F44D thumbs up} {\\U0001F609 U+1F609 winking face}} {0 0 0 0 0 0 0 0 0}} {413 {{\\U00002728 U+2728 sparkles} {\\U0001F389 U+1F389 party popper}} {0 0 0 0 0 0 0 0 0}} {434 {{\\U0001F339 U+1F339 rose} {\\U0001F60D U+1F60D smiling face with heart-eyes}} {0 0 0 0 0 0 0 0 0}} {73 {{\\U0001F60D U+1F60D smiling face with heart-eyes} {\\U0001F44C U+1F44C OK hand}} {0 0 0 0 0 0 0 0 0}} {77 {{\\U0001F389 U+1F389 party popper} {\\U0001F495 U+1F495 two hearts}} {0 0 0 0 0 0 0 0 0}} {276 {{\\U0001F61C U+1F61C face with stuck-out tongue & winking eye} {\\U0001F60D U+1F60D smiling face with heart-eyes}} {0 0 0 0 0 0 0 0 0}} {131 {{\\U0001F629 U+1F629 weary face} {\\U0001F644 U+1F644 face with rolling eyes}} {0 0 0 0 0 0 0 0 0}} {203 {{\\U0001F44C U+1F44C OK hand} {\\U0001F618 U+1F618 face blowing a kiss}} {0 0 0 0 0 0 0 0 0}} {365 {{\\U0001F60A U+1F60A smiling face with smiling eyes} {\\U0001F633 U+1F633 flushed face}} {0 0 0 0 0 0 0 0 0}} {74 {{\\U0001F644 U+1F644 face with rolling eyes} {\\U0001F62D U+1F62D loudly crying face}} {0 0 0 0 0 0 0 0 0}} {96 {{\\U0001F389 U+1F389 party popper} {\\U0001F60A U+1F60A smiling face with smiling eyes}} {0 0 0 0 0 0 0 0 0}} {312 {{\\U0000263A U+263A smiling face} {\\U00002764 U+2764 red heart}} {0 0 0 0 0 0 0 0 0}} {414 {{\\U0001F44C U+1F44C OK hand} {\\U0001F449 U+1F449 backhand index pointing right}} {0 0 0 0 0 0 0 0 0}} {422 {{\\U0001F49B U+1F49B yellow heart} {\\U0001F60A U+1F60A smiling face with smiling eyes}} {0 0 0 0 0 0 0 0 0}} {442 {{\\U0001F449 U+1F449 backhand index pointing right} {\\U0001F447 U+1F447 backhand index pointing down}} {0 0 0 0 0 0 0 0 0}} {140 {{\\U00002764 U+2764 red heart} {\\U0001F601 U+1F601 grinning face with smiling eyes}} {0 0 0 0 0 0 0 0 0}} {177 {{\\U0001F60B U+1F60B face savouring delicious food} {\\U0001F60D U+1F60D smiling face with heart-eyes}} {0 0 0 0 0 0 0 0 0}} {64 {{\\U0001F618 U+1F618 face blowing a kiss} {\\U0001F389 U+1F389 party popper}} {0 0 0 0 0 0 0 0 0}} {70 {{\\U0001F193 U+1F193 FREE button} {\\U0001F4B8 U+1F4B8 money with wings}} {0 0 0 0 0 0 0 0 0}} {406 {{\\U0001F497 U+1F497 growing heart} {\\U0001F389 U+1F389 party popper}} {0 0 0 0 0 0 0 0 0}} {431 {{\\U0001F60A U+1F60A smiling face with smiling eyes} {\\U0001F49C U+1F49C purple heart}} {0 0 0 0 0 0 0 0 0}} {198 {{\\U0001F917 U+1F917 hugging face} {\\U0001F602 U+1F602 face with tears of joy}} {0 0 0 0 0 0 0 0 0}} {222 {{\\U0001F64F U+1F64F folded hands} {\\U0001F449 U+1F449 backhand index pointing right}} {0 0 0 0 0 0 0 0 0}} {380 {{\\U0001F44D U+1F44D thumbs up} {\\U0001F60E U+1F60E smiling face with sunglasses}} {0 0 0 0 0 0 0 0 0}} {420 {{\\U0001F618 U+1F618 face blowing a kiss} {\\U0001F601 U+1F601 grinning face with smiling eyes}} {0 0 0 0 0 0 0 0 0}} {54 {{\\U0001F602 U+1F602 face with tears of joy} {\\U0001F44C U+1F44C OK hand}} {0 0 0 0 0 0 0 0 0}} {91 {{\\U0001F60D U+1F60D smiling face with heart-eyes} {\\U0001F64C U+1F64C raising hands}} {0 0 0 0 0 0 0 0 0}} {168 {{\\U0001F60D U+1F60D smiling face with heart-eyes} {\\U0001F648 U+1F648 see-no-evil monkey}} {0 0 0 0 0 0 0 0 0}} {246 {{\\U0001F60E U+1F60E smiling face with sunglasses} {\\U0001F60D U+1F60D smiling face with heart-eyes}} {0 0 0 0 0 0 0 0 0}} {263 {{\\U0001F44C U+1F44C OK hand} {\\U0001F60A U+1F60A smiling face with smiling eyes}} {0 0 0 0 0 0 0 0 0}} {30 {{\\U00002764 U+2764 red heart} {\\U0001F389 U+1F389 party popper}} {0 0 0 0 0 0 0 0 0}} {67 {{\\U0001F602 U+1F602 face with tears of joy} {\\U0001F44F U+1F44F clapping hands}} {0 0 0 0 0 0 0 0 0}} {139 {{\\U0001F60D U+1F60D smiling face with heart-eyes} {\\U0001F44D U+1F44D thumbs up}} {0 0 0 0 0 0 0 0 0}} {171 {{\\U0001F643 U+1F643 upside-down face} {\\U0001F602 U+1F602 face with tears of joy}} {0 0 0 0 0 0 0 0 0}} {233 {{\\U0001F64C U+1F64C raising hands} {\\U0001F4AF U+1F4AF hundred points}} {0 0 0 0 0 0 0 0 0}} {279 {{\\U0001F914 U+1F914 thinking face} {\\U0001F629 U+1F629 weary face}} {0 0 0 0 0 0 0 0 0}} {367 {{\\U0001F338 U+1F338 cherry blossom} {\\U00002764 U+2764 red heart}} {0 0 0 0 0 0 0 0 0}} {416 {{\\U0001F604 U+1F604 smiling face with open mouth & smiling eyes} {\\U0001F60D U+1F60D smiling face with heart-eyes}} {0 0 0 0 0 0 0 0 0}} {462 {{\\U0001F60D U+1F60D smiling face with heart-eyes} {\\U0001F917 U+1F917 hugging face}} {0 0 0 0 0 0 0 0 0}} {472 {{\\U0001F48D U+1F48D ring} {\\U0001F60D U+1F60D smiling face with heart-eyes}} {0 0 0 0 0 0 0 0 0}} {496 {{\\U0001F4AF U+1F4AF hundred points} {\\U0001F51D U+1F51D TOP arrow}} {0 0 0 0 0 0 0 0 0}} {475 {{\\U0001F607 U+1F607 smiling face with halo} {\\U0001F602 U+1F602 face with tears of joy}} {0 0 0 0 0 0 0 0 0}} {84 {{\\U0001F44D U+1F44D thumbs up} {\\U0001F60A U+1F60A smiling face with smiling eyes}} {0 0 0 0 0 0 0 0 0}} {144 {{\\U0001F497 U+1F497 growing heart} {\\U00002728 U+2728 sparkles}} {0 0 0 0 0 0 0 0 0}} {159 {{\\U0001F914 U+1F914 thinking face} {\\U0001F62D U+1F62D loudly crying face}} {0 0 0 0 0 0 0 0 0}} {214 {{\\U0001F608 U+1F608 smiling face with horns} {\\U0001F602 U+1F602 face with tears of joy}} {0 0 0 0 0 0 0 0 0}} {433 {{\\U0000270C U+270C victory hand} {\\U0001F60A U+1F60A smiling face with smiling eyes}} {0 0 0 0 0 0 0 0 0}} {467 {{\\U0001F62D U+1F62D loudly crying face} {\\U0001F498 U+1F498 heart with arrow}} {0 0 0 0 0 0 0 0 0}} {95 {{\\U0001F303 U+1F303 night with stars} {\\U0001F4CD U+1F4CD round pushpin}} {0 0 0 0 0 0 0 0 0}} {350 {{\\U0001F61A U+1F61A kissing face with closed eyes} {\\U0001F44F U+1F44F clapping hands}} {0 0 0 0 0 0 0 0 0}} {419 {{\\U00002764 U+2764 red heart} {\\U0001F388 U+1F388 balloon}} {0 0 0 0 0 0 0 0 0}} {100 {{\\U0001F602 U+1F602 face with tears of joy} {\\U0001F64C U+1F64C raising hands}} {0 0 0 0 0 0 0 0 0}} {293 {{\\U00002764 U+2764 red heart} {\\U0001F484 U+1F484 lipstick}} {0 0 0 0 0 0 0 0 0}} {404 {{\\U0001F618 U+1F618 face blowing a kiss} {\\U0001F604 U+1F604 smiling face with open mouth & smiling eyes}} {0 0 0 0 0 0 0 0 0}} {93 {{\\U0001F602 U+1F602 face with tears of joy} {\\U0001F60F U+1F60F smirking face}} {0 0 0 0 0 0 0 0 0}} {344 {{\\U0001F389 U+1F389 party popper} {\\U0001F44D U+1F44D thumbs up}} {0 0 0 0 0 0 0 0 0}} {424 {{\\U0001F389 U+1F389 party popper} {\\U0001F499 U+1F499 blue heart}} {0 0 0 0 0 0 0 0 0}} {449 {{\\U0001F389 U+1F389 party popper} {\\U0000263A U+263A smiling face}} {0 0 0 0 0 0 0 0 0}} {502 {{\\U0001F4AF U+1F4AF hundred points} {\\U0001F4B0 U+1F4B0 money bag}} {0 0 0 0 0 0 0 0 0}} {39 {{\\U0001F602 U+1F602 face with tears of joy} {\\U0001F44D U+1F44D thumbs up}} {0 0 0 0 0 0 0 0 0}} {133 {{\\U0001F602 U+1F602 face with tears of joy} {\\U0001F496 U+1F496 sparkling heart}} {0 0 0 0 0 0 0 0 0}} {196 {{\\U0001F60D U+1F60D smiling face with heart-eyes} {\\U0001F451 U+1F451 crown}} {0 0 0 0 0 0 0 0 0}} {61 {{\\U0001F495 U+1F495 two hearts} {\\U00002728 U+2728 sparkles}} {0 0 0 0 0 0 0 0 0}} {138 {{\\U0001F319 U+1F319 crescent moon} {\\U0001F496 U+1F496 sparkling heart}} {0 0 0 0 0 0 0 0 0}} {161 {{\\U0001F609 U+1F609 winking face} {\\U00002764 U+2764 red heart}} {0 0 0 0 0 0 0 0 0}} {186 {{\\U0001F64F U+1F64F folded hands} {\\U0001F4AF U+1F4AF hundred points}} {0 0 0 0 0 0 0 0 0}} {260 {{\\U0001F4A9 U+1F4A9 pile of poo} {\\U0001F602 U+1F602 face with tears of joy}} {0 0 0 0 0 0 0 0 0}} {262 {{\\U0001F495 U+1F495 two hearts} {\\U0001F648 U+1F648 see-no-evil monkey}} {0 0 0 0 0 0 0 0 0}} {373 {{\\U0001F60D U+1F60D smiling face with heart-eyes} {\\U0001F61B U+1F61B face with stuck-out tongue}} {0 0 0 0 0 0 0 0 0}} {378 {{\\U0001F60E U+1F60E smiling face with sunglasses} {\\U0001F44C U+1F44C OK hand}} {0 0 0 0 0 0 0 0 0}} {117 {{\\U00002728 U+2728 sparkles} {\\U0001F60D U+1F60D smiling face with heart-eyes}} {0 0 0 0 0 0 0 0 0}} {141 {{\\U0000270C U+270C victory hand} {\\U0001F602 U+1F602 face with tears of joy}} {0 0 0 0 0 0 0 0 0}} {188 {{\\U0001F44B U+1F44B waving hand} {\\U0001F633 U+1F633 flushed face}} {0 0 0 0 0 0 0 0 0}} {362 {{\\U0001F618 U+1F618 face blowing a kiss} {\\U0001F44D U+1F44D thumbs up}} {0 0 0 0 0 0 0 0 0}} {374 {{\\U0001F64A U+1F64A speak-no-evil monkey} {\\U0001F602 U+1F602 face with tears of joy}} {0 0 0 0 0 0 0 0 0}} {446 {{\\U00002764 U+2764 red heart} {\\U0001F917 U+1F917 hugging face}} {0 0 0 0 0 0 0 0 0}} {87 {{\\U0001F483 U+1F483 woman dancing} {\\U0001F303 U+1F303 night with stars}} {0 0 0 0 0 0 0 0 0}} {99 {{\\U0001F629 U+1F629 weary face} {\\U00002764 U+2764 red heart}} {0 0 0 0 0 0 0 0 0}} {157 {{\\U00002728 U+2728 sparkles} {\\U0001F484 U+1F484 lipstick}} {0 0 0 0 0 0 0 0 0}} {160 {{\\U0001F602 U+1F602 face with tears of joy} {\\U0001F389 U+1F389 party popper}} {0 0 0 0 0 0 0 0 0}} {163 {{\\U0001F4AF U+1F4AF hundred points} {\\U0001F60D U+1F60D smiling face with heart-eyes}} {0 0 0 0 0 0 0 0 0}} {165 {{\\U0001F44F U+1F44F clapping hands} {\\U0001F618 U+1F618 face blowing a kiss}} {0 0 0 0 0 0 0 0 0}} {250 {{\\U0001F499 U+1F499 blue heart} {\\U0001F44D U+1F44D thumbs up}} {0 0 0 0 0 0 0 0 0}} {299 {{\\U0001F918 U+1F918 sign of the horns} {\\U0001F4AF U+1F4AF hundred points}} {0 0 0 0 0 0 0 0 0}} {300 {{\\U0001F3C5 U+1F3C5 sports medal} {\\U0001F1FA_\\U0001F1F8 U+1F1FA_U+1F1F8 United States}} {0 0 0 0 0 0 0 0 0}} {409 {{\\U0001F618 U+1F618 face blowing a kiss} {\\U0001F388 U+1F388 balloon}} {0 0 0 0 0 0 0 0 0}} {454 {{\\U0001F602 U+1F602 face with tears of joy} {\\U0001F62B U+1F62B tired face}} {0 0 0 0 0 0 0 0 0}} {180 {{\\U0001F602 U+1F602 face with tears of joy} {\\U0001F499 U+1F499 blue heart}} {0 0 0 0 0 0 0 0 0}} {399 {{\\U0001F631 U+1F631 face screaming in fear} {\\U0001F602 U+1F602 face with tears of joy}} {0 0 0 0 0 0 0 0 0}} {456 {{\\U0001F604 U+1F604 smiling face with open mouth & smiling eyes} {\\U0001F495 U+1F495 two hearts}} {0 0 0 0 0 0 0 0 0}} {458 {{\\U0001F607 U+1F607 smiling face with halo} {\\U0001F64F U+1F64F folded hands}} {0 0 0 0 0 0 0 0 0}} {12 {{\\U0001F60D U+1F60D smiling face with heart-eyes} {\\U0001F602 U+1F602 face with tears of joy}} {0 0 0 0 0 0 0 0 0}} {17 {{\\U0001F602 U+1F602 face with tears of joy} {\\U0001F618 U+1F618 face blowing a kiss}} {0 0 0 0 0 0 0 0 0}} {72 {{\\U0001F193 U+1F193 FREE button} {\\U0001F483 U+1F483 woman dancing}} {0 0 0 0 0 0 0 0 0}} {128 {{\\U0001F338 U+1F338 cherry blossom} {\\U00002728 U+2728 sparkles}} {0 0 0 0 0 0 0 0 0}} {162 {{\\U0001F3A5 U+1F3A5 movie camera} {\\U0001F44D U+1F44D thumbs up}} {0 0 0 0 0 0 0 0 0}} {166 {{\\U00002764 U+2764 red heart} {\\U0001F451 U+1F451 crown}} {0 0 0 0 0 0 0 0 0}} {175 {{\\U0001F60D U+1F60D smiling face with heart-eyes} {\\U0001F44F U+1F44F clapping hands}} {0 0 0 0 0 0 0 0 0}} {338 {{\\U0001F648 U+1F648 see-no-evil monkey} {\\U0001F633 U+1F633 flushed face}} {0 0 0 0 0 0 0 0 0}} {357 {{\\U0001F607 U+1F607 smiling face with halo} {\\U00002764 U+2764 red heart}} {0 0 0 0 0 0 0 0 0}} {479 {{\\U0001F609 U+1F609 winking face} {\\U0001F495 U+1F495 two hearts}} {0 0 0 0 0 0 0 0 0}} {1 {{\\U0001F602 U+1F602 face with tears of joy} {\\U0001F62D U+1F62D loudly crying face}} {0 0 0 0 0 0 0 0 0}} {106 {{\\U00002764 U+2764 red heart} {\\U0001F525 U+1F525 fire}} {0 0 0 0 0 0 0 0 0}} {147 {{\\U0001F918 U+1F918 sign of the horns} {\\U0001F602 U+1F602 face with tears of joy}} {0 0 0 0 0 0 0 0 0}} {174 {{\\U0001F495 U+1F495 two hearts} {\\U0001F44D U+1F44D thumbs up}} {0 0 0 0 0 0 0 0 0}} {185 {{\\U0001F4E2 U+1F4E2 loudspeaker} {\\U000026A0 U+26A0 warning}} {0 0 0 0 0 0 0 0 0}} {190 {{\\U0001F4E2 U+1F4E2 loudspeaker} {\\U0001F6A9 U+1F6A9 triangular flag}} {0 0 0 0 0 0 0 0 0}} {223 {{\\U0001F451 U+1F451 crown} {\\U0001F495 U+1F495 two hearts}} {0 0 0 0 0 0 0 0 0}} {303 {{\\U0001F602 U+1F602 face with tears of joy} {\\U0001F49C U+1F49C purple heart}} {0 0 0 0 0 0 0 0 0}} {308 {{\\U00002728 U+2728 sparkles} {\\U0001F49E U+1F49E revolving hearts}} {0 0 0 0 0 0 0 0 0}} {341 {{\\U00002764 U+2764 red heart} {\\U0001F3B6 U+1F3B6 musical notes}} {0 0 0 0 0 0 0 0 0}} {353 {{\\U0001F495 U+1F495 two hearts} {\\U0001F338 U+1F338 cherry blossom}} {0 0 0 0 0 0 0 0 0}} {421 {{\\U0001F4AF U+1F4AF hundred points} {\\U0001F44F U+1F44F clapping hands}} {0 0 0 0 0 0 0 0 0}} {336 {{\\U0001F449 U+1F449 backhand index pointing right} {\\U00002714 U+2714 heavy check mark}} {0 0 0 0 0 0 0 0 0}} {348 {{\\U00002728 U+2728 sparkles} {\\U0001F499 U+1F499 blue heart}} {0 0 0 0 0 0 0 0 0}} {376 {{\\U0001F31F U+1F31F glowing star} {\\U00002764 U+2764 red heart}} {0 0 0 0 0 0 0 0 0}} {398 {{\\U0001F62D U+1F62D loudly crying face} {\\U0001F605 U+1F605 smiling face with open mouth & cold sweat}} {0 0 0 0 0 0 0 0 0}} {405 {{\\U0001F618 U+1F618 face blowing a kiss} {\\U0001F648 U+1F648 see-no-evil monkey}} {0 0 0 0 0 0 0 0 0}} {478 {{\\U0001F49A U+1F49A green heart} {\\U00002728 U+2728 sparkles}} {0 0 0 0 0 0 0 0 0}} {6 {{\\U0001F644 U+1F644 face with rolling eyes} {\\U0001F602 U+1F602 face with tears of joy}} {0 0 0 0 0 0 0 0 0}} {18 {{\\U0001F633 U+1F633 flushed face} {\\U0001F602 U+1F602 face with tears of joy}} {0 0 0 0 0 0 0 0 0}} {113 {{\\U0001F602 U+1F602 face with tears of joy} {\\U0001F612 U+1F612 unamused face}} {0 0 0 0 0 0 0 0 0}} {114 {{\\U0001F62D U+1F62D loudly crying face} {\\U0001F618 U+1F618 face blowing a kiss}} {0 0 0 0 0 0 0 0 0}} {152 {{\\U0001F648 U+1F648 see-no-evil monkey} {\\U00002764 U+2764 red heart}} {0 0 0 0 0 0 0 0 0}} {176 {{\\U0001F64C U+1F64C raising hands} {\\U00002764 U+2764 red heart}} {0 0 0 0 0 0 0 0 0}} {201 {{\\U0001F631 U+1F631 face screaming in fear} {\\U0001F60D U+1F60D smiling face with heart-eyes}} {0 0 0 0 0 0 0 0 0}} {202 {{\\U0001F44F U+1F44F clapping hands} {\\U0001F449 U+1F449 backhand index pointing right}} {0 0 0 0 0 0 0 0 0}} {206 {{\\U0001F64A U+1F64A speak-no-evil monkey} {\\U0001F60D U+1F60D smiling face with heart-eyes}} {0 0 0 0 0 0 0 0 0}} {215 {{\\U0001F64F U+1F64F folded hands} {\\U0001F60A U+1F60A smiling face with smiling eyes}} {0 0 0 0 0 0 0 0 0}} {225 {{\\U0001F4AF U+1F4AF hundred points} {\\U0000203C U+203C double exclamation mark}} {0 0 0 0 0 0 0 0 0}} {354 {{\\U0001F602 U+1F602 face with tears of joy} {\\U0001F497 U+1F497 growing heart}} {0 0 0 0 0 0 0 0 0}} {369 {{\\U0001F4CD U+1F4CD round pushpin} {\\U0001F3AF U+1F3AF direct hit}} {0 0 0 0 0 0 0 0 0}} {371 {{\\U0001F60E U+1F60E smiling face with sunglasses} {\\U0001F4AF U+1F4AF hundred points}} {0 0 0 0 0 0 0 0 0}} {435 {{\\U0001F44B U+1F44B waving hand} {\\U0001F618 U+1F618 face blowing a kiss}} {0 0 0 0 0 0 0 0 0}} {493 {{\\U00002728 U+2728 sparkles} {\\U0001F451 U+1F451 crown}} {0 0 0 0 0 0 0 0 0}} {507 {{\\U0001F608 U+1F608 smiling face with horns} {\\U0001F60D U+1F60D smiling face with heart-eyes}} {0 0 0 0 0 0 0 0 0}} {16 {{\\U0001F4AF U+1F4AF hundred points} {\\U0001F602 U+1F602 face with tears of joy}} {0 0 0 0 0 0 0 0 0}} {116 {{\\U00002764 U+2764 red heart} {\\U0001F4AF U+1F4AF hundred points}} {0 0 0 0 0 0 0 0 0}} {172 {{\\U0001F1FA_\\U0001F1F8 U+1F1FA_U+1F1F8 United States} {\\U00002764 U+2764 red heart}} {0 0 0 0 0 0 0 0 0}} {280 {{\\U0001F62D U+1F62D loudly crying face} {\\U0001F64F U+1F64F folded hands}} {0 0 0 0 0 0 0 0 0}} {309 {{\\U0001F602 U+1F602 face with tears of joy} {\\U0001F613 U+1F613 face with cold sweat}} {0 0 0 0 0 0 0 0 0}} {320 {{\\U000026AA U+26AA white circle} {\\U0001F518 U+1F518 radio button}} {0 0 0 0 0 0 0 0 0}} {345 {{\\U0001F62D U+1F62D loudly crying face} {\\U0001F497 U+1F497 growing heart}} {0 0 0 0 0 0 0 0 0}} {410 {{\\U0001F308 U+1F308 rainbow} {\\U0001F495 U+1F495 two hearts}} {0 0 0 0 0 0 0 0 0}} {427 {{\\U0001F602 U+1F602 face with tears of joy} {\\U0001F622 U+1F622 crying face}} {0 0 0 0 0 0 0 0 0}} {466 {{\\U0001F49E U+1F49E revolving hearts} {\\U0001F44D U+1F44D thumbs up}} {0 0 0 0 0 0 0 0 0}} {492 {{\\U0001F60D U+1F60D smiling face with heart-eyes} {\\U0001F3B6 U+1F3B6 musical notes}} {0 0 0 0 0 0 0 0 0}} {33 {{\\U00002728 U+2728 sparkles} {\\U00002764 U+2764 red heart}} {0 0 0 0 0 0 0 0 0}} {89 {{\\U0001F303 U+1F303 night with stars} {\\U0001F4B8 U+1F4B8 money with wings}} {0 0 0 0 0 0 0 0 0}} {164 {{\\U0001F451 U+1F451 crown} {\\U0001F984 U+1F984 unicorn face}} {0 0 0 0 0 0 0 0 0}} {181 {{\\U0001F60D U+1F60D smiling face with heart-eyes} {\\U0001F64F U+1F64F folded hands}} {0 0 0 0 0 0 0 0 0}} {197 {{\\U0001F4AF U+1F4AF hundred points} {\\U0001F4AA U+1F4AA flexed biceps}} {0 0 0 0 0 0 0 0 0}} {205 {{\\U0001F4A6 U+1F4A6 sweat droplets} {\\U0001F459 U+1F459 bikini}} {0 0 0 0 0 0 0 0 0}} {210 {{\\U00002728 U+2728 sparkles} {\\U0001F49C U+1F49C purple heart}} {0 0 0 0 0 0 0 0 0}} {253 {{\\U0001F60F U+1F60F smirking face} {\\U0001F60D U+1F60D smiling face with heart-eyes}} {0 0 0 0 0 0 0 0 0}} {269 {{\\U0001F64F U+1F64F folded hands} {\\U0001F602 U+1F602 face with tears of joy}} {0 0 0 0 0 0 0 0 0}} {295 {{\\U0001F44C U+1F44C OK hand} {\\U00002764 U+2764 red heart}} {0 0 0 0 0 0 0 0 0}} {333 {{\\U0001F31A U+1F31A new moon face} {\\U0001F602 U+1F602 face with tears of joy}} {0 0 0 0 0 0 0 0 0}} {391 {{\\U0001F49B U+1F49B yellow heart} {\\U00002728 U+2728 sparkles}} {0 0 0 0 0 0 0 0 0}} {461 {{\\U0001F615 U+1F615 confused face} {\\U0001F602 U+1F602 face with tears of joy}} {0 0 0 0 0 0 0 0 0}} {488 {{\\U0001F62D U+1F62D loudly crying face} {\\U0001F49E U+1F49E revolving hearts}} {0 0 0 0 0 0 0 0 0}} {37 {{\\U0001F62D U+1F62D loudly crying face} {\\U0001F480 U+1F480 skull}} {0 0 0 0 0 0 0 0 0}} {213 {{\\U0001F445 U+1F445 tongue} {\\U0001F4A6 U+1F4A6 sweat droplets}} {0 0 0 0 0 0 0 0 0}} {252 {{\\U0001F62D U+1F62D loudly crying face} {\\U0001F499 U+1F499 blue heart}} {0 0 0 0 0 0 0 0 0}} {270 {{\\U0001F303 U+1F303 night with stars} {\\U0001F579 U+1F579 joystick}} {0 0 0 0 0 0 0 0 0}} {370 {{\\U0001F44A U+1F44A oncoming fist} {\\U0001F633 U+1F633 flushed face}} {0 0 0 0 0 0 0 0 0}} {372 {{\\U0001F622 U+1F622 crying face} {\\U00002764 U+2764 red heart}} {0 0 0 0 0 0 0 0 0}} {9 {{\\U0001F629 U+1F629 weary face} {\\U0001F602 U+1F602 face with tears of joy}} {0 0 0 0 0 0 0 0 0}} {59 {{\\U00002764 U+2764 red heart} {\\U0001F44D U+1F44D thumbs up}} {0 0 0 0 0 0 0 0 0}} {62 "
     ]
    },
    {
     "name": "stdout",
     "output_type": "stream",
     "text": [
      "{{\\U0001F64F U+1F64F folded hands} {\\U00002764 U+2764 red heart}} {0 0 0 0 0 0 0 0 0}} {81 {{\\U0001F4B8 U+1F4B8 money with wings} {\\U0001F483 U+1F483 woman dancing}} {0 0 0 0 0 0 0 0 0}} {136 {{\\U0001F608 U+1F608 smiling face with horns} {\\U0001F525 U+1F525 fire}} {0 0 0 0 0 0 0 0 0}} {209 {{\\U0001F525 U+1F525 fire} {\\U0001F64F U+1F64F folded hands}} {0 0 0 0 0 0 0 0 0}} {325 {{\\U0001F60D U+1F60D smiling face with heart-eyes} {\\U0001F445 U+1F445 tongue}} {0 0 0 0 0 0 0 0 0}} {335 {{\\U0001F618 U+1F618 face blowing a kiss} {\\U0001F64F U+1F64F folded hands}} {0 0 0 0 0 0 0 0 0}} {339 {{\\U0001F602 U+1F602 face with tears of joy} {\\U0001F611 U+1F611 expressionless face}} {0 0 0 0 0 0 0 0 0}} {394 {{\\U0001F60A U+1F60A smiling face with smiling eyes} {\\U00002728 U+2728 sparkles}} {0 0 0 0 0 0 0 0 0}} {457 {{\\U0001F4F7 U+1F4F7 camera} {\\U000000A9 U+00A9 copyright}} {0 0 0 0 0 0 0 0 0}} {22 {{\\U0001F60D U+1F60D smiling face with heart-eyes} {\\U0001F525 U+1F525 fire}} {0 0 0 0 0 0 0 0 0}} {35 {{\\U0001F602 U+1F602 face with tears of joy} {\\U0001F495 U+1F495 two hearts}} {0 0 0 0 0 0 0 0 0}} {45 {{\\U0001F447 U+1F447 backhand index pointing down} {\\U0001F633 U+1F633 flushed face}} {0 0 0 0 0 0 0 0 0}} {75 {{\\U0001F193 U+1F193 FREE button} {\\U0001F4CD U+1F4CD round pushpin}} {0 0 0 0 0 0 0 0 0}} {274 {{\\U0001F602 U+1F602 face with tears of joy} {\\U0001F481 U+1F481 person tipping hand}} {0 0 0 0 0 0 0 0 0}} {298 {{\\U0001F602 U+1F602 face with tears of joy} {\\U0001F610 U+1F610 neutral face}} {0 0 0 0 0 0 0 0 0}} {304 {{\\U00002764 U+2764 red heart} {\\U0001F60C U+1F60C relieved face}} {0 0 0 0 0 0 0 0 0}} {328 {{\\U0001F602 U+1F602 face with tears of joy} {\\U0001F44B U+1F44B waving hand}} {0 0 0 0 0 0 0 0 0}} {351 {{\\U0001F629 U+1F629 weary face} {\\U0001F495 U+1F495 two hearts}} {0 0 0 0 0 0 0 0 0}} {412 {{\\U0001F525 U+1F525 fire} {\\U0001F4A6 U+1F4A6 sweat droplets}} {0 0 0 0 0 0 0 0 0}} {437 {{\\U0001F44D U+1F44D thumbs up} {\\U00002728 U+2728 sparkles}} {0 0 0 0 0 0 0 0 0}} {452 {{\\U0001F62D U+1F62D loudly crying face} {\\U0001F493 U+1F493 beating heart}} {0 0 0 0 0 0 0 0 0}} {153 {{\\U0001F495 U+1F495 two hearts} {\\U0001F64F U+1F64F folded hands}} {0 0 0 0 0 0 0 0 0}} {294 {{\\U0001F60E U+1F60E smiling face with sunglasses} {\\U00002764 U+2764 red heart}} {0 0 0 0 0 0 0 0 0}} {112 {{\\U000026F3 U+26F3 flag in hole} {\\U0001F49A U+1F49A green heart}} {0 0 0 0 0 0 0 0 0}} {137 {{\\U0001F449 U+1F449 backhand index pointing right} {\\U0001F3A5 U+1F3A5 movie camera}} {0 0 0 0 0 0 0 0 0}} {254 {{\\U0001F602 U+1F602 face with tears of joy} {\\U0001F595 U+1F595 middle finger}} {0 0 0 0 0 0 0 0 0}} {352 {{\\U0001F62D U+1F62D loudly crying face} {\\U0001F60A U+1F60A smiling face with smiling eyes}} {0 0 0 0 0 0 0 0 0}} {360 {{\\U0001F602 U+1F602 face with tears of joy} {\\U0001F44A U+1F44A oncoming fist}} {0 0 0 0 0 0 0 0 0}} {385 {{\\U0001F44F U+1F44F clapping hands} {\\U00002764 U+2764 red heart}} {0 0 0 0 0 0 0 0 0}} {432 {{\\U0001F64C U+1F64C raising hands} {\\U0001F449 U+1F449 backhand index pointing right}} {0 0 0 0 0 0 0 0 0}} {440 {{\\U0001F4A6 U+1F4A6 sweat droplets} {\\U0001F602 U+1F602 face with tears of joy}} {0 0 0 0 0 0 0 0 0}} {447 {{\\U0001F44B U+1F44B waving hand} {\\U0001F447 U+1F447 backhand index pointing down}} {0 0 0 0 0 0 0 0 0}} {52 {{\\U0001F4AF U+1F4AF hundred points} {\\U0001F525 U+1F525 fire}} {0 0 0 0 0 0 0 0 0}} {127 {{\\U0001F608 U+1F608 smiling face with horns} {\\U0001F4A6 U+1F4A6 sweat droplets}} {0 0 0 0 0 0 0 0 0}} {11 {{\\U0001F602 U+1F602 face with tears of joy} {\\U00002764 U+2764 red heart}} {0 0 0 0 0 0 0 0 0}} {13 {{\\U0001F62D U+1F62D loudly crying face} {\\U0001F60D U+1F60D smiling face with heart-eyes}} {0 0 0 0 0 0 0 0 0}} {15 {{\\U0001F62D U+1F62D loudly crying face} {\\U00002764 U+2764 red heart}} {0 0 0 0 0 0 0 0 0}} {76 {{\\U0001F483 U+1F483 woman dancing} {\\U0001F4CD U+1F4CD round pushpin}} {0 0 0 0 0 0 0 0 0}} {107 {{\\U0000203C U+203C double exclamation mark} {\\U0001F525 U+1F525 fire}} {0 0 0 0 0 0 0 0 0}} {182 {{\\U0001F449 U+1F449 backhand index pointing right} {\\U0001F60E U+1F60E smiling face with sunglasses}} {0 0 0 0 0 0 0 0 0}} {224 {{\\U0001F602 U+1F602 face with tears of joy} {\\U0001F634 U+1F634 sleeping face}} {0 0 0 0 0 0 0 0 0}} {231 {{\\U0001F60F U+1F60F smirking face} {\\U0001F303 U+1F303 night with stars}} {0 0 0 0 0 0 0 0 0}} {266 {{\\U0001F4CD U+1F4CD round pushpin} {\\U0001F4F2 U+1F4F2 mobile phone with arrow}} {0 0 0 0 0 0 0 0 0}} {322 {{\\U0001F525 U+1F525 fire} {\\U0001F495 U+1F495 two hearts}} {0 0 0 0 0 0 0 0 0}} {334 {{\\U0001F44C U+1F44C OK hand} {\\U0001F525 U+1F525 fire}} {0 0 0 0 0 0 0 0 0}} {342 {{\\U0001F4AF U+1F4AF hundred points} {\\U0001F4E2 U+1F4E2 loudspeaker}} {0 0 0 0 0 0 0 0 0}} {356 {{\\U0001F495 U+1F495 two hearts} {\\U0001F64C U+1F64C raising hands}} {0 0 0 0 0 0 0 0 0}} {358 {{\\U0001F618 U+1F618 face blowing a kiss} {\\U0001F629 U+1F629 weary face}} {0 0 0 0 0 0 0 0 0}} {401 {{\\U0001F4AA U+1F4AA flexed biceps} {\\U00002764 U+2764 red heart}} {0 0 0 0 0 0 0 0 0}} {448 {{\\U0000203C U+203C double exclamation mark} {\\U0001F602 U+1F602 face with tears of joy}} {0 0 0 0 0 0 0 0 0}} {469 {{\\U0001F4F7 U+1F4F7 camera} {\\U0001F60D U+1F60D smiling face with heart-eyes}} {0 0 0 0 0 0 0 0 0}} {501 {{\\U0001F649 U+1F649 hear-no-evil monkey} {\\U0001F4E2 U+1F4E2 loudspeaker}} {0 0 0 0 0 0 0 0 0}} {20 {{\\U0001F629 U+1F629 weary face} {\\U0001F60D U+1F60D smiling face with heart-eyes}} {0 0 0 0 0 0 0 0 0}} {32 {{\\U0001F602 U+1F602 face with tears of joy} {\\U0001F440 U+1F440 eyes}} {0 0 0 0 0 0 0 0 0}} {36 {{\\U0001F495 U+1F495 two hearts} {\\U0001F62D U+1F62D loudly crying face}} {0 0 0 0 0 0 0 0 0}} {79 {{\\U0001F4B8 U+1F4B8 money with wings} {\\U0001F6AB U+1F6AB prohibited}} {0 0 0 0 0 0 0 0 0}} {101 {{\\U0001F525 U+1F525 fire} {\\U0001F448 U+1F448 backhand index pointing left}} {0 0 0 0 0 0 0 0 0}} {115 {{\\U0001F3CC U+1F3CC person golfing} {\\U0001F49A U+1F49A green heart}} {0 0 0 0 0 0 0 0 0}} {143 {{\\U0001F525 U+1F525 fire} {\\U0001F440 U+1F440 eyes}} {0 0 0 0 0 0 0 0 0}} {150 {{\\U00002728 U+2728 sparkles} {\\U0001F449 U+1F449 backhand index pointing right}} {0 0 0 0 0 0 0 0 0}} {170 {{\\U000000A9 U+00A9 copyright} {\\U0001F43A U+1F43A wolf face}} {0 0 0 0 0 0 0 0 0}} {183 {{\\U0001F496 U+1F496 sparkling heart} {\\U0001F62D U+1F62D loudly crying face}} {0 0 0 0 0 0 0 0 0}} {247 {{\\U0001F60E U+1F60E smiling face with sunglasses} {\\U0001F525 U+1F525 fire}} {0 0 0 0 0 0 0 0 0}} {307 {{\\U0001F4AF U+1F4AF hundred points} {\\U0001F608 U+1F608 smiling face with horns}} {0 0 0 0 0 0 0 0 0}} {383 {{\\U0001F525 U+1F525 fire} {\\U0001F62D U+1F62D loudly crying face}} {0 0 0 0 0 0 0 0 0}} {439 {{\\U0001F618 U+1F618 face blowing a kiss} {\\U0001F4AF U+1F4AF hundred points}} {0 0 0 0 0 0 0 0 0}} {441 {{\\U00002728 U+2728 sparkles} {\\U0001F618 U+1F618 face blowing a kiss}} {0 0 0 0 0 0 0 0 0}} {500 {{\\U0001F64A U+1F64A speak-no-evil monkey} {\\U0001F4E2 U+1F4E2 loudspeaker}} {0 0 0 0 0 0 0 0 0}} {8 {{\\U0001F602 U+1F602 face with tears of joy} {\\U0001F914 U+1F914 thinking face}} {0 0 0 0 0 0 0 0 0}} {43 {{\\U0000261D U+261D index pointing up} {\\U0001F633 U+1F633 flushed face}} {0 0 0 0 0 0 0 0 0}} {69 {{\\U0001F303 U+1F303 night with stars} {\\U0001F193 U+1F193 FREE button}} {0 0 0 0 0 0 0 0 0}} {86 {{\\U0001F6AB U+1F6AB prohibited} {\\U0001F193 U+1F193 FREE button}} {0 0 0 0 0 0 0 0 0}} {90 {{\\U0001F303 U+1F303 night with stars} {\\U0001F6AB U+1F6AB prohibited}} {0 0 0 0 0 0 0 0 0}} {119 {{\\U0001F4CD U+1F4CD round pushpin} {\\U0001F6AB U+1F6AB prohibited}} {0 0 0 0 0 0 0 0 0}} {124 {{\\U0001F447 U+1F447 backhand index pointing down} {\\U0001F3B6 U+1F3B6 musical notes}} {0 0 0 0 0 0 0 0 0}} {232 {{\\U0001F4AF U+1F4AF hundred points} {\\U0001F629 U+1F629 weary face}} {0 0 0 0 0 0 0 0 0}} {283 {{\\U0001F60F U+1F60F smirking face} {\\U0001F579 U+1F579 joystick}} {0 0 0 0 0 0 0 0 0}} {340 {{\\U0001F60D U+1F60D smiling face with heart-eyes} {\\U0001F440 U+1F440 eyes}} {0 0 0 0 0 0 0 0 0}} {402 {{\\U0001F4F2 U+1F4F2 mobile phone with arrow} {\\U0001F3A4 U+1F3A4 microphone}} {0 0 0 0 0 0 0 0 0}} {411 {{\\U0001F4A6 U+1F4A6 sweat droplets} {\\U0001F346 U+1F346 eggplant}} {0 0 0 0 0 0 0 0 0}} {429 {{\\U0001F525 U+1F525 fire} {\\U00002728 U+2728 sparkles}} {0 0 0 0 0 0 0 0 0}} {444 {{\\U0001F48B U+1F48B kiss mark} {\\U00002728 U+2728 sparkles}} {0 0 0 0 0 0 0 0 0}} {450 {{\\U0001F62D U+1F62D loudly crying face} {\\U0001F64C U+1F64C raising hands}} {0 0 0 0 0 0 0 0 0}} {470 {{\\U0001F449 U+1F449 backhand index pointing right} {\\U0001F62B U+1F62B tired face}} {0 0 0 0 0 0 0 0 0}} {473 {{\\U0001F64A U+1F64A speak-no-evil monkey} {\\U0001F334 U+1F334 palm tree}} {0 0 0 0 0 0 0 0 0}} {474 {{\\U0001F4AF U+1F4AF hundred points} {\\U0001F649 U+1F649 hear-no-evil monkey}} {0 0 0 0 0 0 0 0 0}} {477 {{\\U0001F3C7 U+1F3C7 horse racing} {\\U000025B6 U+25B6 play button}} {0 0 0 0 0 0 0 0 0}} {486 {{\\U0001F649 U+1F649 hear-no-evil monkey} {\\U0001F463 U+1F463 footprints}} {0 0 0 0 0 0 0 0 0}} {173 {{\\U0001F602 U+1F602 face with tears of joy} {\\U0001F4AA U+1F4AA flexed biceps}} {0 0 0 0 0 0 0 0 0}} {305 {{\\U0001F448 U+1F448 backhand index pointing left} {\\U0001F60E U+1F60E smiling face with sunglasses}} {0 0 0 0 0 0 0 0 0}} {508 {{\\U0001F499 U+1F499 blue heart} {\\U0001F64F U+1F64F folded hands}} {0 0 0 0 0 0 0 0 0}} {4 {{\\U0001F602 U+1F602 face with tears of joy} {\\U0001F480 U+1F480 skull}} {0 0 0 0 0 0 0 0 0}} {41 {{\\U0001F602 U+1F602 face with tears of joy} {\\U0000261D U+261D index pointing up}} {0 0 0 0 0 0 0 0 0}} {71 {{\\U0001F4B8 U+1F4B8 money with wings} {\\U0001F4CD U+1F4CD round pushpin}} {0 0 0 0 0 0 0 0 0}} {121 {{\\U0001F447 U+1F447 backhand index pointing down} {\\U0001F3A4 U+1F3A4 microphone}} {0 0 0 0 0 0 0 0 0}} {145 {{\\U0001F4AF U+1F4AF hundred points} {\\U0001F60F U+1F60F smirking face}} {0 0 0 0 0 0 0 0 0}} {192 {{\\U0001F4AF U+1F4AF hundred points} {\\U0001F62D U+1F62D loudly crying face}} {0 0 0 0 0 0 0 0 0}} {311 {{\\U0001F1FA_\\U0001F1F8 U+1F1FA_U+1F1F8 United States} {\\U0001F4A5 U+1F4A5 collision}} {0 0 0 0 0 0 0 0 0}} {343 {{\\U0001F608 U+1F608 smiling face with horns} {\\U0001F459 U+1F459 bikini}} {0 0 0 0 0 0 0 0 0}} {384 {{\\U0001F44F U+1F44F clapping hands} {\\U000025B6 U+25B6 play button}} {0 0 0 0 0 0 0 0 0}} {386 {{\\U0001F64C U+1F64C raising hands} {\\U0001F618 U+1F618 face blowing a kiss}} {0 0 0 0 0 0 0 0 0}} {387 {{\\U0001F4CD U+1F4CD round pushpin} {\\U0001F3A5 U+1F3A5 movie camera}} {0 0 0 0 0 0 0 0 0}} {428 {{\\U0001F496 U+1F496 sparkling heart} {\\U0001F64F U+1F64F folded hands}} {0 0 0 0 0 0 0 0 0}} {430 {{\\U0001F644 U+1F644 face with rolling eyes} {\\U00002764 U+2764 red heart}} {0 0 0 0 0 0 0 0 0}} {438 {{\\U0001F4A6 U+1F4A6 sweat droplets} {\\U0001F629 U+1F629 weary face}} {0 0 0 0 0 0 0 0 0}} {27 {{\\U0001F609 U+1F609 winking face} {\\U00002620 U+2620 skull and crossbones}} {0 0 0 0 0 0 0 0 0}} {38 {{\\U0001F50A U+1F50A speaker high volume} {\\U0001F602 U+1F602 face with tears of joy}} {0 0 0 0 0 0 0 0 0}} {49 {{\\U0001F495 U+1F495 two hearts} {\\U0001F449 U+1F449 backhand index pointing right}} {0 0 0 0 0 0 0 0 0}} {146 {{\\U0001F3A4 U+1F3A4 microphone} {\\U0001F1F3_\\U0001F1EC U+1F1F3_U+1F1EC Nigeria}} {0 0 0 0 0 0 0 0 0}} {187 {{\\U0001F60D U+1F60D smiling face with heart-eyes} {\\U0001F4A6 U+1F4A6 sweat droplets}} {0 0 0 0 0 0 0 0 0}} {212 {{\\U0000267B U+267B recycling symbol} {\\U0001F463 U+1F463 footprints}} {0 0 0 0 0 0 0 0 0}} {219 {{\\U0001F449 U+1F449 backhand index pointing right} {\\U0001F3A7 U+1F3A7 headphone}} {0 0 0 0 0 0 0 0 0}} {228 {{\\U0001F525 U+1F525 fire} {\\U0001F44D U+1F44D thumbs up}} {0 0 0 0 0 0 0 0 0}} {240 {{\\U0001F448 U+1F448 backhand index pointing left} {\\U0001F60D U+1F60D smiling face with heart-eyes}} {0 0 0 0 0 0 0 0 0}} {259 {{\\U0000267B U+267B recycling symbol} {\\U0001F4AF U+1F4AF hundred points}} {0 0 0 0 0 0 0 0 0}} {273 {{\\U0001F4AF U+1F4AF hundred points} {\\U0001F914 U+1F914 thinking face}} {0 0 0 0 0 0 0 0 0}} {288 {{\\U0001F579 U+1F579 joystick} {\\U0001F4AF U+1F4AF hundred points}} {0 0 0 0 0 0 0 0 0}} {292 {{\\U0001F447 U+1F447 backhand index pointing down} {\\U0001F3A7 U+1F3A7 headphone}} {0 0 0 0 0 0 0 0 0}} {313 {{\\U0001F449 U+1F449 backhand index pointing right} {\\U0001F4F1 U+1F4F1 mobile phone}} {0 0 0 0 0 0 0 0 0}} {319 {{\\U0001F64A U+1F64A speak-no-evil monkey} {\\U0001F4AF U+1F4AF hundred points}} {0 0 0 0 0 0 0 0 0}} {330 {{\\U0001F440 U+1F440 eyes} {\\U00002764 U+2764 red heart}} {0 0 0 0 0 0 0 0 0}} {364 {{\\U0001F1F3_\\U0001F1EC U+1F1F3_U+1F1EC Nigeria} {\\U0001F4F2 U+1F4F2 mobile phone with arrow}} {0 0 0 0 0 0 0 0 0}} {393 {{\\U0001F644 U+1F644 face with rolling eyes} {\\U0001F4AF U+1F4AF hundred points}} {0 0 0 0 0 0 0 0 0}} {476 {{\\U0001F463 U+1F463 footprints} {\\U0001F64A U+1F64A speak-no-evil monkey}} {0 0 0 0 0 0 0 0 0}} {481 {{\\U0001F918 U+1F918 sign of the horns} {\\U0001F525 U+1F525 fire}} {0 0 0 0 0 0 0 0 0}} {490 {{\\U0001F602 U+1F602 face with tears of joy} {\\U0001F449 U+1F449 backhand index pointing right}} {0 0 0 0 0 0 0 0 0}} {28 {{\\U0001F695 U+1F695 taxi} {\\U0001F609 U+1F609 winking face}} {0 0 0 0 0 0 0 0 0}} {29 {{\\U0001F695 U+1F695 taxi} {\\U00002620 U+2620 skull and crossbones}} {0 0 0 0 0 0 0 0 0}} {34 {{\\U0001F447 U+1F447 backhand index pointing down} {\\U0001F602 U+1F602 face with tears of joy}} {0 0 0 0 0 0 0 0 0}} {46 {{\\U0001F449 U+1F449 backhand index pointing right} {\\U0001F525 U+1F525 fire}} {0 0 0 0 0 0 0 0 0}} {82 {{\\U00002764 U+2764 red heart} {\\U0001F449 U+1F449 backhand index pointing right}} {0 0 0 0 0 0 0 0 0}} {85 {{\\U0001F483 U+1F483 woman dancing} {\\U0001F6AB U+1F6AB prohibited}} {0 0 0 0 0 0 0 0 0}} {126 {{\\U0001F525 U+1F525 fire} {\\U0001F3A5 U+1F3A5 movie camera}} {0 0 0 0 0 0 0 0 0}} {142 {{\\U0001F447 U+1F447 backhand index pointing down} {\\U0001F1F3_\\U0001F1EC U+1F1F3_U+1F1EC Nigeria}} {0 0 0 0 0 0 0 0 0}} {154 {{\\U0001F62A U+1F62A sleepy face} {\\U0001F596 U+1F596 vulcan salute}} {0 0 0 0 0 0 0 0 0}} {184 {{\\U0001F64C U+1F64C raising hands} {\\U0001F525 U+1F525 fire}} {0 0 0 0 0 0 0 0 0}} {216 {{\\U0001F306 U+1F306 cityscape at dusk} {\\U0001F449 U+1F449 backhand index pointing right}} {0 0 0 0 0 0 0 0 0}} {238 {{\\U0001F4AF U+1F4AF hundred points} {\\U0001F440 U+1F440 eyes}} {0 0 0 0 0 0 0 0 0}} {248 {{\\U0001F3A7 U+1F3A7 headphone} {\\U0001F1F3_\\U0001F1EC U+1F1F3_U+1F1EC Nigeria}} {0 0 0 0 0 0 0 0 0}} {256 {{\\U0001F449 U+1F449 backhand index pointing right} {\\U0001F49E U+1F49E revolving hearts}} {0 0 0 0 0 0 0 0 0}} {258 {{\\U0001F4AF U+1F4AF hundred points} {\\U0001F463 U+1F463 footprints}} {0 0 0 0 0 0 0 0 0}} {272 {{\\U0001F307 U+1F307 sunset} {\\U0001F449 U+1F449 backhand index pointing right}} {0 0 0 0 0 0 0 0 0}} {285 {{\\U0001F3A5 U+1F3A5 movie camera} {\\U0000203C U+203C double exclamation mark}} {0 0 0 0 0 0 0 0 0}} {289 {{\\U0001F447 U+1F447 backhand index pointing down} {\\U0001F60D U+1F60D smiling face with heart-eyes}} {0 0 0 0 0 0 0 0 0}} {331 {{\\U0001F48B U+1F48B kiss mark} {\\U0001F449 U+1F449 backhand index pointing right}} {0 0 0 0 0 0 0 0 0}} {359 {{\\U0001F3A7 U+1F3A7 headphone} {\\U0001F525 U+1F525 fire}} {0 0 0 0 0 0 0 0 0}} {363 {{\\U00002764 U+2764 red heart} {\\U0001F501 U+1F501 repeat button}} {0 0 0 0 0 0 0 0 0}} {377 {{\\U0001F4AF U+1F4AF hundred points} {\\U0001F449 U+1F449 backhand index pointing right}} {0 0 0 0 0 0 0 0 0}} {379 {{\\U0001F449 U+1F449 backhand index pointing right} {\\U0000274C U+274C cross mark}} {0 0 0 0 0 0 0 0 0}} {392 {{\\U0001F44F U+1F44F clapping hands} {\\U000023E9 U+23E9 fast-forward button}} {0 0 0 0 0 0 0 0 0}} {396 {{\\U0001F49E U+1F49E revolving hearts} {\\U0001F448 U+1F448 backhand index pointing left}} {0 0 0 0 0 0 0 0 0}} {397 {{\\U000023ED U+23ED next track button} {\\U0001F44F U+1F44F clapping hands}} {0 0 0 0 0 0 0 0 0}} {418 {{\\U0001F3B6 U+1F3B6 musical notes} {\\U0001F449 U+1F449 backhand index pointing right}} {0 0 0 0 0 0 0 0 0}} {425 {{\\U0001F440 U+1F440 eyes} {\\U00002728 U+2728 sparkles}} {0 0 0 0 0 0 0 0 0}} {443 {{\\U0001F4AF U+1F4AF hundred points} {\\U0000270A U+270A raised fist}} {0 0 0 0 0 0 0 0 0}} {460 {{\\U0001F3B6 U+1F3B6 musical notes} {\\U0001F4AF U+1F4AF hundred points}} {0 0 0 0 0 0 0 0 0}} {468 {{\\U0001F648 U+1F648 see-no-evil monkey} {\\U0001F463 U+1F463 footprints}} {0 0 0 0 0 0 0 0 0}} {495 {{\\U0001F388 U+1F388 balloon} {\\U0001F449 U+1F449 backhand index pointing right}} {0 0 0 0 0 0 0 0 0}} {497 {{\\U0001F4E2 U+1F4E2 loudspeaker} {\\U0001F648 U+1F648 see-no-evil monkey}} {0 0 0 0 0 0 0 0 0}} {499 {{\\U0001F389 U+1F389 party popper} {\\U0001F525 U+1F525 fire}} {0 0 0 0 0 0 0 0 0}} {504 {{\\U0001F495 U+1F495 two hearts} {\\U0001F448 U+1F448 backhand index pointing left}} {0 0 0 0 0 0 0 0 0}} {24 {{\\U0001F60D U+1F60D smiling face with heart-eyes} {\\U0001F449 U+1F449 backhand index pointing right}} {0 0 0 0 0 0 0 0 0}} {83 {{\\U000000A9 U+00A9 copyright} {\\U0001F60D U+1F60D smiling face with heart-eyes}} {0 0 0 0 0 0 0 0 0}} {88 {{\\U0001F602 U+1F602 face with tears of joy} {\\U0001F525 U+1F525 fire}} {0 0 0 0 0 0 0 0 0}} {135 {{\\U0001F1F3_\\U0001F1EC U+1F1F3_U+1F1EC Nigeria} {\\U0001F3B6 U+1F3B6 musical notes}} {0 0 0 0 0 0 0 0 0}} {208 {{\\U000000A9 U+00A9 copyright} {\\U0001F49B U+1F49B yellow heart}} {0 0 0 0 0 0 0 0 0}} {217 {{\\U000027A1 U+27A1 right arrow} {\\U0001F44F U+1F44F clapping hands}} {0 0 0 0 0 0 0 0 0}} {243 {{\\U0001F447 U+1F447 backhand index pointing down} {\\U0001F525 U+1F525 fire}} {0 0 0 0 0 0 0 0 0}} {251 {{\\U000000A9 U+00A9 copyright} {\\U0001F60A U+1F60A smiling face with smiling eyes}} {0 0 0 0 0 0 0 0 0}} {267 {{\\U0001F4AF U+1F4AF hundred points} {\\U0001F303 U+1F303 night with stars}} {0 0 0 0 0 0 0 0 0}} {297 {{\\U0001F334 U+1F334 palm tree} {\\U0001F60D U+1F60D smiling face with heart-eyes}} {0 0 0 0 0 0 0 0 0}} {315 {{\\U0001F3B6 U+1F3B6 musical notes} {\\U0001F525 U+1F525 fire}} {0 0 0 0 0 0 0 0 0}} {337 {{\\U0001F648 U+1F648 see-no-evil monkey} {\\U0001F4AF U+1F4AF hundred points}} {0 0 0 0 0 0 0 0 0}} {355 {{\\U0001F64C U+1F64C raising hands} {\\U0001F629 U+1F629 weary face}} {0 0 0 0 0 0 0 0 0}} {368 {{\\U0001F496 U+1F496 sparkling heart} {\\U0001F449 U+1F449 backhand index pointing right}} {0 0 0 0 0 0 0 0 0}} {382 {{\\U0001F447 U+1F447 backhand index pointing down} {\\U0001F4F2 U+1F4F2 mobile phone with arrow}} {0 0 0 0 0 0 0 0 0}} {388 {{\\U0001F4A6 U+1F4A6 sweat droplets} {\\U0001F449 U+1F449 backhand index pointing right}} {0 0 0 0 0 0 0 0 0}} {403 {{\\U0001F448 U+1F448 backhand index pointing left} {\\U00002764 U+2764 red heart}} {0 0 0 0 0 0 0 0 0}} {407 {{\\U0001F44F U+1F44F clapping hands} {\\U000021AA U+21AA left arrow curving right}} {0 0 0 0 0 0 0 0 0}} {415 {{\\U0001F525 U+1F525 fire} {\\U0001F44F U+1F44F clapping hands}} {0 0 0 0 0 0 0 0 0}} {436 {{\\U00002728 U+2728 sparkles} {\\U0001F64F U+1F64F folded hands}} {0 0 0 0 0 0 0 0 0}} {451 {{\\U000000A9 U+00A9 copyright} {\\U0001F618 U+1F618 face blowing a kiss}} {0 0 0 0 0 0 0 0 0}} {453 {{\\U0001F44D U+1F44D thumbs up} {\\U0001F440 U+1F440 eyes}} {0 0 0 0 0 0 0 0 0}} {459 {{\\U0000267B U+267B recycling symbol} {\\U0001F4E2 U+1F4E2 loudspeaker}} {0 0 0 0 0 0 0 0 0}} {463 {{\\U0001F4E2 U+1F4E2 loudspeaker} {\\U0001F463 U+1F463 footprints}} {0 0 0 0 0 0 0 0 0}} {464 {{\\U0000203C U+203C double exclamation mark} {\\U0001F4CD U+1F4CD round pushpin}} {0 0 0 0 0 0 0 0 0}} {471 {{\\U0001F448 U+1F448 backhand index pointing left} {\\U00002728 U+2728 sparkles}} {0 0 0 0 0 0 0 0 0}} {480 {{\\U000000A9 U+00A9 copyright} {\\U0001F499 U+1F499 blue heart}} {0 0 0 0 0 0 0 0 0}} {482 {{\\U000000A9 U+00A9 copyright} {\\U0001F602 U+1F602 face with tears of joy}} {0 0 0 0 0 0 0 0 0}} {487 {{\\U0001F648 U+1F648 see-no-evil monkey} {\\U0000267B U+267B recycling symbol}} {0 0 0 0 0 0 0 0 0}} {489 {{\\U0001F649 U+1F649 hear-no-evil monkey} {\\U0000267B U+267B recycling symbol}} {0 0 0 0 0 0 0 0 0}} {491 {{\\U0000267B U+267B recycling symbol} {\\U0001F64A U+1F64A speak-no-evil monkey}} {0 0 0 0 0 0 0 0 0}}]\n"
     ]
    },
    {
     "data": {
      "text/plain": [
       "52419 <nil>"
      ]
     },
     "execution_count": 8,
     "metadata": {},
     "output_type": "execute_result"
    }
   ],
   "source": [
    "fmt.Println(emojisims)"
   ]
  },
  {
   "cell_type": "markdown",
   "metadata": {},
   "source": [
    "## 3. Process data"
   ]
  },
  {
   "cell_type": "markdown",
   "metadata": {},
   "source": [
    "#### select all the pair where le Human_Annotator_Agreement is greater than 3.5, meaning that the emojis are very  similar (0-4)\n"
   ]
  },
  {
   "cell_type": "markdown",
   "metadata": {},
   "source": [
    "and stock only the emoji tuple"
   ]
  },
  {
   "cell_type": "code",
   "execution_count": null,
   "metadata": {},
   "outputs": [],
   "source": []
  },
  {
   "cell_type": "code",
   "execution_count": 9,
   "metadata": {},
   "outputs": [],
   "source": [
    "var resultPairs []emojiTuple\n",
    "\n",
    "for _,val := range emojisims {\n",
    "    if val.EmojiPairSimilarity.HumanAnnotatorAgreement>3.5{\n",
    "        resultPairs = append(resultPairs,val.EmojiPair)\n",
    "    }\n",
    "}"
   ]
  },
  {
   "cell_type": "code",
   "execution_count": 10,
   "metadata": {},
   "outputs": [
    {
     "name": "stdout",
     "output_type": "stream",
     "text": [
      "0\n"
     ]
    },
    {
     "data": {
      "text/plain": [
       "2 <nil>"
      ]
     },
     "execution_count": 10,
     "metadata": {},
     "output_type": "execute_result"
    }
   ],
   "source": [
    "fmt.Println(len(resultPairs))"
   ]
  },
  {
   "cell_type": "markdown",
   "metadata": {},
   "source": [
    "#### save data to a file"
   ]
  },
  {
   "cell_type": "code",
   "execution_count": 11,
   "metadata": {},
   "outputs": [],
   "source": [
    "jsonString, err := json.Marshal(resultPairs)"
   ]
  },
  {
   "cell_type": "code",
   "execution_count": 12,
   "metadata": {},
   "outputs": [
    {
     "name": "stdout",
     "output_type": "stream",
     "text": [
      "null\n"
     ]
    },
    {
     "data": {
      "text/plain": [
       "5 <nil>"
      ]
     },
     "execution_count": 12,
     "metadata": {},
     "output_type": "execute_result"
    }
   ],
   "source": [
    "fmt.Println(string(jsonString))"
   ]
  },
  {
   "cell_type": "code",
   "execution_count": 13,
   "metadata": {},
   "outputs": [],
   "source": [
    "if err = ioutil.WriteFile(\"emojisSim.json\",jsonString,0755); err != nil{\n",
    "    fmt.Println(err)\n",
    "}"
   ]
  },
  {
   "cell_type": "code",
   "execution_count": null,
   "metadata": {},
   "outputs": [],
   "source": []
  },
  {
   "cell_type": "code",
   "execution_count": null,
   "metadata": {},
   "outputs": [],
   "source": []
  }
 ],
 "metadata": {
  "kernelspec": {
   "display_name": "Go",
   "language": "go",
   "name": "gophernotes"
  },
  "language_info": {
   "codemirror_mode": "",
   "file_extension": ".go",
   "mimetype": "",
   "name": "go",
   "nbconvert_exporter": "",
   "pygments_lexer": "",
   "version": "go1.10.1"
  }
 },
 "nbformat": 4,
 "nbformat_minor": 2
}
