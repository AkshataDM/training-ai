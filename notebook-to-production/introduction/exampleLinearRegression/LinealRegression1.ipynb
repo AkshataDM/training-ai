{
 "cells": [
  {
   "cell_type": "markdown",
   "metadata": {},
   "source": [
    "before you \n",
    "```\n",
    "$ go : cd $GOPATH/notebookUtils\n",
    "$ go build\n",
    "```"
   ]
  },
  {
   "cell_type": "markdown",
   "metadata": {},
   "source": [
    "### 1. import libraries"
   ]
  },
  {
   "cell_type": "code",
   "execution_count": 1,
   "metadata": {},
   "outputs": [],
   "source": [
    "\n",
    "import \"fmt\"\n",
    "import \"gonum.org/v1/gonum/blas/blas64\"\n",
    "import \"gonum.org/v1/gonum/mat\"\n",
    "import \"gonum.org/v1/gonum/stat\"\n",
    "import \"gonum.org/v1/plot\"\n",
    "import \"gonum.org/v1/plot/plotter\"\n",
    "import \"gonum.org/v1/plot/plotutil\"\n",
    "import \"gonum.org/v1/plot/vg\"\n",
    "import \"strings\"\n",
    "import \"strconv\"\n",
    "import \"github.com/kniren/gota/dataframe\"\n",
    "import \"os\"\n",
    "import \"encoding/csv\"\n",
    "import \"github.com/kniren/gota/series\"\n",
    "import \"math\"\n",
    "import \"image/color\"\n",
    "import \"training-ai/notebookUtils\""
   ]
  },
  {
   "cell_type": "markdown",
   "metadata": {},
   "source": [
    "#### 2. Load working csv file"
   ]
  },
  {
   "cell_type": "markdown",
   "metadata": {},
   "source": [
    "this time we use the utils created for this effect in training-ai/notebookUtils"
   ]
  },
  {
   "cell_type": "code",
   "execution_count": 2,
   "metadata": {},
   "outputs": [],
   "source": [
    "file, err := os.Open(\"../data/basketball.heigh.and.weigh.csv\")"
   ]
  },
  {
   "cell_type": "code",
   "execution_count": 3,
   "metadata": {},
   "outputs": [
    {
     "name": "stdout",
     "output_type": "stream",
     "text": [
      "<nil>\n"
     ]
    },
    {
     "data": {
      "text/plain": [
       "6 <nil>"
      ]
     },
     "execution_count": 3,
     "metadata": {},
     "output_type": "execute_result"
    }
   ],
   "source": [
    "fmt.Println(err)"
   ]
  },
  {
   "cell_type": "code",
   "execution_count": 4,
   "metadata": {},
   "outputs": [],
   "source": [
    "dataset := dataframe.ReadCSV(file)"
   ]
  },
  {
   "cell_type": "code",
   "execution_count": 5,
   "metadata": {},
   "outputs": [],
   "source": [
    "file.Close()"
   ]
  },
  {
   "cell_type": "code",
   "execution_count": 6,
   "metadata": {},
   "outputs": [
    {
     "name": "stdout",
     "output_type": "stream",
     "text": [
      "[1034x6] DataFrame\n",
      "\n",
      "    Name            Team     Position       Height(inches) Weight(pounds) ...\n",
      " 0: Adam_Donachie   BAL      Catcher        74             180            ...\n",
      " 1: Paul_Bako       BAL      Catcher        74             215            ...\n",
      " 2: Ramon_Hernandez BAL      Catcher        72             210            ...\n",
      " 3: Kevin_Millar    BAL      First_Baseman  72             210            ...\n",
      " 4: Chris_Gomez     BAL      First_Baseman  73             188            ...\n",
      " 5: Brian_Roberts   BAL      Second_Baseman 69             176            ...\n",
      " 6: Miguel_Tejada   BAL      Shortstop      69             209            ...\n",
      " 7: Melvin_Mora     BAL      Third_Baseman  71             200            ...\n",
      " 8: Aubrey_Huff     BAL      Third_Baseman  76             231            ...\n",
      " 9: Adam_Stern      BAL      Outfielder     71             180            ...\n",
      "    ...             ...      ...            ...            ...            ...\n",
      "    <string>        <string> <string>       <int>          <int>          ...\n",
      "\n",
      "Not Showing: Age <float>\n",
      "\n"
     ]
    },
    {
     "data": {
      "text/plain": [
       "1061 <nil>"
      ]
     },
     "execution_count": 6,
     "metadata": {},
     "output_type": "execute_result"
    }
   ],
   "source": [
    "fmt.Println(dataset)"
   ]
  },
  {
   "cell_type": "markdown",
   "metadata": {},
   "source": [
    "### We can select one or many columns of a dataFrame :"
   ]
  },
  {
   "cell_type": "code",
   "execution_count": 7,
   "metadata": {},
   "outputs": [
    {
     "name": "stdout",
     "output_type": "stream",
     "text": [
      "[BAL BAL BAL BAL BAL BAL BAL BAL BAL BAL BAL BAL BAL BAL BAL BAL BAL BAL BAL BAL BAL BAL BAL BAL BAL BAL BAL BAL BAL BAL BAL BAL BAL BAL BAL CWS CWS CWS CWS CWS CWS CWS CWS CWS CWS CWS CWS CWS CWS CWS CWS CWS CWS CWS CWS CWS CWS CWS CWS CWS CWS CWS CWS CWS CWS CWS CWS CWS ANA ANA ANA ANA ANA ANA ANA ANA ANA ANA ANA ANA ANA ANA ANA ANA ANA ANA ANA ANA ANA ANA ANA ANA ANA ANA ANA ANA ANA ANA ANA ANA ANA ANA ANA BOS BOS BOS BOS BOS BOS BOS BOS BOS BOS BOS BOS BOS BOS BOS BOS BOS BOS BOS BOS BOS BOS BOS BOS BOS BOS BOS BOS BOS BOS BOS BOS BOS BOS BOS BOS CLE CLE CLE CLE CLE CLE CLE CLE CLE CLE CLE CLE CLE CLE CLE CLE CLE CLE CLE CLE CLE CLE CLE CLE CLE CLE CLE CLE CLE CLE CLE CLE CLE CLE CLE OAK OAK OAK OAK OAK OAK OAK OAK OAK OAK OAK OAK OAK OAK OAK OAK OAK OAK OAK OAK OAK OAK OAK OAK OAK OAK OAK OAK OAK OAK OAK OAK OAK OAK OAK OAK OAK NYY NYY NYY NYY NYY NYY NYY NYY NYY NYY NYY NYY NYY NYY NYY NYY NYY NYY NYY NYY NYY NYY NYY NYY NYY NYY NYY NYY NYY NYY NYY NYY DET DET DET DET DET DET DET DET DET DET DET DET DET DET DET DET DET DET DET DET DET DET DET DET DET DET DET DET DET DET DET DET DET DET DET DET DET SEA SEA SEA SEA SEA SEA SEA SEA SEA SEA SEA SEA SEA SEA SEA SEA SEA SEA SEA SEA SEA SEA SEA SEA SEA SEA SEA SEA SEA SEA SEA SEA SEA SEA TB TB TB TB TB TB TB TB TB TB TB TB TB TB TB TB TB TB TB TB TB TB TB TB TB TB TB TB TB TB TB TB TB KC KC KC KC KC KC KC KC KC KC KC KC KC KC KC KC KC KC KC KC KC KC KC KC KC KC KC KC KC KC KC KC KC KC KC TEX TEX TEX TEX TEX TEX TEX TEX TEX TEX TEX TEX TEX TEX TEX TEX TEX TEX TEX TEX TEX TEX TEX TEX TEX TEX TEX TEX TEX TEX TEX TEX TEX TEX TEX TOR TOR TOR TOR TOR TOR TOR TOR TOR TOR TOR TOR TOR TOR TOR TOR TOR TOR TOR TOR TOR TOR TOR TOR TOR TOR TOR TOR TOR TOR TOR TOR TOR TOR MIN MIN MIN MIN MIN MIN MIN MIN MIN MIN MIN MIN MIN MIN MIN MIN MIN MIN MIN MIN MIN MIN MIN MIN MIN MIN MIN MIN MIN MIN MIN MIN MIN ATL ATL ATL ATL ATL ATL ATL ATL ATL ATL ATL ATL ATL ATL ATL ATL ATL ATL ATL ATL ATL ATL ATL ATL ATL ATL ATL ATL ATL ATL ATL ATL ATL ATL ATL ATL ATL CHC CHC CHC CHC CHC CHC CHC CHC CHC CHC CHC CHC CHC CHC CHC CHC CHC CHC CHC CHC CHC CHC CHC CHC CHC CHC CHC CHC CHC CHC CHC CHC CHC CHC CHC CHC ARZ ARZ ARZ ARZ ARZ ARZ ARZ ARZ ARZ ARZ ARZ ARZ ARZ ARZ ARZ ARZ ARZ ARZ ARZ ARZ ARZ ARZ ARZ ARZ ARZ ARZ ARZ ARZ FLA FLA FLA FLA FLA FLA FLA FLA FLA FLA FLA FLA FLA FLA FLA FLA FLA FLA FLA FLA FLA FLA FLA FLA FLA FLA FLA FLA FLA FLA FLA FLA CIN CIN CIN CIN CIN CIN CIN CIN CIN CIN CIN CIN CIN CIN CIN CIN CIN CIN CIN CIN CIN CIN CIN CIN CIN CIN CIN CIN CIN CIN CIN CIN CIN CIN CIN CIN COL COL COL COL COL COL COL COL COL COL COL COL COL COL COL COL COL COL COL COL COL COL COL COL COL COL COL COL COL COL COL COL COL COL COL NYM NYM NYM NYM NYM NYM NYM NYM NYM NYM NYM NYM NYM NYM NYM NYM NYM NYM NYM NYM NYM NYM NYM NYM NYM NYM NYM NYM NYM NYM NYM NYM NYM NYM NYM NYM NYM NYM HOU HOU HOU HOU HOU HOU HOU HOU HOU HOU HOU HOU HOU HOU HOU HOU HOU HOU HOU HOU HOU HOU HOU HOU HOU HOU HOU HOU HOU HOU HOU HOU HOU HOU LA LA LA LA LA LA LA LA LA LA LA LA LA LA LA LA LA LA LA LA LA LA LA LA LA LA LA LA LA LA LA LA LA PHI PHI PHI PHI PHI PHI PHI PHI PHI PHI PHI PHI PHI PHI PHI PHI PHI PHI PHI PHI PHI PHI PHI PHI PHI PHI PHI PHI PHI PHI PHI PHI PHI PHI PHI PHI MLW MLW MLW MLW MLW MLW MLW MLW MLW MLW MLW MLW MLW MLW MLW MLW MLW MLW MLW MLW MLW MLW MLW MLW MLW MLW MLW MLW MLW MLW MLW MLW MLW MLW MLW SD SD SD SD SD SD SD SD SD SD SD SD SD SD SD SD SD SD SD SD SD SD SD SD SD SD SD SD SD SD SD SD SD WAS WAS WAS WAS WAS WAS WAS WAS WAS WAS WAS WAS WAS WAS WAS WAS WAS WAS WAS WAS WAS WAS WAS WAS WAS WAS WAS WAS WAS WAS WAS WAS WAS WAS WAS WAS PIT PIT PIT PIT PIT PIT PIT PIT PIT PIT PIT PIT PIT PIT PIT PIT PIT PIT PIT PIT PIT PIT PIT PIT PIT PIT PIT PIT PIT PIT PIT PIT PIT PIT PIT SF SF SF SF SF SF SF SF SF SF SF SF SF SF SF SF SF SF SF SF SF SF SF SF SF SF SF SF SF SF SF SF SF SF STL STL STL STL STL STL STL STL STL STL STL STL STL STL STL STL STL STL STL STL STL STL STL STL STL STL STL STL STL STL STL STL]\n"
     ]
    },
    {
     "data": {
      "text/plain": [
       "3970 <nil>"
      ]
     },
     "execution_count": 7,
     "metadata": {},
     "output_type": "execute_result"
    }
   ],
   "source": [
    "fmt.Println(dataset.Col(\"Team\"))"
   ]
  },
  {
   "cell_type": "code",
   "execution_count": 8,
   "metadata": {},
   "outputs": [
    {
     "name": "stdout",
     "output_type": "stream",
     "text": [
      "[1034x2] DataFrame\n",
      "\n",
      "    Name            Position      \n",
      " 0: Adam_Donachie   Catcher       \n",
      " 1: Paul_Bako       Catcher       \n",
      " 2: Ramon_Hernandez Catcher       \n",
      " 3: Kevin_Millar    First_Baseman \n",
      " 4: Chris_Gomez     First_Baseman \n",
      " 5: Brian_Roberts   Second_Baseman\n",
      " 6: Miguel_Tejada   Shortstop     \n",
      " 7: Melvin_Mora     Third_Baseman \n",
      " 8: Aubrey_Huff     Third_Baseman \n",
      " 9: Adam_Stern      Outfielder    \n",
      "    ...             ...           \n",
      "    <string>        <string>      \n",
      "\n"
     ]
    },
    {
     "data": {
      "text/plain": [
       "476 <nil>"
      ]
     },
     "execution_count": 8,
     "metadata": {},
     "output_type": "execute_result"
    }
   ],
   "source": [
    "fmt.Println(dataset.Select([]string{\"Name\",\"Position\"}))"
   ]
  },
  {
   "cell_type": "markdown",
   "metadata": {},
   "source": [
    "##### select name, position and heigt for the Chicago White Sox "
   ]
  },
  {
   "cell_type": "code",
   "execution_count": 9,
   "metadata": {},
   "outputs": [],
   "source": [
    "filter := dataframe.F{\n",
    "    Colname:    \"Team\",\n",
    "    Comparator: series.Eq,\n",
    "    Comparando: \"CWS\",\n",
    "}"
   ]
  },
  {
   "cell_type": "code",
   "execution_count": 10,
   "metadata": {},
   "outputs": [
    {
     "name": "stdout",
     "output_type": "stream",
     "text": [
      "[33x3] DataFrame\n",
      "\n",
      "    Name              Position       Weight(pounds)\n",
      " 0: A.J._Pierzynski   Catcher        245           \n",
      " 1: Toby_Hall         Catcher        240           \n",
      " 2: Paul_Konerko      First_Baseman  215           \n",
      " 3: Tadahito_Iguchi   Second_Baseman 185           \n",
      " 4: Juan_Uribe        Shortstop      175           \n",
      " 5: Alex_Cintron      Shortstop      199           \n",
      " 6: Joe_Crede         Third_Baseman  200           \n",
      " 7: Josh_Fields       Third_Baseman  215           \n",
      " 8: Ryan_Sweeney      Outfielder     200           \n",
      " 9: Brian_N._Anderson Outfielder     205           \n",
      "    ...               ...            ...           \n",
      "    <string>          <string>       <int>         \n",
      "\n"
     ]
    },
    {
     "data": {
      "text/plain": [
       "695 <nil>"
      ]
     },
     "execution_count": 10,
     "metadata": {},
     "output_type": "execute_result"
    }
   ],
   "source": [
    "fmt.Println(dataset.Filter(filter).Select([]string{\"Name\",\"Position\",\"Weight(pounds)\"}))"
   ]
  },
  {
   "cell_type": "markdown",
   "metadata": {},
   "source": [
    "### Find the average width and heigh by team"
   ]
  },
  {
   "cell_type": "markdown",
   "metadata": {},
   "source": [
    "find all teams (no duplicated)"
   ]
  },
  {
   "cell_type": "code",
   "execution_count": 11,
   "metadata": {},
   "outputs": [],
   "source": [
    "teams :=dataset.Col(\"Team\").Records()"
   ]
  },
  {
   "cell_type": "code",
   "execution_count": 12,
   "metadata": {},
   "outputs": [],
   "source": [
    "teamsMap := make(map[string]string)\n",
    "for _,val := range teams {\n",
    "    teamsMap[val]=val\n",
    "}"
   ]
  },
  {
   "cell_type": "code",
   "execution_count": 13,
   "metadata": {},
   "outputs": [
    {
     "name": "stdout",
     "output_type": "stream",
     "text": [
      "map[SEA:SEA HOU:HOU MLW:MLW OAK:OAK ARZ:ARZ PIT:PIT BAL:BAL NYY:NYY TB:TB MIN:MIN CIN:CIN CWS:CWS ATL:ATL COL:COL STL:STL BOS:BOS TEX:TEX LA:LA SF:SF ANA:ANA DET:DET NYM:NYM KC:KC PHI:PHI SD:SD WAS:WAS CLE:CLE TOR:TOR CHC:CHC FLA:FLA]\n"
     ]
    },
    {
     "data": {
      "text/plain": [
       "235 <nil>"
      ]
     },
     "execution_count": 13,
     "metadata": {},
     "output_type": "execute_result"
    }
   ],
   "source": [
    "fmt.Println(teamsMap)"
   ]
  },
  {
   "cell_type": "markdown",
   "metadata": {},
   "source": [
    "For each team, find the average "
   ]
  },
  {
   "cell_type": "code",
   "execution_count": 14,
   "metadata": {},
   "outputs": [
    {
     "name": "stdout",
     "output_type": "stream",
     "text": [
      "CLE 201.65714285714284 74.08571428571429\n",
      "TOR 203.85294117647058 73.88235294117646\n",
      "CHC 204.13888888888889 74.13888888888889\n",
      "FLA 202.375 73.9375\n",
      "SEA 198.6764705882353 73.58823529411765\n",
      "HOU 198.05882352941177 72.97058823529412\n",
      "MLW 205.28571428571428 73.6\n",
      "OAK 198.97297297297297 73.27027027027027\n",
      "ARZ 208.07142857142858 73.67857142857143\n",
      "PIT 204.37142857142857 73.6\n",
      "BAL 196.34285714285716 73.48571428571428\n",
      "NYY 208.3125 74.34375\n",
      "TB 197.45454545454547 73.6969696969697\n",
      "MIN 201.1818181818182 73.0909090909091\n",
      "CIN NaN 73.66666666666667\n",
      "CWS 210.5151515151515 74.63636363636364\n",
      "ATL 199.51351351351352 73.83783783783784\n",
      "COL 198.37142857142857 73.94285714285714\n",
      "STL 201.625 73.625\n",
      "BOS 204.83333333333334 74.22222222222223\n",
      "TEX 202.6 74.08571428571429\n",
      "LA 203.87878787878788 73.36363636363636\n",
      "SF 202.7941176470588 73.55882352941177\n",
      "ANA 201.0857142857143 73.34285714285714\n",
      "DET 203.83783783783784 73.70270270270271\n",
      "NYM 197.21052631578948 72.94736842105263\n",
      "KC 195.9142857142857 73.51428571428572\n",
      "PHI 195.19444444444446 73.55555555555556\n",
      "SD 203.75757575757575 73.48484848484848\n",
      "WAS 199.75 74.13888888888889\n"
     ]
    }
   ],
   "source": [
    "for key :=range teamsMap{\n",
    "    filter := dataframe.F{\n",
    "    Colname:    \"Team\",\n",
    "    Comparator: series.Eq,\n",
    "    Comparando: key,\n",
    "}\n",
    "    fmt.Println(key, stat.Mean(dataset.Filter(filter).Col(\"Weight(pounds)\").Float(),nil),stat.Mean(dataset.Filter(filter).Col(\"Height(inches)\").Float(),nil) )\n",
    "}"
   ]
  },
  {
   "cell_type": "code",
   "execution_count": null,
   "metadata": {},
   "outputs": [],
   "source": []
  },
  {
   "cell_type": "markdown",
   "metadata": {},
   "source": [
    "#### Visualize the relationship between width and heigh"
   ]
  },
  {
   "cell_type": "code",
   "execution_count": 15,
   "metadata": {},
   "outputs": [],
   "source": [
    "plotGrid, err := plot.New()"
   ]
  },
  {
   "cell_type": "code",
   "execution_count": 16,
   "metadata": {},
   "outputs": [
    {
     "name": "stdout",
     "output_type": "stream",
     "text": [
      "<nil>\n"
     ]
    },
    {
     "data": {
      "text/plain": [
       "6 <nil>"
      ]
     },
     "execution_count": 16,
     "metadata": {},
     "output_type": "execute_result"
    }
   ],
   "source": [
    "fmt.Println(err)"
   ]
  },
  {
   "cell_type": "code",
   "execution_count": 17,
   "metadata": {},
   "outputs": [],
   "source": [
    "plotGrid.Title.Text = \"relationship between width and heigh\"\n",
    "plotGrid.Y.Label.Text = \"Weight\"\n",
    "plotGrid.X.Label.Text = \"Height\""
   ]
  },
  {
   "cell_type": "code",
   "execution_count": 18,
   "metadata": {},
   "outputs": [],
   "source": [
    "plotGrid.Add(plotter.NewGrid())"
   ]
  },
  {
   "cell_type": "code",
   "execution_count": 19,
   "metadata": {},
   "outputs": [],
   "source": [
    "\n",
    "widthsHeighs := dataset.Select([]string{\"Height(inches)\",\"Weight(pounds)\"})\n"
   ]
  },
  {
   "cell_type": "code",
   "execution_count": 20,
   "metadata": {},
   "outputs": [
    {
     "name": "stdout",
     "output_type": "stream",
     "text": [
      "[1034x2] DataFrame\n",
      "\n",
      "    Height(inches) Weight(pounds)\n",
      " 0: 74             180           \n",
      " 1: 74             215           \n",
      " 2: 72             210           \n",
      " 3: 72             210           \n",
      " 4: 73             188           \n",
      " 5: 69             176           \n",
      " 6: 69             209           \n",
      " 7: 71             200           \n",
      " 8: 76             231           \n",
      " 9: 71             180           \n",
      "    ...            ...           \n",
      "    <int>          <int>         \n",
      "\n"
     ]
    },
    {
     "data": {
      "text/plain": [
       "463 <nil>"
      ]
     },
     "execution_count": 20,
     "metadata": {},
     "output_type": "execute_result"
    }
   ],
   "source": [
    "fmt.Println(widthsHeighs)"
   ]
  },
  {
   "cell_type": "code",
   "execution_count": 21,
   "metadata": {},
   "outputs": [],
   "source": [
    "ptsPlot := make(plotter.XYs, widthsHeighs.Nrow())\n",
    "for i,val := range ptsPlot {\n",
    "    ptsPlot[i].X = widthsHeighs.Elem(i,0).Float()\n",
    "    ptsPlot[i].Y = widthsHeighs.Elem(i,1).Float()\n",
    "    if widthsHeighs.Elem(i,0).IsNA() {\n",
    "        ptsPlot[i].X = 0\n",
    "    }\n",
    "    if widthsHeighs.Elem(i,1).IsNA() {\n",
    "        ptsPlot[i].Y = 0\n",
    "    }\n",
    "}"
   ]
  },
  {
   "cell_type": "code",
   "execution_count": 22,
   "metadata": {},
   "outputs": [
    {
     "name": "stdout",
     "output_type": "stream",
     "text": [
      "[{74 180} {74 215} {72 210} {72 210} {73 188} {69 176} {69 209} {71 200} {76 231} {71 180} {73 188} {73 180} {74 185} {74 160} {69 180} {70 185} {72 197} {73 189} {75 185} {78 219} {79 230} {76 205} {74 230} {76 195} {72 180} {71 192} {75 225} {77 203} {74 195} {73 182} {74 188} {78 200} {73 180} {75 200} {73 200} {75 245} {75 240} {74 215} {69 185} {71 175} {74 199} {73 200} {73 215} {76 200} {74 205} {74 206} {70 186} {72 188} {77 220} {74 210} {70 195} {76 244} {75 195} {73 200} {75 200} {76 212} {76 224} {78 210} {74 205} {74 220} {76 195} {77 200} {81 260} {78 228} {75 270} {77 200} {75 210} {76 190} {74 220} {72 180} {72 205} {75 210} {73 220} {73 211} {73 200} {70 180} {70 190} {70 170} {76 230} {68 155} {71 185} {72 185} {75 200} {75 225} {75 225} {75 220} {68 160} {74 205} {78 235} {71 250} {73 210} {76 190} {74 160} {74 200} {79 205} {75 222} {73 195} {76 205} {74 220} {74 220} {73 170} {72 185} {74 195} {73 220} {74 230} {72 180} {73 220} {69 180} {72 180} {73 170} {75 210} {75 215} {73 200} {72 213} {72 180} {76 192} {74 235} {72 185} {76 230} {77 235} {74 210} {77 222} {75 210} {76 230} {80 220} {74 180} {74 190} {75 200} {78 210} {73 194} {73 180} {74 190} {75 240} {76 200} {71 198} {73 200} {74 195} {76 210} {76 220} {74 190} {73 210} {74 225} {70 180} {72 185} {73 170} {73 185} {73 185} {73 180} {71 178} {74 175} {74 200} {72 204} {74 211} {71 190} {74 210} {75 240} {73 190} {75 190} {75 185} {79 290} {73 175} {75 185} {76 200} {74 220} {76 170} {78 220} {74 190} {76 220} {72 205} {74 200} {76 250} {74 225} {75 215} {78 210} {75 215} {72 195} {74 200} {72 194} {74 220} {70 180} {71 180} {70 170} {75 195} {71 180} {71 170} {73 206} {72 205} {71 200} {73 225} {72 201} {75 225} {70 226} {74 233} {74 180} {75 225} {73 180} {77 220} {73 180} {76 237} {75 215} {74 190} {76 235} {75 190} {73 180} {71 165} {76 195} {75 200} {72 190} {71 190} {77 185} {73 185} {74 205} {71 190} {72 205} {74 206} {75 220} {73 208} {72 170} {75 195} {75 210} {74 190} {72 211} {74 230} {71 170} {70 185} {75 230} {74 185} {77 241} {77 225} {75 210} {75 175} {78 230} {75 200} {76 215} {73 198} {75 226} {75 278} {79 215} {77 230} {76 240} {71 184} {75 219} {74 170} {69 218} {71 190} {76 225} {72 220} {72 176} {70 190} {72 197} {73 204} {71 167} {72 180} {71 195} {73 220} {72 215} {73 185} {74 190} {74 205} {72 205} {73 200} {75 200} {74 210} {74 215} {77 200} {75 205} {73 211} {72 190} {71 208} {74 200} {77 210} {75 232} {75 230} {75 210} {78 220} {78 210} {74 202} {76 212} {78 225} {76 170} {70 190} {72 200} {80 237} {74 220} {74 170} {71 193} {70 190} {72 150} {71 220} {74 200} {71 190} {72 185} {71 185} {74 200} {69 172} {76 220} {75 225} {75 190} {76 195} {73 219} {76 190} {73 197} {77 200} {73 195} {72 210} {72 177} {77 220} {77 235} {71 180} {74 195} {74 195} {73 190} {78 230} {75 190} {73 200} {70 190} {74 190} {72 200} {73 200} {73 184} {75 200} {75 180} {74 219} {76 187} {73 200} {74 220} {75 205} {73 205} {75 190} {72 170} {73 160} {73 215} {72 175} {74 205} {78 200} {76 214} {73 200} {74 190} {75 180} {70 205} {75 220} {71 190} {72 215} {78 235} {75 191} {73 200} {73 181} {71 200} {75 210} {77 240} {72 185} {69 165} {73 190} {74 185} {72 175} {70 155} {75 210} {70 170} {72 175} {72 220} {74 210} {73 205} {74 200} {75 225} {76 205} {75 195} {80 240} {72 150} {75 200} {73 215} {74 202} {74 200} {73 190} {75 205} {75 190} {71 160} {73 215} {75 185} {74 200} {74 190} {72 210} {74 185} {74 220} {74 190} {73 202} {76 205} {75 220} {72 175} {73 160} {73 190} {73 200} {72 229} {72 206} {72 220} {72 180} {71 195} {75 175} {77 250} {75 188} {74 230} {73 190} {75 200} {79 190} {74 219} {76 235} {73 180} {74 180} {74 180} {72 200} {74 234} {74 185} {75 220} {78 223} {74 200} {74 210} {74 200} {77 210} {70 190} {73 177} {74 227} {73 180} {71 195} {75 199} {71 175} {72 185} {77 240} {74 210} {70 180} {77 194} {73 225} {77 275} {74 195} {72 180} {76 205} {71 193} {76 230} {78 230} {75 220} {73 200} {78 249} {74 190} {79 208} {75 245} {76 250} {72 160} {75 192} {75 220} {70 170} {72 197} {70 155} {74 190} {71 200} {76 220} {73 210} {76 228} {71 190} {69 160} {72 184} {72 180} {69 180} {73 200} {69 176} {73 160} {74 222} {74 211} {72 195} {71 200} {74 210} {73 225} {72 175} {72 206} {76 240} {76 185} {76 260} {74 185} {76 221} {75 205} {71 200} {72 170} {71 201} {73 205} {75 185} {76 205} {75 245} {71 220} {75 210} {74 220} {72 185} {73 175} {73 170} {73 180} {73 200} {76 210} {72 175} {76 220} {73 206} {73 180} {73 210} {75 195} {75 200} {77 200} {73 164} {72 180} {75 220} {70 195} {74 205} {72 170} {80 240} {71 210} {71 195} {74 200} {74 205} {73 192} {75 190} {76 170} {73 240} {77 200} {72 205} {73 175} {77 250} {76 220} {71 224} {75 210} {73 195} {74 180} {77 245} {71 175} {72 180} {73 215} {69 175} {73 180} {70 195} {74 230} {76 230} {73 205} {73 215} {75 195} {73 180} {79 205} {74 180} {73 190} {74 180} {77 190} {75 190} {74 220} {73 210} {77 255} {73 190} {77 230} {74 200} {74 205} {73 210} {77 225} {74 215} {77 220} {75 205} {77 200} {75 220} {71 197} {74 225} {70 187} {79 245} {72 185} {72 185} {70 175} {74 200} {74 180} {72 188} {73 225} {72 200} {74 210} {74 245} {76 213} {82 231} {74 165} {74 228} {70 210} {73 250} {73 191} {74 190} {77 200} {72 215} {76 254} {73 232} {73 180} {72 215} {74 220} {74 180} {71 200} {72 170} {75 195} {74 210} {74 200} {77 220} {70 165} {71 180} {73 200} {76 200} {71 170} {75 224} {74 220} {72 180} {76 198} {79 240} {76 239} {73 185} {76 210} {78 220} {75 200} {76 195} {72 220} {72 230} {73 170} {73 220} {75 230} {71 165} {76 205} {70 192} {75 210} {74 205} {75 200} {73 210} {71 185} {71 195} {72 202} {73 205} {73 195} {72 180} {69 200} {73 185} {78 240} {71 185} {73 220} {75 205} {76 205} {70 180} {74 201} {77 190} {75 208} {79 240} {72 0} {72 180} {77 230} {73 195} {75 215} {75 190} {75 195} {73 215} {73 215} {76 220} {77 220} {75 230} {70 195} {71 190} {71 195} {75 209} {74 204} {69 170} {70 185} {75 205} {72 175} {75 210} {73 190} {72 180} {72 180} {72 160} {76 235} {75 200} {74 210} {75 224} {69 180} {73 190} {72 197} {72 203} {75 205} {77 170} {76 200} {80 250} {77 200} {76 220} {79 200} {71 190} {75 170} {73 190} {76 220} {77 215} {73 206} {76 215} {70 185} {75 235} {73 188} {75 230} {70 195} {69 168} {71 190} {72 160} {72 200} {73 200} {70 189} {70 180} {73 190} {76 200} {75 220} {72 187} {73 240} {79 190} {71 180} {72 185} {74 210} {74 220} {74 219} {72 190} {76 193} {76 175} {72 180} {72 215} {71 210} {72 200} {72 190} {70 185} {77 220} {74 170} {72 195} {76 205} {71 195} {76 210} {71 190} {73 190} {70 180} {73 220} {73 190} {72 186} {71 185} {71 190} {71 180} {72 190} {72 170} {74 210} {74 240} {74 220} {71 180} {72 210} {75 210} {72 195} {71 160} {72 180} {72 205} {72 200} {72 185} {74 245} {74 190} {77 210} {75 200} {73 200} {75 222} {73 215} {76 240} {72 170} {77 220} {75 156} {72 190} {71 202} {71 221} {75 200} {72 190} {73 210} {73 190} {71 200} {70 165} {75 190} {71 185} {76 230} {73 208} {68 209} {71 175} {72 180} {74 200} {77 205} {72 200} {76 250} {78 210} {81 230} {72 244} {73 202} {76 240} {72 200} {72 215} {74 177} {76 210} {73 170} {76 215} {75 217} {70 198} {71 200} {74 220} {72 170} {73 200} {76 230} {76 231} {73 183} {71 192} {68 167} {71 190} {71 180} {74 180} {77 215} {69 160} {72 205} {76 223} {73 205} {75 175} {76 170} {75 190} {76 240} {72 175} {74 230} {76 223} {74 196} {72 167} {75 195} {78 190} {77 250} {70 190} {72 190} {79 190} {74 170} {71 160} {68 150} {77 225} {75 220} {71 209} {72 210} {70 176} {72 260} {72 195} {73 190} {72 184} {74 180} {72 195} {72 195} {75 219} {72 225} {73 212} {74 202} {72 185} {78 200} {75 209} {72 200} {74 195} {75 228} {75 210} {76 190} {74 212} {74 190} {73 218} {74 220} {71 190} {74 235} {75 210} {76 200} {74 188} {76 210} {76 235} {73 188} {75 215} {75 216} {74 220} {68 180} {72 185} {75 200} {71 210} {70 220} {72 185} {73 231} {72 210} {75 195} {74 200} {70 205} {73 200} {76 200} {71 190} {82 250} {72 185} {73 180} {74 170} {71 180} {75 208} {77 235} {72 215} {74 244} {72 220} {73 185} {78 230} {77 190} {73 200} {73 180} {73 190} {73 196} {73 180} {76 230} {75 224} {70 160} {73 178} {72 205} {73 185} {75 210} {74 180} {73 190} {73 200} {76 257} {73 190} {75 220} {70 165} {77 205} {72 200} {77 208} {74 185} {75 215} {75 170} {75 235} {75 210} {72 170} {74 180} {71 170} {76 190} {71 150} {75 230} {76 203} {83 260} {75 246} {74 186} {76 210} {72 198} {72 210} {75 215} {75 180} {72 200} {77 245} {73 200} {72 192} {70 192} {74 200} {72 192} {74 205} {72 190} {71 186} {70 170} {71 197} {76 219} {74 200} {76 220} {74 207} {74 225} {74 207} {75 212} {75 225} {71 170} {71 190} {74 210} {77 230} {71 210} {74 200} {75 238} {77 234} {76 222} {74 200} {76 190} {72 170} {71 220} {72 223} {75 210} {73 215} {68 196} {72 175} {69 175} {73 189} {73 205} {75 210} {70 180} {70 180} {74 197} {75 220} {74 228} {74 190} {73 204} {74 165} {75 216} {77 220} {73 208} {74 210} {76 215} {74 195} {75 200} {73 215} {76 229} {78 240} {75 207} {73 205} {77 208} {74 185} {72 190} {74 170} {72 208} {71 225} {73 190} {75 225} {73 185} {67 180} {67 165} {76 240} {74 220} {73 212} {70 163} {75 215} {70 175} {72 205} {77 210} {79 205} {78 208} {74 215} {75 180} {75 200} {78 230} {76 211} {75 230} {69 190} {75 220} {72 180} {75 205} {73 190} {74 180} {75 205} {75 190} {73 195}]\n"
     ]
    },
    {
     "data": {
      "text/plain": [
       "9306 <nil>"
      ]
     },
     "execution_count": 22,
     "metadata": {},
     "output_type": "execute_result"
    }
   ],
   "source": [
    "    fmt.Println(ptsPlot)"
   ]
  },
  {
   "cell_type": "code",
   "execution_count": null,
   "metadata": {},
   "outputs": [],
   "source": []
  },
  {
   "cell_type": "code",
   "execution_count": 23,
   "metadata": {},
   "outputs": [],
   "source": [
    "s, err := plotter.NewScatter(ptsPlot)"
   ]
  },
  {
   "cell_type": "code",
   "execution_count": 24,
   "metadata": {},
   "outputs": [
    {
     "name": "stdout",
     "output_type": "stream",
     "text": [
      "<nil>\n"
     ]
    },
    {
     "data": {
      "text/plain": [
       "6 <nil>"
      ]
     },
     "execution_count": 24,
     "metadata": {},
     "output_type": "execute_result"
    }
   ],
   "source": [
    "fmt.Println(err)"
   ]
  },
  {
   "cell_type": "code",
   "execution_count": 25,
   "metadata": {},
   "outputs": [],
   "source": [
    "s.GlyphStyle.Color = color.RGBA{R: 255, B: 128, A: 255}"
   ]
  },
  {
   "cell_type": "code",
   "execution_count": 26,
   "metadata": {},
   "outputs": [],
   "source": [
    "plotGrid.Add(s)"
   ]
  },
  {
   "cell_type": "code",
   "execution_count": 27,
   "metadata": {},
   "outputs": [],
   "source": [
    "if err := plotGrid.Save(4*vg.Inch, 4*vg.Inch, \"wvsh1.png\"); err != nil {\n",
    "\t\tpanic(err)\n",
    "}\n"
   ]
  },
  {
   "cell_type": "code",
   "execution_count": 28,
   "metadata": {},
   "outputs": [],
   "source": [
    "graph1, err :=notebookUtils.GetGraph(\"wvsh1.png\")"
   ]
  },
  {
   "cell_type": "code",
   "execution_count": 29,
   "metadata": {},
   "outputs": [
    {
     "name": "stdout",
     "output_type": "stream",
     "text": [
      "<nil>\n"
     ]
    },
    {
     "data": {
      "text/plain": [
       "6 <nil>"
      ]
     },
     "execution_count": 29,
     "metadata": {},
     "output_type": "execute_result"
    }
   ],
   "source": [
    "fmt.Println(err)"
   ]
  },
  {
   "cell_type": "code",
   "execution_count": 30,
   "metadata": {},
   "outputs": [
    {
     "data": {
      "image/png": "[encoded data removed]",
      "text/plain": [
       "png image"
      ]
     },
     "execution_count": 30,
     "metadata": {},
     "output_type": "execute_result"
    }
   ],
   "source": [
    "display.PNG(graph1)"
   ]
  },
  {
   "cell_type": "code",
   "execution_count": null,
   "metadata": {},
   "outputs": [],
   "source": []
  },
  {
   "cell_type": "code",
   "execution_count": null,
   "metadata": {},
   "outputs": [],
   "source": []
  },
  {
   "cell_type": "code",
   "execution_count": null,
   "metadata": {},
   "outputs": [],
   "source": []
  },
  {
   "cell_type": "code",
   "execution_count": null,
   "metadata": {},
   "outputs": [],
   "source": []
  },
  {
   "cell_type": "code",
   "execution_count": null,
   "metadata": {},
   "outputs": [],
   "source": []
  },
  {
   "cell_type": "code",
   "execution_count": null,
   "metadata": {},
   "outputs": [],
   "source": []
  },
  {
   "cell_type": "markdown",
   "metadata": {},
   "source": [
    "now we are going to transpose the string matrix. this time we use the utils created for this effect in training-ai/notebookUtils"
   ]
  },
  {
   "cell_type": "code",
   "execution_count": null,
   "metadata": {},
   "outputs": [],
   "source": []
  },
  {
   "cell_type": "code",
   "execution_count": null,
   "metadata": {},
   "outputs": [],
   "source": []
  },
  {
   "cell_type": "markdown",
   "metadata": {},
   "source": [
    "Now we are going to take only the information we would like to analyse: attacker size, deffender size, attacker outcome and summer\n"
   ]
  },
  {
   "cell_type": "code",
   "execution_count": null,
   "metadata": {},
   "outputs": [],
   "source": [
    "\n"
   ]
  },
  {
   "cell_type": "code",
   "execution_count": null,
   "metadata": {},
   "outputs": [],
   "source": []
  },
  {
   "cell_type": "code",
   "execution_count": null,
   "metadata": {},
   "outputs": [],
   "source": []
  },
  {
   "cell_type": "code",
   "execution_count": null,
   "metadata": {},
   "outputs": [],
   "source": []
  },
  {
   "cell_type": "code",
   "execution_count": null,
   "metadata": {},
   "outputs": [],
   "source": []
  },
  {
   "cell_type": "code",
   "execution_count": null,
   "metadata": {},
   "outputs": [],
   "source": []
  },
  {
   "cell_type": "code",
   "execution_count": null,
   "metadata": {},
   "outputs": [],
   "source": []
  }
 ],
 "metadata": {
  "kernelspec": {
   "display_name": "Go",
   "language": "go",
   "name": "gophernotes"
  },
  "language_info": {
   "codemirror_mode": "",
   "file_extension": ".go",
   "mimetype": "",
   "name": "go",
   "nbconvert_exporter": "",
   "pygments_lexer": "",
   "version": "go1.10.1"
  }
 },
 "nbformat": 4,
 "nbformat_minor": 2
}
